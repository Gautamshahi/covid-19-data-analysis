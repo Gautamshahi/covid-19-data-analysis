{
 "cells": [
  {
   "cell_type": "code",
   "execution_count": 1,
   "metadata": {},
   "outputs": [
    {
     "name": "stderr",
     "output_type": "stream",
     "text": [
      "/home/local/cs/local/install/anaconda3-5.3.1-Linux-x86_64/envs/py36ds/lib/python3.6/site-packages/dask/config.py:168: YAMLLoadWarning: calling yaml.load() without Loader=... is deprecated, as the default Loader is unsafe. Please read https://msg.pyyaml.org/load for full details.\n",
      "  data = yaml.load(f.read()) or {}\n",
      "/home/local/cs/local/install/anaconda3-5.3.1-Linux-x86_64/envs/py36ds/lib/python3.6/site-packages/distributed/config.py:20: YAMLLoadWarning: calling yaml.load() without Loader=... is deprecated, as the default Loader is unsafe. Please read https://msg.pyyaml.org/load for full details.\n",
      "  defaults = yaml.load(f)\n"
     ]
    },
    {
     "name": "stdout",
     "output_type": "stream",
     "text": [
      "cs224 \n",
      "last updated: 2020-03-12 \n",
      "\n",
      "CPython 3.6.8\n",
      "IPython 7.3.0\n",
      "\n",
      "numpy 1.16.2\n",
      "xarray 0.11.3\n",
      "scipy 1.2.1\n",
      "pandas 0.24.2\n",
      "sklearn 0.20.3\n",
      "matplotlib 3.0.3\n",
      "seaborn 0.9.0\n",
      "pymc3 3.8\n",
      "lifelines 0.24.1\n"
     ]
    }
   ],
   "source": [
    "%load_ext watermark\n",
    "%watermark -a 'cs224' -u -d -v -p numpy,xarray,scipy,pandas,sklearn,matplotlib,seaborn,pymc3,lifelines"
   ]
  },
  {
   "cell_type": "code",
   "execution_count": 2,
   "metadata": {},
   "outputs": [],
   "source": [
    "%matplotlib inline\n",
    "import numpy as np, scipy, scipy.stats as stats, scipy.special, scipy.misc, pandas as pd, matplotlib.pyplot as plt, seaborn as sns, xarray as xr\n",
    "import matplotlib as mpl\n",
    "\n",
    "import pymc3 as pm\n",
    "\n",
    "import theano as thno\n",
    "import theano.tensor as T\n",
    "\n",
    "import datetime, time, math\n",
    "from dateutil import relativedelta\n",
    "\n",
    "from collections import OrderedDict\n",
    "\n",
    "SEED = 41\n",
    "np.random.seed(SEED)\n",
    "\n",
    "pd.set_option('display.max_columns', 500)\n",
    "pd.set_option('display.width', 1000)\n",
    "# pd.set_option('display.float_format', lambda x: '%.2f' % x)\n",
    "np.set_printoptions(edgeitems=10)\n",
    "np.set_printoptions(linewidth=1000)\n",
    "np.set_printoptions(suppress=True)\n",
    "np.core.arrayprint._line_width = 180\n",
    "\n",
    "sns.set()"
   ]
  },
  {
   "cell_type": "code",
   "execution_count": 3,
   "metadata": {},
   "outputs": [
    {
     "data": {
      "text/html": [
       "<style>.container { width:70% !important; }</style>"
      ],
      "text/plain": [
       "<IPython.core.display.HTML object>"
      ]
     },
     "metadata": {},
     "output_type": "display_data"
    }
   ],
   "source": [
    "from IPython.display import display, HTML\n",
    "\n",
    "from IPython.display import display_html\n",
    "def display_side_by_side(*args):\n",
    "    html_str=''\n",
    "    for df in args:\n",
    "        if type(df) == np.ndarray:\n",
    "            df = pd.DataFrame(df)\n",
    "        html_str+=df.to_html()\n",
    "    html_str = html_str.replace('table','table style=\"display:inline\"')\n",
    "    # print(html_str)\n",
    "    display_html(html_str,raw=True)\n",
    "\n",
    "CSS = \"\"\"\n",
    ".output {\n",
    "    flex-direction: row;\n",
    "}\n",
    "\"\"\"\n",
    "\n",
    "def display_graphs_side_by_side(*args):\n",
    "    html_str='<table><tr>'\n",
    "    for g in args:\n",
    "        html_str += '<td>'\n",
    "        html_str += g._repr_svg_()\n",
    "        html_str += '</td>'\n",
    "    html_str += '</tr></table>'\n",
    "    display_html(html_str,raw=True)\n",
    "    \n",
    "\n",
    "display(HTML(\"<style>.container { width:70% !important; }</style>\"))"
   ]
  },
  {
   "cell_type": "code",
   "execution_count": 4,
   "metadata": {},
   "outputs": [],
   "source": [
    "fname = 'https://raw.githubusercontent.com/CSSEGISandData/COVID-19/master/csse_covid_19_data/csse_covid_19_time_series/time_series_19-covid-Confirmed.csv'\n",
    "time_series_19_covid_confirmed = pd.read_csv(fname)\n",
    "fname = 'https://raw.githubusercontent.com/CSSEGISandData/COVID-19/master/csse_covid_19_data/csse_covid_19_time_series/time_series_19-covid-Recovered.csv'\n",
    "time_series_19_covid_recovered = pd.read_csv(fname)\n",
    "fname = 'https://raw.githubusercontent.com/CSSEGISandData/COVID-19/master/csse_covid_19_data/csse_covid_19_time_series/time_series_19-covid-Deaths.csv'\n",
    "time_series_19_covid_death = pd.read_csv(fname)"
   ]
  },
  {
   "cell_type": "code",
   "execution_count": 5,
   "metadata": {},
   "outputs": [
    {
     "data": {
      "text/html": [
       "<div>\n",
       "<style scoped>\n",
       "    .dataframe tbody tr th:only-of-type {\n",
       "        vertical-align: middle;\n",
       "    }\n",
       "\n",
       "    .dataframe tbody tr th {\n",
       "        vertical-align: top;\n",
       "    }\n",
       "\n",
       "    .dataframe thead th {\n",
       "        text-align: right;\n",
       "    }\n",
       "</style>\n",
       "<table border=\"1\" class=\"dataframe\">\n",
       "  <thead>\n",
       "    <tr style=\"text-align: right;\">\n",
       "      <th></th>\n",
       "      <th>Province/State</th>\n",
       "      <th>Country/Region</th>\n",
       "      <th>Lat</th>\n",
       "      <th>Long</th>\n",
       "      <th>1/22/20</th>\n",
       "      <th>1/23/20</th>\n",
       "      <th>1/24/20</th>\n",
       "      <th>1/25/20</th>\n",
       "      <th>1/26/20</th>\n",
       "      <th>1/27/20</th>\n",
       "      <th>1/28/20</th>\n",
       "      <th>1/29/20</th>\n",
       "      <th>1/30/20</th>\n",
       "      <th>1/31/20</th>\n",
       "      <th>2/1/20</th>\n",
       "      <th>2/2/20</th>\n",
       "      <th>2/3/20</th>\n",
       "      <th>2/4/20</th>\n",
       "      <th>2/5/20</th>\n",
       "      <th>2/6/20</th>\n",
       "      <th>2/7/20</th>\n",
       "      <th>2/8/20</th>\n",
       "      <th>2/9/20</th>\n",
       "      <th>2/10/20</th>\n",
       "      <th>2/11/20</th>\n",
       "      <th>2/12/20</th>\n",
       "      <th>2/13/20</th>\n",
       "      <th>2/14/20</th>\n",
       "      <th>2/15/20</th>\n",
       "      <th>2/16/20</th>\n",
       "      <th>2/17/20</th>\n",
       "      <th>2/18/20</th>\n",
       "      <th>2/19/20</th>\n",
       "      <th>2/20/20</th>\n",
       "      <th>2/21/20</th>\n",
       "      <th>2/22/20</th>\n",
       "      <th>2/23/20</th>\n",
       "      <th>2/24/20</th>\n",
       "      <th>2/25/20</th>\n",
       "      <th>2/26/20</th>\n",
       "      <th>2/27/20</th>\n",
       "      <th>2/28/20</th>\n",
       "      <th>2/29/20</th>\n",
       "      <th>3/1/20</th>\n",
       "      <th>3/2/20</th>\n",
       "      <th>3/3/20</th>\n",
       "      <th>3/4/20</th>\n",
       "      <th>3/5/20</th>\n",
       "      <th>3/6/20</th>\n",
       "      <th>3/7/20</th>\n",
       "      <th>3/8/20</th>\n",
       "      <th>3/9/20</th>\n",
       "      <th>3/10/20</th>\n",
       "      <th>3/11/20</th>\n",
       "    </tr>\n",
       "  </thead>\n",
       "  <tbody>\n",
       "    <tr>\n",
       "      <th>0</th>\n",
       "      <td>NaN</td>\n",
       "      <td>Thailand</td>\n",
       "      <td>15.0000</td>\n",
       "      <td>101.0000</td>\n",
       "      <td>2</td>\n",
       "      <td>3</td>\n",
       "      <td>5</td>\n",
       "      <td>7</td>\n",
       "      <td>8</td>\n",
       "      <td>8</td>\n",
       "      <td>14</td>\n",
       "      <td>14</td>\n",
       "      <td>14</td>\n",
       "      <td>19</td>\n",
       "      <td>19</td>\n",
       "      <td>19</td>\n",
       "      <td>19</td>\n",
       "      <td>25</td>\n",
       "      <td>25</td>\n",
       "      <td>25</td>\n",
       "      <td>25</td>\n",
       "      <td>32</td>\n",
       "      <td>32</td>\n",
       "      <td>32</td>\n",
       "      <td>33</td>\n",
       "      <td>33</td>\n",
       "      <td>33</td>\n",
       "      <td>33</td>\n",
       "      <td>33</td>\n",
       "      <td>34</td>\n",
       "      <td>35</td>\n",
       "      <td>35</td>\n",
       "      <td>35</td>\n",
       "      <td>35</td>\n",
       "      <td>35</td>\n",
       "      <td>35</td>\n",
       "      <td>35</td>\n",
       "      <td>35</td>\n",
       "      <td>37</td>\n",
       "      <td>40</td>\n",
       "      <td>40</td>\n",
       "      <td>41</td>\n",
       "      <td>42</td>\n",
       "      <td>42</td>\n",
       "      <td>43</td>\n",
       "      <td>43</td>\n",
       "      <td>43</td>\n",
       "      <td>47</td>\n",
       "      <td>48</td>\n",
       "      <td>50</td>\n",
       "      <td>50</td>\n",
       "      <td>50</td>\n",
       "      <td>53</td>\n",
       "      <td>59</td>\n",
       "    </tr>\n",
       "    <tr>\n",
       "      <th>1</th>\n",
       "      <td>NaN</td>\n",
       "      <td>Japan</td>\n",
       "      <td>36.0000</td>\n",
       "      <td>138.0000</td>\n",
       "      <td>2</td>\n",
       "      <td>1</td>\n",
       "      <td>2</td>\n",
       "      <td>2</td>\n",
       "      <td>4</td>\n",
       "      <td>4</td>\n",
       "      <td>7</td>\n",
       "      <td>7</td>\n",
       "      <td>11</td>\n",
       "      <td>15</td>\n",
       "      <td>20</td>\n",
       "      <td>20</td>\n",
       "      <td>20</td>\n",
       "      <td>22</td>\n",
       "      <td>22</td>\n",
       "      <td>45</td>\n",
       "      <td>25</td>\n",
       "      <td>25</td>\n",
       "      <td>26</td>\n",
       "      <td>26</td>\n",
       "      <td>26</td>\n",
       "      <td>28</td>\n",
       "      <td>28</td>\n",
       "      <td>29</td>\n",
       "      <td>43</td>\n",
       "      <td>59</td>\n",
       "      <td>66</td>\n",
       "      <td>74</td>\n",
       "      <td>84</td>\n",
       "      <td>94</td>\n",
       "      <td>105</td>\n",
       "      <td>122</td>\n",
       "      <td>147</td>\n",
       "      <td>159</td>\n",
       "      <td>170</td>\n",
       "      <td>189</td>\n",
       "      <td>214</td>\n",
       "      <td>228</td>\n",
       "      <td>241</td>\n",
       "      <td>256</td>\n",
       "      <td>274</td>\n",
       "      <td>293</td>\n",
       "      <td>331</td>\n",
       "      <td>360</td>\n",
       "      <td>420</td>\n",
       "      <td>461</td>\n",
       "      <td>502</td>\n",
       "      <td>511</td>\n",
       "      <td>581</td>\n",
       "      <td>639</td>\n",
       "    </tr>\n",
       "    <tr>\n",
       "      <th>2</th>\n",
       "      <td>NaN</td>\n",
       "      <td>Singapore</td>\n",
       "      <td>1.2833</td>\n",
       "      <td>103.8333</td>\n",
       "      <td>0</td>\n",
       "      <td>1</td>\n",
       "      <td>3</td>\n",
       "      <td>3</td>\n",
       "      <td>4</td>\n",
       "      <td>5</td>\n",
       "      <td>7</td>\n",
       "      <td>7</td>\n",
       "      <td>10</td>\n",
       "      <td>13</td>\n",
       "      <td>16</td>\n",
       "      <td>18</td>\n",
       "      <td>18</td>\n",
       "      <td>24</td>\n",
       "      <td>28</td>\n",
       "      <td>28</td>\n",
       "      <td>30</td>\n",
       "      <td>33</td>\n",
       "      <td>40</td>\n",
       "      <td>45</td>\n",
       "      <td>47</td>\n",
       "      <td>50</td>\n",
       "      <td>58</td>\n",
       "      <td>67</td>\n",
       "      <td>72</td>\n",
       "      <td>75</td>\n",
       "      <td>77</td>\n",
       "      <td>81</td>\n",
       "      <td>84</td>\n",
       "      <td>84</td>\n",
       "      <td>85</td>\n",
       "      <td>85</td>\n",
       "      <td>89</td>\n",
       "      <td>89</td>\n",
       "      <td>91</td>\n",
       "      <td>93</td>\n",
       "      <td>93</td>\n",
       "      <td>93</td>\n",
       "      <td>102</td>\n",
       "      <td>106</td>\n",
       "      <td>108</td>\n",
       "      <td>110</td>\n",
       "      <td>110</td>\n",
       "      <td>117</td>\n",
       "      <td>130</td>\n",
       "      <td>138</td>\n",
       "      <td>150</td>\n",
       "      <td>150</td>\n",
       "      <td>160</td>\n",
       "      <td>178</td>\n",
       "    </tr>\n",
       "    <tr>\n",
       "      <th>3</th>\n",
       "      <td>NaN</td>\n",
       "      <td>Nepal</td>\n",
       "      <td>28.1667</td>\n",
       "      <td>84.2500</td>\n",
       "      <td>0</td>\n",
       "      <td>0</td>\n",
       "      <td>0</td>\n",
       "      <td>1</td>\n",
       "      <td>1</td>\n",
       "      <td>1</td>\n",
       "      <td>1</td>\n",
       "      <td>1</td>\n",
       "      <td>1</td>\n",
       "      <td>1</td>\n",
       "      <td>1</td>\n",
       "      <td>1</td>\n",
       "      <td>1</td>\n",
       "      <td>1</td>\n",
       "      <td>1</td>\n",
       "      <td>1</td>\n",
       "      <td>1</td>\n",
       "      <td>1</td>\n",
       "      <td>1</td>\n",
       "      <td>1</td>\n",
       "      <td>1</td>\n",
       "      <td>1</td>\n",
       "      <td>1</td>\n",
       "      <td>1</td>\n",
       "      <td>1</td>\n",
       "      <td>1</td>\n",
       "      <td>1</td>\n",
       "      <td>1</td>\n",
       "      <td>1</td>\n",
       "      <td>1</td>\n",
       "      <td>1</td>\n",
       "      <td>1</td>\n",
       "      <td>1</td>\n",
       "      <td>1</td>\n",
       "      <td>1</td>\n",
       "      <td>1</td>\n",
       "      <td>1</td>\n",
       "      <td>1</td>\n",
       "      <td>1</td>\n",
       "      <td>1</td>\n",
       "      <td>1</td>\n",
       "      <td>1</td>\n",
       "      <td>1</td>\n",
       "      <td>1</td>\n",
       "      <td>1</td>\n",
       "      <td>1</td>\n",
       "      <td>1</td>\n",
       "      <td>1</td>\n",
       "      <td>1</td>\n",
       "      <td>1</td>\n",
       "    </tr>\n",
       "    <tr>\n",
       "      <th>4</th>\n",
       "      <td>NaN</td>\n",
       "      <td>Malaysia</td>\n",
       "      <td>2.5000</td>\n",
       "      <td>112.5000</td>\n",
       "      <td>0</td>\n",
       "      <td>0</td>\n",
       "      <td>0</td>\n",
       "      <td>3</td>\n",
       "      <td>4</td>\n",
       "      <td>4</td>\n",
       "      <td>4</td>\n",
       "      <td>7</td>\n",
       "      <td>8</td>\n",
       "      <td>8</td>\n",
       "      <td>8</td>\n",
       "      <td>8</td>\n",
       "      <td>8</td>\n",
       "      <td>10</td>\n",
       "      <td>12</td>\n",
       "      <td>12</td>\n",
       "      <td>12</td>\n",
       "      <td>16</td>\n",
       "      <td>16</td>\n",
       "      <td>18</td>\n",
       "      <td>18</td>\n",
       "      <td>18</td>\n",
       "      <td>19</td>\n",
       "      <td>19</td>\n",
       "      <td>22</td>\n",
       "      <td>22</td>\n",
       "      <td>22</td>\n",
       "      <td>22</td>\n",
       "      <td>22</td>\n",
       "      <td>22</td>\n",
       "      <td>22</td>\n",
       "      <td>22</td>\n",
       "      <td>22</td>\n",
       "      <td>22</td>\n",
       "      <td>22</td>\n",
       "      <td>22</td>\n",
       "      <td>23</td>\n",
       "      <td>23</td>\n",
       "      <td>25</td>\n",
       "      <td>29</td>\n",
       "      <td>29</td>\n",
       "      <td>36</td>\n",
       "      <td>50</td>\n",
       "      <td>50</td>\n",
       "      <td>83</td>\n",
       "      <td>93</td>\n",
       "      <td>99</td>\n",
       "      <td>117</td>\n",
       "      <td>129</td>\n",
       "      <td>149</td>\n",
       "    </tr>\n",
       "  </tbody>\n",
       "</table>\n",
       "</div>"
      ],
      "text/plain": [
       "  Province/State Country/Region      Lat      Long  1/22/20  1/23/20  1/24/20  1/25/20  1/26/20  1/27/20  1/28/20  1/29/20  1/30/20  1/31/20  2/1/20  2/2/20  2/3/20  2/4/20  2/5/20  2/6/20  2/7/20  2/8/20  2/9/20  2/10/20  2/11/20  2/12/20  2/13/20  2/14/20  2/15/20  2/16/20  2/17/20  2/18/20  2/19/20  2/20/20  2/21/20  2/22/20  2/23/20  2/24/20  2/25/20  2/26/20  2/27/20  2/28/20  2/29/20  3/1/20  3/2/20  3/3/20  3/4/20  3/5/20  3/6/20  3/7/20  3/8/20  3/9/20  3/10/20  3/11/20\n",
       "0            NaN       Thailand  15.0000  101.0000        2        3        5        7        8        8       14       14       14       19      19      19      19      25      25      25      25      32      32       32       33       33       33       33       33       34       35       35       35       35       35       35       35       35       37       40       40       41       42      42      43      43      43      47      48      50      50      50       53       59\n",
       "1            NaN          Japan  36.0000  138.0000        2        1        2        2        4        4        7        7       11       15      20      20      20      22      22      45      25      25      26       26       26       28       28       29       43       59       66       74       84       94      105      122      147      159      170      189      214      228      241     256     274     293     331     360     420     461     502     511      581      639\n",
       "2            NaN      Singapore   1.2833  103.8333        0        1        3        3        4        5        7        7       10       13      16      18      18      24      28      28      30      33      40       45       47       50       58       67       72       75       77       81       84       84       85       85       89       89       91       93       93       93      102     106     108     110     110     117     130     138     150     150      160      178\n",
       "3            NaN          Nepal  28.1667   84.2500        0        0        0        1        1        1        1        1        1        1       1       1       1       1       1       1       1       1       1        1        1        1        1        1        1        1        1        1        1        1        1        1        1        1        1        1        1        1        1       1       1       1       1       1       1       1       1       1        1        1\n",
       "4            NaN       Malaysia   2.5000  112.5000        0        0        0        3        4        4        4        7        8        8       8       8       8      10      12      12      12      16      16       18       18       18       19       19       22       22       22       22       22       22       22       22       22       22       22       22       23       23       25      29      29      36      50      50      83      93      99     117      129      149"
      ]
     },
     "execution_count": 5,
     "metadata": {},
     "output_type": "execute_result"
    }
   ],
   "source": [
    "time_series_19_covid_confirmed.head()"
   ]
  },
  {
   "cell_type": "code",
   "execution_count": 6,
   "metadata": {},
   "outputs": [
    {
     "data": {
      "text/plain": [
       "(Index(['1/22/20', '1/23/20', '1/24/20'], dtype='object'),\n",
       " [Timestamp('2020-03-09 00:00:00'),\n",
       "  Timestamp('2020-03-10 00:00:00'),\n",
       "  Timestamp('2020-03-11 00:00:00')])"
      ]
     },
     "execution_count": 6,
     "metadata": {},
     "output_type": "execute_result"
    }
   ],
   "source": [
    "columns = time_series_19_covid_confirmed.columns[4:]\n",
    "dcolumns = [pd.to_datetime(dt) for dt in columns]\n",
    "columns[:3],dcolumns[-3:]"
   ]
  },
  {
   "cell_type": "code",
   "execution_count": 7,
   "metadata": {},
   "outputs": [],
   "source": [
    "# ldf_confirmed = time_series_19_covid_confirmed[columns][time_series_19_covid_confirmed['Country/Region'].isin(['US'])]\n",
    "# pd.DataFrame(ldf_confirmed.sum(axis=0), columns=['sum']).T"
   ]
  },
  {
   "cell_type": "code",
   "execution_count": 8,
   "metadata": {},
   "outputs": [],
   "source": [
    "def get_cases_by_selector(selector):\n",
    "    ldf_confirmed = time_series_19_covid_confirmed[columns][selector]\n",
    "    ldf_recovered = time_series_19_covid_recovered[columns][selector]\n",
    "    ldf_death     = time_series_19_covid_death[columns][selector]\n",
    "    \n",
    "    if(len(ldf_confirmed) > 1):\n",
    "        ldf_confirmed = pd.DataFrame(ldf_confirmed.sum(axis=0), columns=['sum']).T\n",
    "        ldf_recovered = pd.DataFrame(ldf_recovered.sum(axis=0), columns=['sum']).T\n",
    "        ldf_death     = pd.DataFrame(ldf_death.sum(axis=0), columns=['sum']).T\n",
    "    \n",
    "    ldf              = pd.DataFrame(index=dcolumns)\n",
    "    ldf['confirmed'] = ldf_confirmed.T.values\n",
    "    ldf['recovered'] = ldf_recovered.T.values\n",
    "    ldf['death']     = ldf_death.T.values\n",
    "    \n",
    "    lv = ldf['confirmed'].iloc[1:].values - ldf['confirmed'].iloc[:-1].values\n",
    "    ldf['new_confirmed'] = np.concatenate([np.array([0]),lv])\n",
    "\n",
    "    lv = ldf['recovered'].iloc[1:].values - ldf['recovered'].iloc[:-1].values\n",
    "    ldf['new_recovered'] = np.concatenate([np.array([0]),lv])\n",
    "\n",
    "    lv = ldf['death'].iloc[1:].values - ldf['death'].iloc[:-1].values\n",
    "    ldf['new_death'] = np.concatenate([np.array([0]),lv])\n",
    "    \n",
    "    return ldf\n",
    "\n",
    "def get_cases_by_region(region='Germany'):\n",
    "    if isinstance(region, str):\n",
    "        region=[region]\n",
    "    return get_cases_by_selector(time_series_19_covid_confirmed['Country/Region'].isin(region))"
   ]
  },
  {
   "cell_type": "code",
   "execution_count": 9,
   "metadata": {},
   "outputs": [],
   "source": [
    "def prepend_fill(in_df, abs_column_name, delta_column_name, first_count, original_df):\n",
    "    l = len(in_df) + 1\n",
    "    daily_prepend_count = int(first_count // l)\n",
    "    daily_prepend_count_fraction = first_count / l - daily_prepend_count\n",
    "    prepend_count_fraction = 0.0\n",
    "    for i in range(len(in_df)):\n",
    "        in_df[delta_column_name].iloc[i] = daily_prepend_count\n",
    "        delta = int(prepend_count_fraction // 1)\n",
    "        if delta > 1.0:\n",
    "            in_df[delta_column_name].iloc[i] += delta\n",
    "            prepend_count_fraction           -= delta\n",
    "        prepend_count_fraction += daily_prepend_count_fraction       \n",
    "    \n",
    "    in_df[abs_column_name] = in_df[delta_column_name].cumsum()\n",
    "    \n",
    "    last_value = in_df[abs_column_name].iloc[-1]\n",
    "    original_df[delta_column_name].iloc[0] = first_count - last_value\n",
    "    \n",
    "\n",
    "def prepend(in_df, first_date=None, init_add=0, mult=1.0):\n",
    "    if first_date is None:\n",
    "        first_date = in_df.index[0]\n",
    "    in_df = in_df.loc[first_date:].copy()\n",
    "    \n",
    "    in_df.loc[:,'confirmed'] = (in_df['confirmed'] + init_add) * mult\n",
    "    in_df['confirmed'] = in_df['confirmed'].astype(np.int)\n",
    "    \n",
    "    in_df.loc[:,'new_confirmed'].iloc[0] = in_df['confirmed'].iloc[0]\n",
    "    in_df.loc[:,'new_confirmed'].iloc[1:] = in_df['confirmed'].iloc[1:].values - in_df['confirmed'].iloc[:-1].values\n",
    "    # in_df['new_confirmed'] = in_df['new_confirmed'].astype(np.int)\n",
    "    \n",
    "    \n",
    "    prepend_period_in_days = 11\n",
    "    date_range_1_start = first_date + datetime.timedelta(days=-prepend_period_in_days)\n",
    "    date_range_1_end   = first_date + datetime.timedelta(days=-1)\n",
    "    # print(date_range_1_start, date_range_1_end)\n",
    "    date_range_2_start = first_date + datetime.timedelta(days=-(2*prepend_period_in_days))\n",
    "    date_range_2_end   = first_date + datetime.timedelta(days=-prepend_period_in_days-1)\n",
    "    # print(date_range_2_start, date_range_2_end)\n",
    "    \n",
    "    prepend_dates = pd.date_range(start=date_range_1_start, end=date_range_1_end, freq='D')    \n",
    "    prepend_df = pd.DataFrame(np.zeros((len(prepend_dates),len(in_df.columns)), dtype='int'),index=prepend_dates,columns=in_df.columns)\n",
    "    for name in ['confirmed', 'recovered', 'death']:\n",
    "        first_confirmed_count = in_df[name].iloc[0]\n",
    "        last_value = prepend_fill(prepend_df, name, 'new_' + name, first_confirmed_count, in_df)\n",
    "\n",
    "    in_df = pd.concat([prepend_df, in_df])\n",
    "    prepend_dates = pd.date_range(start=date_range_2_start, end=date_range_2_end, freq='D')\n",
    "    prepend_df = pd.DataFrame(np.zeros((len(prepend_dates),len(in_df.columns)), dtype='int'),index=prepend_dates,columns=in_df.columns)\n",
    "    for name in ['confirmed', 'recovered', 'death']:\n",
    "        first_confirmed_count = in_df[name].iloc[0]\n",
    "        last_value = prepend_fill(prepend_df, name, 'new_' + name, first_confirmed_count, in_df)\n",
    "        \n",
    "    return pd.concat([prepend_df, in_df])"
   ]
  },
  {
   "cell_type": "code",
   "execution_count": 10,
   "metadata": {},
   "outputs": [],
   "source": [
    "# # ldf = get_cases_by_region(region='Italy').loc[pd.to_datetime('2020-02-21'):].copy()\n",
    "# # ldf.loc[:,'confirmed'] = (ldf['confirmed'] + 100)*2.0\n",
    "# # ldf.loc[:,'new_confirmed'].iloc[0] = ldf['confirmed'].iloc[0]\n",
    "# # ldf.loc[:,'new_confirmed'].iloc[1:] = ldf['confirmed'].iloc[1:].values - ldf['confirmed'].iloc[:-1].values\n",
    "# ldf = get_cases_by_region(region='Italy')\n",
    "# # ldf = prepend(ldf, first_date=pd.to_datetime('2020-02-21'), init_add=100, mult=1.5)\n",
    "# ldf = prepend(ldf, first_date=pd.to_datetime('2020-02-21'))\n",
    "# ldf"
   ]
  },
  {
   "cell_type": "code",
   "execution_count": 11,
   "metadata": {},
   "outputs": [],
   "source": [
    "# ldf = get_cases_by_region(region='Mainland China')\n",
    "# # ldf = prepend(ldf, first_date=pd.to_datetime('2020-02-21'), init_add=100, mult=1.5)\n",
    "# ldf = prepend(ldf)\n",
    "# ldf"
   ]
  },
  {
   "cell_type": "code",
   "execution_count": 12,
   "metadata": {},
   "outputs": [],
   "source": [
    "def distribute_across_cases_linear(in_df, dt, new_death, timeline_days=3*7):\n",
    "    three_weeks_ago = dt + datetime.timedelta(days=-timeline_days)\n",
    "    ldf = in_df[in_df.start_date >= three_weeks_ago]\n",
    "    already_deaths = ldf.observed_death.sum()\n",
    "    ldf = ldf.loc[ldf.observed_death == False,:]\n",
    "    available_death_slots = len(ldf)\n",
    "    if available_death_slots < new_death:\n",
    "        raise Exception('available_death_slots < new_death')\n",
    "    death_indices = np.random.choice(len(ldf), new_death, replace=False)\n",
    "    death_indices = ldf.index[death_indices]\n",
    "    \n",
    "    ldf = in_df[in_df.start_date >= three_weeks_ago]\n",
    "    added_death = (ldf.observed_death == True).sum() - already_deaths\n",
    "    # print(new_death, added_death, already_deaths)\n",
    "    \n",
    "    return death_indices"
   ]
  },
  {
   "cell_type": "markdown",
   "metadata": {},
   "source": [
    "* [Gamma distribution](https://en.wikipedia.org/wiki/Gamma_distribution)"
   ]
  },
  {
   "cell_type": "code",
   "execution_count": 13,
   "metadata": {},
   "outputs": [
    {
     "data": {
      "text/plain": [
       "[<matplotlib.lines.Line2D at 0x7f8c2ddc8358>]"
      ]
     },
     "execution_count": 13,
     "metadata": {},
     "output_type": "execute_result"
    },
    {
     "data": {
      "image/png": "[encoded data removed]",
      "text/plain": [
       "<Figure size 1120x640 with 1 Axes>"
      ]
     },
     "metadata": {},
     "output_type": "display_data"
    }
   ],
   "source": [
    "x = np.linspace(0.0,30.0,1000)\n",
    "gamma_loc   = 2.0\n",
    "gamma_k     = 3.0\n",
    "gamme_theta = 3.0\n",
    "y = stats.gamma(gamma_k, loc=gamma_loc, scale=gamme_theta).pdf(x)\n",
    "fig=plt.figure(figsize=(14, 8), dpi=80, facecolor='w', edgecolor='k')\n",
    "ax = plt.subplot(111)\n",
    "ax.plot(x,y)"
   ]
  },
  {
   "cell_type": "code",
   "execution_count": 14,
   "metadata": {},
   "outputs": [],
   "source": [
    "def distribute_across_cases_gamma(in_df, dt, new_death, timeline_days=4*7):\n",
    "    three_weeks_ago = dt + datetime.timedelta(days=-timeline_days)\n",
    "    ldf = in_df[in_df.start_date >= three_weeks_ago]\n",
    "    already_deaths = ldf.observed_death.sum()\n",
    "    ldf = ldf.loc[ldf.observed_death == False,:]\n",
    "    available_death_slots = len(ldf)\n",
    "    if available_death_slots < new_death:\n",
    "        raise Exception('available_death_slots < new_death')\n",
    "    \n",
    "    ds_age = (dt - ldf.start_date).dt.days\n",
    "    distribution = stats.gamma(gamma_k, loc=gamma_loc, scale=gamme_theta).pdf(ds_age)\n",
    "    distribution = distribution / distribution.sum()\n",
    "        \n",
    "    death_indices = np.random.choice(len(ldf), new_death, replace=False, p=distribution)\n",
    "    death_indices = ldf.index[death_indices]\n",
    "    \n",
    "    ldf = in_df[in_df.start_date >= three_weeks_ago]\n",
    "    added_death = (ldf.observed_death == True).sum() - already_deaths\n",
    "    # print(new_death, added_death, already_deaths)\n",
    "    \n",
    "    return death_indices"
   ]
  },
  {
   "cell_type": "code",
   "execution_count": 15,
   "metadata": {},
   "outputs": [],
   "source": [
    "def generate_life_lines(in_df, random_seed=None):\n",
    "    if random_seed is None:\n",
    "        random_seed = 42 # np.random.RandomState(42)\n",
    "    np.random.seed(random_seed)\n",
    "    rdf = pd.DataFrame(columns=['start_date', 'end_date', 'observed_death'])\n",
    "    end_date = in_df.index[-1] + datetime.timedelta(days=1)\n",
    "    l = len(in_df)\n",
    "    for i in range(l):\n",
    "        dt = in_df.index[i]\n",
    "        # end existing life-lines\n",
    "        new_death = in_df['new_death'].iloc[i]\n",
    "        if new_death > 0:\n",
    "            # death_indices = distribute_across_cases_linear(rdf, dt, new_death, timeline_days=3*7)\n",
    "            death_indices = distribute_across_cases_gamma(rdf, dt, new_death, timeline_days=3*7)\n",
    "            rdf.loc[death_indices, 'observed_death'] = True\n",
    "            rdf.loc[death_indices, 'end_date']       = dt            \n",
    "        \n",
    "        # create new life-lines\n",
    "        new_lifelines = in_df['new_confirmed'].iloc[i]\n",
    "        line = [[dt, end_date, False]]\n",
    "        ldf = pd.DataFrame(line * new_lifelines, columns=['start_date', 'end_date', 'observed_death'])\n",
    "        rdf = pd.concat([rdf, ldf])\n",
    "        rdf.reset_index(drop=True, inplace=True)\n",
    "    \n",
    "    rdf['day_count'] = (rdf.end_date - rdf.start_date).dt.days\n",
    "        \n",
    "    return rdf"
   ]
  },
  {
   "cell_type": "code",
   "execution_count": 16,
   "metadata": {},
   "outputs": [],
   "source": [
    "import lifelines"
   ]
  },
  {
   "cell_type": "code",
   "execution_count": 17,
   "metadata": {},
   "outputs": [],
   "source": [
    "class MortalityAnalysis():\n",
    "    def __init__(self, region, first_date=None, init_add=0, mult=1.0):\n",
    "        self.region                  = region\n",
    "        self.first_date              = first_date\n",
    "        self.init_add                = init_add\n",
    "        self.mult                    = mult\n",
    "        self.df                      = get_cases_by_region(region=region)\n",
    "        self.prepend_df              = prepend(self.df, first_date=first_date, init_add=init_add, mult=mult)\n",
    "        self.df_lifelines_individual = generate_life_lines(self.prepend_df)\n",
    "        \n",
    "#         observed_death_by_day = self.df_lifelines_individual[['end_date', 'observed_death']].groupby(['end_date']).sum()\n",
    "#         observed_death_by_day['observed_death'] = observed_death_by_day['observed_death'].astype(np.int)\n",
    "#         self.observed_death_by_day = observed_death_by_day\n",
    "        \n",
    "#         ldf = self.prepend_df.new_death - self.observed_death_by_day.observed_death\n",
    "#         if len(ldf[ldf > 0.0]) > 0:\n",
    "#             raise Exception('MortalityAnalysis: the death in df_lifelines_individual do not match the ones in prepend_df')\n",
    "        \n",
    "    def fit(self):\n",
    "        kmf_ = lifelines.KaplanMeierFitter()\n",
    "        kmf_.fit(self.df_lifelines_individual.day_count, self.df_lifelines_individual.observed_death, label='kmf_')\n",
    "        self.kmf = kmf_\n",
    "\n",
    "        wbf_ = lifelines.WeibullFitter()\n",
    "        wbf_.fit(self.df_lifelines_individual.day_count, self.df_lifelines_individual.observed_death, label='wbf_')\n",
    "        self.wbf = wbf_\n",
    "\n",
    "        exf_ = lifelines.ExponentialFitter()\n",
    "        exf_.fit(self.df_lifelines_individual.day_count, self.df_lifelines_individual.observed_death, label='exf_')        \n",
    "        self.exf = exf_\n",
    "        \n",
    "    def plot(self):\n",
    "        sns.set_style(\"whitegrid\")\n",
    "        fig=plt.figure(figsize=(14, 8), dpi=80, facecolor='w', edgecolor='k')\n",
    "        ax = plt.subplot(111)\n",
    "        ax.set_ylim([0.0,1.0])\n",
    "\n",
    "        self.kmf.plot(ax=ax)\n",
    "        # self.wbf.plot_survival_function(ax=ax)\n",
    "        # self.exf.plot_survival_function(ax=ax)\n",
    "        \n",
    "    def death_rate(self):\n",
    "        mean  = np.round(float(1-self.kmf.survival_function_.iloc[-1].values)*100,2) \n",
    "        lower = np.round(float(1-self.kmf.confidence_interval_.iloc[-1,1])*100,2) \n",
    "        upper = np.round(float(1-self.kmf.confidence_interval_.iloc[-1,0])*100,2) \n",
    "        return (mean,lower,upper)"
   ]
  },
  {
   "cell_type": "code",
   "execution_count": 18,
   "metadata": {},
   "outputs": [],
   "source": [
    "china_mortality_analysis = MortalityAnalysis('China')"
   ]
  },
  {
   "cell_type": "code",
   "execution_count": 19,
   "metadata": {},
   "outputs": [],
   "source": [
    "# china_mortality_analysis.df.tail()"
   ]
  },
  {
   "cell_type": "code",
   "execution_count": 20,
   "metadata": {},
   "outputs": [],
   "source": [
    "# china_mortality_analysis.df_lifelines_individual.observed_death.sum()"
   ]
  },
  {
   "cell_type": "code",
   "execution_count": 21,
   "metadata": {},
   "outputs": [],
   "source": [
    "# china_mortality_analysis.df.head()"
   ]
  },
  {
   "cell_type": "code",
   "execution_count": 22,
   "metadata": {},
   "outputs": [],
   "source": [
    "# china_mortality_analysis.df.tail()"
   ]
  },
  {
   "cell_type": "code",
   "execution_count": 23,
   "metadata": {},
   "outputs": [],
   "source": [
    "china_mortality_analysis.fit()"
   ]
  },
  {
   "cell_type": "code",
   "execution_count": 24,
   "metadata": {},
   "outputs": [],
   "source": [
    "# china_mortality_analysis.wbf.print_summary()\n",
    "\n",
    "# expected_life_time = china_mortality_analysis.wbf.lambda_ * scipy.special.gamma(1 + 1 / china_mortality_analysis.wbf.rho_)\n",
    "# expected_life_time/365"
   ]
  },
  {
   "cell_type": "code",
   "execution_count": 25,
   "metadata": {},
   "outputs": [
    {
     "data": {
      "text/plain": [
       "(3.96, 3.83, 4.1)"
      ]
     },
     "execution_count": 25,
     "metadata": {},
     "output_type": "execute_result"
    }
   ],
   "source": [
    "china_mortality_analysis.death_rate()"
   ]
  },
  {
   "cell_type": "code",
   "execution_count": 26,
   "metadata": {},
   "outputs": [
    {
     "data": {
      "image/png": "[encoded data removed]",
      "text/plain": [
       "<Figure size 1120x640 with 1 Axes>"
      ]
     },
     "metadata": {},
     "output_type": "display_data"
    }
   ],
   "source": [
    "china_mortality_analysis.plot()"
   ]
  },
  {
   "cell_type": "code",
   "execution_count": 27,
   "metadata": {},
   "outputs": [
    {
     "name": "stdout",
     "output_type": "stream",
     "text": [
      "(0.42, 0.13, 1.39)\n"
     ]
    },
    {
     "data": {
      "image/png": "[encoded data removed]",
      "text/plain": [
       "<Figure size 1120x640 with 1 Axes>"
      ]
     },
     "metadata": {},
     "output_type": "display_data"
    }
   ],
   "source": [
    "germany_mortality_analysis = MortalityAnalysis('Germany')\n",
    "germany_mortality_analysis.fit()\n",
    "print(germany_mortality_analysis.death_rate())\n",
    "germany_mortality_analysis.plot()"
   ]
  },
  {
   "cell_type": "code",
   "execution_count": 28,
   "metadata": {},
   "outputs": [
    {
     "name": "stdout",
     "output_type": "stream",
     "text": [
      "(1.45, 1.02, 2.05)\n",
      "(1.18, 0.89, 1.57)\n",
      "8655\n"
     ]
    },
    {
     "data": {
      "image/png": "[encoded data removed]",
      "text/plain": [
       "<Figure size 1120x640 with 1 Axes>"
      ]
     },
     "metadata": {},
     "output_type": "display_data"
    }
   ],
   "source": [
    "south_korea_name = 'Korea, South'\n",
    "south_korea_mortality_analysis = MortalityAnalysis(south_korea_name)\n",
    "south_korea_mortality_analysis.fit()\n",
    "south_korea_mortality_analysis2 = MortalityAnalysis(south_korea_name, first_date=pd.to_datetime('2020-02-20'), init_add=900)\n",
    "south_korea_mortality_analysis2.fit()\n",
    "print(south_korea_mortality_analysis.death_rate())\n",
    "print(south_korea_mortality_analysis2.death_rate())\n",
    "print(south_korea_mortality_analysis2.prepend_df['confirmed'].iloc[-1])\n",
    "south_korea_mortality_analysis.plot()"
   ]
  },
  {
   "cell_type": "code",
   "execution_count": 29,
   "metadata": {},
   "outputs": [],
   "source": [
    "# south_korea_mortality_analysis.df"
   ]
  },
  {
   "cell_type": "code",
   "execution_count": 30,
   "metadata": {},
   "outputs": [],
   "source": [
    "# south_korea_mortality_analysis.prepend_df"
   ]
  },
  {
   "cell_type": "code",
   "execution_count": 31,
   "metadata": {},
   "outputs": [
    {
     "name": "stdout",
     "output_type": "stream",
     "text": [
      "(13.52, 9.5, 19.05)\n",
      "(2.62, 1.94, 3.54)\n",
      "5568\n"
     ]
    },
    {
     "data": {
      "image/png": "[encoded data removed]",
      "text/plain": [
       "<Figure size 1120x640 with 1 Axes>"
      ]
     },
     "metadata": {},
     "output_type": "display_data"
    }
   ],
   "source": [
    "france_mortality_analysis = MortalityAnalysis('France')\n",
    "france_mortality_analysis.fit()\n",
    "france_mortality_analysis2 = MortalityAnalysis('France', first_date=pd.to_datetime('2020-02-15'), init_add=500, mult=2.0)\n",
    "france_mortality_analysis2.fit()\n",
    "print(france_mortality_analysis.death_rate())\n",
    "print(france_mortality_analysis2.death_rate())\n",
    "print(france_mortality_analysis2.prepend_df['confirmed'].iloc[-1])\n",
    "france_mortality_analysis.plot()"
   ]
  },
  {
   "cell_type": "code",
   "execution_count": 32,
   "metadata": {},
   "outputs": [
    {
     "name": "stdout",
     "output_type": "stream",
     "text": [
      "(21.29, 15.06, 29.62)\n",
      "(3.55, 2.65, 4.74)\n",
      "8031\n"
     ]
    },
    {
     "data": {
      "image/png": "[encoded data removed]",
      "text/plain": [
       "<Figure size 1120x640 with 1 Axes>"
      ]
     },
     "metadata": {},
     "output_type": "display_data"
    }
   ],
   "source": [
    "spain_mortality_analysis = MortalityAnalysis('Spain')\n",
    "spain_mortality_analysis.fit()\n",
    "spain_mortality_analysis2 = MortalityAnalysis('Spain', first_date=pd.to_datetime('2020-03-03'), init_add=400, mult=3.0)\n",
    "spain_mortality_analysis2.fit()\n",
    "print(spain_mortality_analysis.death_rate())\n",
    "print(spain_mortality_analysis2.death_rate())\n",
    "print(spain_mortality_analysis2.prepend_df['confirmed'].iloc[-1])\n",
    "spain_mortality_analysis.plot()"
   ]
  },
  {
   "cell_type": "code",
   "execution_count": 33,
   "metadata": {},
   "outputs": [
    {
     "name": "stdout",
     "output_type": "stream",
     "text": [
      "(7.42, 2.89, 18.32)\n",
      "(1.22, 0.57, 2.63)\n",
      "1259\n"
     ]
    },
    {
     "data": {
      "image/png": "[encoded data removed]",
      "text/plain": [
       "<Figure size 1120x640 with 1 Axes>"
      ]
     },
     "metadata": {},
     "output_type": "display_data"
    }
   ],
   "source": [
    "uk_name = 'United Kingdom'\n",
    "uk_mortality_analysis = MortalityAnalysis(uk_name)\n",
    "uk_mortality_analysis.fit()\n",
    "uk_mortality_analysis2 = MortalityAnalysis(uk_name, first_date=pd.to_datetime('2020-03-05'), init_add=800, mult=1.0)\n",
    "uk_mortality_analysis2.fit()\n",
    "print(uk_mortality_analysis.death_rate())\n",
    "print(uk_mortality_analysis2.death_rate())\n",
    "print(uk_mortality_analysis2.prepend_df['confirmed'].iloc[-1])\n",
    "uk_mortality_analysis.plot()"
   ]
  },
  {
   "cell_type": "code",
   "execution_count": 34,
   "metadata": {},
   "outputs": [],
   "source": [
    "# us_mortality_analysis = MortalityAnalysis('US')\n",
    "# us_mortality_analysis.fit()\n",
    "# us_mortality_analysis2 = MortalityAnalysis('US', first_date=pd.to_datetime('2020-02-29'), init_add=450, mult=3.0)\n",
    "# us_mortality_analysis2.fit()\n",
    "# print(us_mortality_analysis.death_rate())\n",
    "# print(us_mortality_analysis2.death_rate())\n",
    "# print(us_mortality_analysis2.prepend_df['confirmed'].iloc[-1])\n",
    "# us_mortality_analysis.plot()"
   ]
  },
  {
   "cell_type": "code",
   "execution_count": 35,
   "metadata": {},
   "outputs": [
    {
     "name": "stdout",
     "output_type": "stream",
     "text": [
      "(27.9, 25.53, 30.44)\n",
      "(3.54, 3.28, 3.81)\n",
      "72310\n"
     ]
    },
    {
     "data": {
      "image/png": "[encoded data removed]",
      "text/plain": [
       "<Figure size 1120x640 with 1 Axes>"
      ]
     },
     "metadata": {},
     "output_type": "display_data"
    }
   ],
   "source": [
    "italy_mortality_analysis = MortalityAnalysis('Italy', first_date=pd.to_datetime('2020-02-21'))\n",
    "italy_mortality_analysis.fit()\n",
    "print(italy_mortality_analysis.death_rate())\n",
    "italy_mortality_analysis2 = MortalityAnalysis('Italy', first_date=pd.to_datetime('2020-02-21'), init_add=2000, mult=5.0)\n",
    "italy_mortality_analysis2.fit()\n",
    "print(italy_mortality_analysis2.death_rate())\n",
    "print(italy_mortality_analysis2.prepend_df['confirmed'].iloc[-1])\n",
    "italy_mortality_analysis.plot()"
   ]
  },
  {
   "cell_type": "code",
   "execution_count": 36,
   "metadata": {},
   "outputs": [],
   "source": [
    "# italy_mortality_analysis2.prepend_df"
   ]
  },
  {
   "cell_type": "code",
   "execution_count": 37,
   "metadata": {},
   "outputs": [
    {
     "name": "stdout",
     "output_type": "stream",
     "text": [
      "2.9.4\n"
     ]
    }
   ],
   "source": [
    "import rpy2\n",
    "print(rpy2.__version__)"
   ]
  },
  {
   "cell_type": "code",
   "execution_count": 38,
   "metadata": {},
   "outputs": [
    {
     "name": "stdout",
     "output_type": "stream",
     "text": [
      "('3', '5.1', '', 74947)\n"
     ]
    }
   ],
   "source": [
    "from rpy2.rinterface import R_VERSION_BUILD\n",
    "print(R_VERSION_BUILD)"
   ]
  },
  {
   "cell_type": "code",
   "execution_count": 39,
   "metadata": {},
   "outputs": [
    {
     "name": "stderr",
     "output_type": "stream",
     "text": [
      "/home/local/cs/local/install/anaconda3-5.3.1-Linux-x86_64/envs/py36ds/lib/python3.6/site-packages/rpy2/robjects/lib/ggplot2.py:67: UserWarning: This was designed againt ggplot2 version 2.2.1 but you have 3.0.0\n",
      "  warnings.warn('This was designed againt ggplot2 version %s but you have %s' % (TARGET_VERSION, ggplot2.__version__))\n"
     ]
    }
   ],
   "source": [
    "import IPython.display\n",
    "import rpy2, rpy2.robjects, rpy2.robjects.pandas2ri, rpy2.rinterface, rpy2.robjects.packages, rpy2.interactive, rpy2.robjects.lib.ggplot2, rpy2.robjects.lib.grdevices\n",
    "rpy2.robjects.pandas2ri.activate()\n",
    "\n",
    "from rpy2.robjects.packages import importr\n",
    "# import R's \"base\" package\n",
    "base = importr('base')\n",
    "\n",
    "# import rpy2's package module\n",
    "import rpy2.robjects.packages as rpackages\n",
    "\n",
    "# import R's utility package\n",
    "utils = rpackages.importr('utils')\n",
    "\n",
    "# select a mirror for R packages\n",
    "utils.chooseCRANmirror(ind=1) # select the first mirror in the list\n",
    "\n",
    "# R package names\n",
    "packnames = ('LexisPlotR',)\n",
    "\n",
    "# R vector of strings\n",
    "from rpy2.robjects.vectors import StrVector"
   ]
  },
  {
   "cell_type": "code",
   "execution_count": 40,
   "metadata": {},
   "outputs": [
    {
     "data": {
      "text/plain": [
       "rpy2.robjects.packages.Package as a <module 'LexisPlotR'>"
      ]
     },
     "execution_count": 40,
     "metadata": {},
     "output_type": "execute_result"
    }
   ],
   "source": [
    "grdevices = rpy2.robjects.packages.importr('grDevices')\n",
    "# Selectively install what needs to be install.\n",
    "# We are fancy, just because we can.\n",
    "names_to_install = [x for x in packnames if not rpackages.isinstalled(x)]\n",
    "if len(names_to_install) > 0:\n",
    "    utils.install_packages(StrVector(names_to_install))\n",
    "\n",
    "lexis = importr('LexisPlotR')\n",
    "lexis"
   ]
  },
  {
   "cell_type": "code",
   "execution_count": 41,
   "metadata": {},
   "outputs": [],
   "source": [
    "lexis_grid = rpy2.robjects.r['lexis.grid']\n",
    "lexis_lifeline = rpy2.robjects.r['lexis.lifeline']"
   ]
  },
  {
   "cell_type": "code",
   "execution_count": 42,
   "metadata": {},
   "outputs": [],
   "source": [
    "def plot_lexis(mortality_analysis_instance):\n",
    "    mylexis = lexis_grid(year_start = 2020, year_end = 2021, age_start = 0, age_end = 1) #  lwd = 0.1\n",
    "\n",
    "    alpha = 1.0\n",
    "    ix_present = ~mortality_analysis_instance.df_lifelines_individual.observed_death\n",
    "    ix_lost    = mortality_analysis_instance.df_lifelines_individual.observed_death\n",
    "    mylexis = lexis_lifeline(lg = mylexis , entry = mortality_analysis_instance.df_lifelines_individual['start_date'][ix_present],                                                                               colour = \"orange\", alpha = alpha, lwd = 0.4)\n",
    "    mylexis = lexis_lifeline(lg = mylexis , entry = mortality_analysis_instance.df_lifelines_individual['start_date'][ix_lost]   , exit = mortality_analysis_instance.df_lifelines_individual['end_date'][ix_lost], colour = \"blue\"  , alpha = alpha, lwd = 0.4, lineends = True)\n",
    "\n",
    "    with rpy2.robjects.lib.grdevices.render_to_bytesio(grdevices.png, width=1.5*1024, height=1.5*896, res=90) as img:\n",
    "        rpy2.robjects.r.print(mylexis)   \n",
    "    IPython.display.display(IPython.display.Image(data=img.getvalue(), format='png', embed=True))"
   ]
  },
  {
   "cell_type": "code",
   "execution_count": 43,
   "metadata": {},
   "outputs": [],
   "source": [
    "# plot_lexis(italy_mortality_analysis)"
   ]
  },
  {
   "cell_type": "code",
   "execution_count": 44,
   "metadata": {},
   "outputs": [],
   "source": [
    "# plot_lexis(italy_mortality_analysis2)"
   ]
  },
  {
   "cell_type": "code",
   "execution_count": 45,
   "metadata": {},
   "outputs": [
    {
     "data": {
      "image/png": "[encoded data removed]",
      "text/plain": [
       "<IPython.core.display.Image object>"
      ]
     },
     "metadata": {},
     "output_type": "display_data"
    }
   ],
   "source": [
    "plot_lexis(south_korea_mortality_analysis)"
   ]
  },
  {
   "cell_type": "code",
   "execution_count": null,
   "metadata": {},
   "outputs": [],
   "source": []
  }
 ],
 "metadata": {
  "kernelspec": {
   "display_name": "Python 3",
   "language": "python",
   "name": "python3"
  },
  "language_info": {
   "codemirror_mode": {
    "name": "ipython",
    "version": 3
   },
   "file_extension": ".py",
   "mimetype": "text/x-python",
   "name": "python",
   "nbconvert_exporter": "python",
   "pygments_lexer": "ipython3",
   "version": "3.6.8"
  }
 },
 "nbformat": 4,
 "nbformat_minor": 2
}
