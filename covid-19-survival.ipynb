{
 "cells": [
  {
   "cell_type": "code",
   "execution_count": 1,
   "metadata": {},
   "outputs": [
    {
     "name": "stderr",
     "output_type": "stream",
     "text": [
      "/home/local/cs/local/install/anaconda3-5.3.1-Linux-x86_64/envs/py36ds/lib/python3.6/site-packages/dask/config.py:168: YAMLLoadWarning: calling yaml.load() without Loader=... is deprecated, as the default Loader is unsafe. Please read https://msg.pyyaml.org/load for full details.\n",
      "  data = yaml.load(f.read()) or {}\n",
      "/home/local/cs/local/install/anaconda3-5.3.1-Linux-x86_64/envs/py36ds/lib/python3.6/site-packages/distributed/config.py:20: YAMLLoadWarning: calling yaml.load() without Loader=... is deprecated, as the default Loader is unsafe. Please read https://msg.pyyaml.org/load for full details.\n",
      "  defaults = yaml.load(f)\n"
     ]
    },
    {
     "name": "stdout",
     "output_type": "stream",
     "text": [
      "cs224 \n",
      "last updated: 2020-03-11 \n",
      "\n",
      "CPython 3.6.8\n",
      "IPython 7.3.0\n",
      "\n",
      "numpy 1.16.2\n",
      "xarray 0.11.3\n",
      "scipy 1.2.1\n",
      "pandas 0.24.2\n",
      "sklearn 0.20.3\n",
      "matplotlib 3.0.3\n",
      "seaborn 0.9.0\n",
      "pymc3 3.8\n",
      "lifelines 0.24.1\n"
     ]
    }
   ],
   "source": [
    "%load_ext watermark\n",
    "%watermark -a 'cs224' -u -d -v -p numpy,xarray,scipy,pandas,sklearn,matplotlib,seaborn,pymc3,lifelines"
   ]
  },
  {
   "cell_type": "code",
   "execution_count": 2,
   "metadata": {},
   "outputs": [],
   "source": [
    "%matplotlib inline\n",
    "import numpy as np, scipy, scipy.stats as stats, scipy.special, scipy.misc, pandas as pd, matplotlib.pyplot as plt, seaborn as sns, xarray as xr\n",
    "import matplotlib as mpl\n",
    "\n",
    "import pymc3 as pm\n",
    "\n",
    "import theano as thno\n",
    "import theano.tensor as T\n",
    "\n",
    "import datetime, time, math\n",
    "from dateutil import relativedelta\n",
    "\n",
    "from collections import OrderedDict\n",
    "\n",
    "SEED = 41\n",
    "np.random.seed(SEED)\n",
    "\n",
    "pd.set_option('display.max_columns', 500)\n",
    "pd.set_option('display.width', 1000)\n",
    "# pd.set_option('display.float_format', lambda x: '%.2f' % x)\n",
    "np.set_printoptions(edgeitems=10)\n",
    "np.set_printoptions(linewidth=1000)\n",
    "np.set_printoptions(suppress=True)\n",
    "np.core.arrayprint._line_width = 180\n",
    "\n",
    "sns.set()"
   ]
  },
  {
   "cell_type": "code",
   "execution_count": 3,
   "metadata": {},
   "outputs": [
    {
     "data": {
      "text/html": [
       "<style>.container { width:70% !important; }</style>"
      ],
      "text/plain": [
       "<IPython.core.display.HTML object>"
      ]
     },
     "metadata": {},
     "output_type": "display_data"
    }
   ],
   "source": [
    "from IPython.display import display, HTML\n",
    "\n",
    "from IPython.display import display_html\n",
    "def display_side_by_side(*args):\n",
    "    html_str=''\n",
    "    for df in args:\n",
    "        if type(df) == np.ndarray:\n",
    "            df = pd.DataFrame(df)\n",
    "        html_str+=df.to_html()\n",
    "    html_str = html_str.replace('table','table style=\"display:inline\"')\n",
    "    # print(html_str)\n",
    "    display_html(html_str,raw=True)\n",
    "\n",
    "CSS = \"\"\"\n",
    ".output {\n",
    "    flex-direction: row;\n",
    "}\n",
    "\"\"\"\n",
    "\n",
    "def display_graphs_side_by_side(*args):\n",
    "    html_str='<table><tr>'\n",
    "    for g in args:\n",
    "        html_str += '<td>'\n",
    "        html_str += g._repr_svg_()\n",
    "        html_str += '</td>'\n",
    "    html_str += '</tr></table>'\n",
    "    display_html(html_str,raw=True)\n",
    "    \n",
    "\n",
    "display(HTML(\"<style>.container { width:70% !important; }</style>\"))"
   ]
  },
  {
   "cell_type": "code",
   "execution_count": 4,
   "metadata": {},
   "outputs": [],
   "source": [
    "fname = 'https://raw.githubusercontent.com/CSSEGISandData/COVID-19/master/csse_covid_19_data/csse_covid_19_time_series/time_series_19-covid-Confirmed.csv'\n",
    "time_series_19_covid_confirmed = pd.read_csv(fname)\n",
    "fname = 'https://raw.githubusercontent.com/CSSEGISandData/COVID-19/master/csse_covid_19_data/csse_covid_19_time_series/time_series_19-covid-Recovered.csv'\n",
    "time_series_19_covid_recovered = pd.read_csv(fname)\n",
    "fname = 'https://raw.githubusercontent.com/CSSEGISandData/COVID-19/master/csse_covid_19_data/csse_covid_19_time_series/time_series_19-covid-Deaths.csv'\n",
    "time_series_19_covid_death = pd.read_csv(fname)"
   ]
  },
  {
   "cell_type": "code",
   "execution_count": 5,
   "metadata": {},
   "outputs": [
    {
     "data": {
      "text/html": [
       "<div>\n",
       "<style scoped>\n",
       "    .dataframe tbody tr th:only-of-type {\n",
       "        vertical-align: middle;\n",
       "    }\n",
       "\n",
       "    .dataframe tbody tr th {\n",
       "        vertical-align: top;\n",
       "    }\n",
       "\n",
       "    .dataframe thead th {\n",
       "        text-align: right;\n",
       "    }\n",
       "</style>\n",
       "<table border=\"1\" class=\"dataframe\">\n",
       "  <thead>\n",
       "    <tr style=\"text-align: right;\">\n",
       "      <th></th>\n",
       "      <th>Province/State</th>\n",
       "      <th>Country/Region</th>\n",
       "      <th>Lat</th>\n",
       "      <th>Long</th>\n",
       "      <th>1/22/20</th>\n",
       "      <th>1/23/20</th>\n",
       "      <th>1/24/20</th>\n",
       "      <th>1/25/20</th>\n",
       "      <th>1/26/20</th>\n",
       "      <th>1/27/20</th>\n",
       "      <th>1/28/20</th>\n",
       "      <th>1/29/20</th>\n",
       "      <th>1/30/20</th>\n",
       "      <th>1/31/20</th>\n",
       "      <th>2/1/20</th>\n",
       "      <th>2/2/20</th>\n",
       "      <th>2/3/20</th>\n",
       "      <th>2/4/20</th>\n",
       "      <th>2/5/20</th>\n",
       "      <th>2/6/20</th>\n",
       "      <th>2/7/20</th>\n",
       "      <th>2/8/20</th>\n",
       "      <th>2/9/20</th>\n",
       "      <th>2/10/20</th>\n",
       "      <th>2/11/20</th>\n",
       "      <th>2/12/20</th>\n",
       "      <th>2/13/20</th>\n",
       "      <th>2/14/20</th>\n",
       "      <th>2/15/20</th>\n",
       "      <th>2/16/20</th>\n",
       "      <th>2/17/20</th>\n",
       "      <th>2/18/20</th>\n",
       "      <th>2/19/20</th>\n",
       "      <th>2/20/20</th>\n",
       "      <th>2/21/20</th>\n",
       "      <th>2/22/20</th>\n",
       "      <th>2/23/20</th>\n",
       "      <th>2/24/20</th>\n",
       "      <th>2/25/20</th>\n",
       "      <th>2/26/20</th>\n",
       "      <th>2/27/20</th>\n",
       "      <th>2/28/20</th>\n",
       "      <th>2/29/20</th>\n",
       "      <th>3/1/20</th>\n",
       "      <th>3/2/20</th>\n",
       "      <th>3/3/20</th>\n",
       "      <th>3/4/20</th>\n",
       "      <th>3/5/20</th>\n",
       "      <th>3/6/20</th>\n",
       "      <th>3/7/20</th>\n",
       "      <th>3/8/20</th>\n",
       "      <th>3/9/20</th>\n",
       "      <th>3/10/20</th>\n",
       "    </tr>\n",
       "  </thead>\n",
       "  <tbody>\n",
       "    <tr>\n",
       "      <th>0</th>\n",
       "      <td>Anhui</td>\n",
       "      <td>Mainland China</td>\n",
       "      <td>31.8257</td>\n",
       "      <td>117.2264</td>\n",
       "      <td>1</td>\n",
       "      <td>9</td>\n",
       "      <td>15</td>\n",
       "      <td>39</td>\n",
       "      <td>60</td>\n",
       "      <td>70</td>\n",
       "      <td>106</td>\n",
       "      <td>152</td>\n",
       "      <td>200</td>\n",
       "      <td>237</td>\n",
       "      <td>297</td>\n",
       "      <td>340</td>\n",
       "      <td>408</td>\n",
       "      <td>480</td>\n",
       "      <td>530</td>\n",
       "      <td>591</td>\n",
       "      <td>665</td>\n",
       "      <td>733</td>\n",
       "      <td>779</td>\n",
       "      <td>830</td>\n",
       "      <td>860</td>\n",
       "      <td>889</td>\n",
       "      <td>910</td>\n",
       "      <td>934</td>\n",
       "      <td>950</td>\n",
       "      <td>962</td>\n",
       "      <td>973</td>\n",
       "      <td>982</td>\n",
       "      <td>986</td>\n",
       "      <td>987</td>\n",
       "      <td>988</td>\n",
       "      <td>989</td>\n",
       "      <td>989</td>\n",
       "      <td>989</td>\n",
       "      <td>989</td>\n",
       "      <td>989</td>\n",
       "      <td>989</td>\n",
       "      <td>990</td>\n",
       "      <td>990</td>\n",
       "      <td>990</td>\n",
       "      <td>990</td>\n",
       "      <td>990</td>\n",
       "      <td>990</td>\n",
       "      <td>990</td>\n",
       "      <td>990</td>\n",
       "      <td>990</td>\n",
       "      <td>990</td>\n",
       "      <td>990</td>\n",
       "      <td>990</td>\n",
       "    </tr>\n",
       "    <tr>\n",
       "      <th>1</th>\n",
       "      <td>Beijing</td>\n",
       "      <td>Mainland China</td>\n",
       "      <td>40.1824</td>\n",
       "      <td>116.4142</td>\n",
       "      <td>14</td>\n",
       "      <td>22</td>\n",
       "      <td>36</td>\n",
       "      <td>41</td>\n",
       "      <td>68</td>\n",
       "      <td>80</td>\n",
       "      <td>91</td>\n",
       "      <td>111</td>\n",
       "      <td>114</td>\n",
       "      <td>139</td>\n",
       "      <td>168</td>\n",
       "      <td>191</td>\n",
       "      <td>212</td>\n",
       "      <td>228</td>\n",
       "      <td>253</td>\n",
       "      <td>274</td>\n",
       "      <td>297</td>\n",
       "      <td>315</td>\n",
       "      <td>326</td>\n",
       "      <td>337</td>\n",
       "      <td>342</td>\n",
       "      <td>352</td>\n",
       "      <td>366</td>\n",
       "      <td>372</td>\n",
       "      <td>375</td>\n",
       "      <td>380</td>\n",
       "      <td>381</td>\n",
       "      <td>387</td>\n",
       "      <td>393</td>\n",
       "      <td>395</td>\n",
       "      <td>396</td>\n",
       "      <td>399</td>\n",
       "      <td>399</td>\n",
       "      <td>399</td>\n",
       "      <td>400</td>\n",
       "      <td>400</td>\n",
       "      <td>410</td>\n",
       "      <td>410</td>\n",
       "      <td>411</td>\n",
       "      <td>413</td>\n",
       "      <td>414</td>\n",
       "      <td>414</td>\n",
       "      <td>418</td>\n",
       "      <td>418</td>\n",
       "      <td>422</td>\n",
       "      <td>426</td>\n",
       "      <td>428</td>\n",
       "      <td>428</td>\n",
       "      <td>429</td>\n",
       "    </tr>\n",
       "    <tr>\n",
       "      <th>2</th>\n",
       "      <td>Chongqing</td>\n",
       "      <td>Mainland China</td>\n",
       "      <td>30.0572</td>\n",
       "      <td>107.8740</td>\n",
       "      <td>6</td>\n",
       "      <td>9</td>\n",
       "      <td>27</td>\n",
       "      <td>57</td>\n",
       "      <td>75</td>\n",
       "      <td>110</td>\n",
       "      <td>132</td>\n",
       "      <td>147</td>\n",
       "      <td>182</td>\n",
       "      <td>211</td>\n",
       "      <td>247</td>\n",
       "      <td>300</td>\n",
       "      <td>337</td>\n",
       "      <td>366</td>\n",
       "      <td>389</td>\n",
       "      <td>411</td>\n",
       "      <td>426</td>\n",
       "      <td>428</td>\n",
       "      <td>468</td>\n",
       "      <td>486</td>\n",
       "      <td>505</td>\n",
       "      <td>518</td>\n",
       "      <td>529</td>\n",
       "      <td>537</td>\n",
       "      <td>544</td>\n",
       "      <td>551</td>\n",
       "      <td>553</td>\n",
       "      <td>555</td>\n",
       "      <td>560</td>\n",
       "      <td>567</td>\n",
       "      <td>572</td>\n",
       "      <td>573</td>\n",
       "      <td>575</td>\n",
       "      <td>576</td>\n",
       "      <td>576</td>\n",
       "      <td>576</td>\n",
       "      <td>576</td>\n",
       "      <td>576</td>\n",
       "      <td>576</td>\n",
       "      <td>576</td>\n",
       "      <td>576</td>\n",
       "      <td>576</td>\n",
       "      <td>576</td>\n",
       "      <td>576</td>\n",
       "      <td>576</td>\n",
       "      <td>576</td>\n",
       "      <td>576</td>\n",
       "      <td>576</td>\n",
       "      <td>576</td>\n",
       "    </tr>\n",
       "    <tr>\n",
       "      <th>3</th>\n",
       "      <td>Fujian</td>\n",
       "      <td>Mainland China</td>\n",
       "      <td>26.0789</td>\n",
       "      <td>117.9874</td>\n",
       "      <td>1</td>\n",
       "      <td>5</td>\n",
       "      <td>10</td>\n",
       "      <td>18</td>\n",
       "      <td>35</td>\n",
       "      <td>59</td>\n",
       "      <td>80</td>\n",
       "      <td>84</td>\n",
       "      <td>101</td>\n",
       "      <td>120</td>\n",
       "      <td>144</td>\n",
       "      <td>159</td>\n",
       "      <td>179</td>\n",
       "      <td>194</td>\n",
       "      <td>205</td>\n",
       "      <td>215</td>\n",
       "      <td>224</td>\n",
       "      <td>239</td>\n",
       "      <td>250</td>\n",
       "      <td>261</td>\n",
       "      <td>267</td>\n",
       "      <td>272</td>\n",
       "      <td>279</td>\n",
       "      <td>281</td>\n",
       "      <td>285</td>\n",
       "      <td>287</td>\n",
       "      <td>290</td>\n",
       "      <td>292</td>\n",
       "      <td>293</td>\n",
       "      <td>293</td>\n",
       "      <td>293</td>\n",
       "      <td>293</td>\n",
       "      <td>293</td>\n",
       "      <td>293</td>\n",
       "      <td>294</td>\n",
       "      <td>294</td>\n",
       "      <td>296</td>\n",
       "      <td>296</td>\n",
       "      <td>296</td>\n",
       "      <td>296</td>\n",
       "      <td>296</td>\n",
       "      <td>296</td>\n",
       "      <td>296</td>\n",
       "      <td>296</td>\n",
       "      <td>296</td>\n",
       "      <td>296</td>\n",
       "      <td>296</td>\n",
       "      <td>296</td>\n",
       "      <td>296</td>\n",
       "    </tr>\n",
       "    <tr>\n",
       "      <th>4</th>\n",
       "      <td>Gansu</td>\n",
       "      <td>Mainland China</td>\n",
       "      <td>36.0611</td>\n",
       "      <td>103.8343</td>\n",
       "      <td>0</td>\n",
       "      <td>2</td>\n",
       "      <td>2</td>\n",
       "      <td>4</td>\n",
       "      <td>7</td>\n",
       "      <td>14</td>\n",
       "      <td>19</td>\n",
       "      <td>24</td>\n",
       "      <td>26</td>\n",
       "      <td>29</td>\n",
       "      <td>40</td>\n",
       "      <td>51</td>\n",
       "      <td>55</td>\n",
       "      <td>57</td>\n",
       "      <td>62</td>\n",
       "      <td>62</td>\n",
       "      <td>67</td>\n",
       "      <td>79</td>\n",
       "      <td>83</td>\n",
       "      <td>83</td>\n",
       "      <td>86</td>\n",
       "      <td>87</td>\n",
       "      <td>90</td>\n",
       "      <td>90</td>\n",
       "      <td>90</td>\n",
       "      <td>90</td>\n",
       "      <td>91</td>\n",
       "      <td>91</td>\n",
       "      <td>91</td>\n",
       "      <td>91</td>\n",
       "      <td>91</td>\n",
       "      <td>91</td>\n",
       "      <td>91</td>\n",
       "      <td>91</td>\n",
       "      <td>91</td>\n",
       "      <td>91</td>\n",
       "      <td>91</td>\n",
       "      <td>91</td>\n",
       "      <td>91</td>\n",
       "      <td>91</td>\n",
       "      <td>91</td>\n",
       "      <td>91</td>\n",
       "      <td>91</td>\n",
       "      <td>102</td>\n",
       "      <td>119</td>\n",
       "      <td>120</td>\n",
       "      <td>124</td>\n",
       "      <td>124</td>\n",
       "      <td>125</td>\n",
       "    </tr>\n",
       "  </tbody>\n",
       "</table>\n",
       "</div>"
      ],
      "text/plain": [
       "  Province/State  Country/Region      Lat      Long  1/22/20  1/23/20  1/24/20  1/25/20  1/26/20  1/27/20  1/28/20  1/29/20  1/30/20  1/31/20  2/1/20  2/2/20  2/3/20  2/4/20  2/5/20  2/6/20  2/7/20  2/8/20  2/9/20  2/10/20  2/11/20  2/12/20  2/13/20  2/14/20  2/15/20  2/16/20  2/17/20  2/18/20  2/19/20  2/20/20  2/21/20  2/22/20  2/23/20  2/24/20  2/25/20  2/26/20  2/27/20  2/28/20  2/29/20  3/1/20  3/2/20  3/3/20  3/4/20  3/5/20  3/6/20  3/7/20  3/8/20  3/9/20  3/10/20\n",
       "0          Anhui  Mainland China  31.8257  117.2264        1        9       15       39       60       70      106      152      200      237     297     340     408     480     530     591     665     733     779      830      860      889      910      934      950      962      973      982      986      987      988      989      989      989      989      989      989      990      990     990     990     990     990     990     990     990     990     990      990\n",
       "1        Beijing  Mainland China  40.1824  116.4142       14       22       36       41       68       80       91      111      114      139     168     191     212     228     253     274     297     315     326      337      342      352      366      372      375      380      381      387      393      395      396      399      399      399      400      400      410      410      411     413     414     414     418     418     422     426     428     428      429\n",
       "2      Chongqing  Mainland China  30.0572  107.8740        6        9       27       57       75      110      132      147      182      211     247     300     337     366     389     411     426     428     468      486      505      518      529      537      544      551      553      555      560      567      572      573      575      576      576      576      576      576      576     576     576     576     576     576     576     576     576     576      576\n",
       "3         Fujian  Mainland China  26.0789  117.9874        1        5       10       18       35       59       80       84      101      120     144     159     179     194     205     215     224     239     250      261      267      272      279      281      285      287      290      292      293      293      293      293      293      293      294      294      296      296      296     296     296     296     296     296     296     296     296     296      296\n",
       "4          Gansu  Mainland China  36.0611  103.8343        0        2        2        4        7       14       19       24       26       29      40      51      55      57      62      62      67      79      83       83       86       87       90       90       90       90       91       91       91       91       91       91       91       91       91       91       91       91       91      91      91      91      91     102     119     120     124     124      125"
      ]
     },
     "execution_count": 5,
     "metadata": {},
     "output_type": "execute_result"
    }
   ],
   "source": [
    "time_series_19_covid_confirmed.head()"
   ]
  },
  {
   "cell_type": "code",
   "execution_count": 6,
   "metadata": {},
   "outputs": [
    {
     "data": {
      "text/plain": [
       "(Index(['1/22/20', '1/23/20', '1/24/20'], dtype='object'),\n",
       " [Timestamp('2020-03-08 00:00:00'),\n",
       "  Timestamp('2020-03-09 00:00:00'),\n",
       "  Timestamp('2020-03-10 00:00:00')])"
      ]
     },
     "execution_count": 6,
     "metadata": {},
     "output_type": "execute_result"
    }
   ],
   "source": [
    "columns = time_series_19_covid_confirmed.columns[4:]\n",
    "dcolumns = [pd.to_datetime(dt) for dt in columns]\n",
    "columns[:3],dcolumns[-3:]"
   ]
  },
  {
   "cell_type": "code",
   "execution_count": 7,
   "metadata": {},
   "outputs": [],
   "source": [
    "# ldf_confirmed = time_series_19_covid_confirmed[columns][time_series_19_covid_confirmed['Country/Region'].isin(['US'])]\n",
    "# pd.DataFrame(ldf_confirmed.sum(axis=0), columns=['sum']).T"
   ]
  },
  {
   "cell_type": "code",
   "execution_count": 8,
   "metadata": {},
   "outputs": [],
   "source": [
    "def get_cases_by_selector(selector):\n",
    "    ldf_confirmed = time_series_19_covid_confirmed[columns][selector]\n",
    "    ldf_recovered = time_series_19_covid_recovered[columns][selector]\n",
    "    ldf_death     = time_series_19_covid_death[columns][selector]\n",
    "    \n",
    "    if(len(ldf_confirmed) > 1):\n",
    "        ldf_confirmed = pd.DataFrame(ldf_confirmed.sum(axis=0), columns=['sum']).T\n",
    "        ldf_recovered = pd.DataFrame(ldf_recovered.sum(axis=0), columns=['sum']).T\n",
    "        ldf_death     = pd.DataFrame(ldf_death.sum(axis=0), columns=['sum']).T\n",
    "    \n",
    "    ldf              = pd.DataFrame(index=dcolumns)\n",
    "    ldf['confirmed'] = ldf_confirmed.T.values\n",
    "    ldf['recovered'] = ldf_recovered.T.values\n",
    "    ldf['death']     = ldf_death.T.values\n",
    "    \n",
    "    lv = ldf['confirmed'].iloc[1:].values - ldf['confirmed'].iloc[:-1].values\n",
    "    ldf['new_confirmed'] = np.concatenate([np.array([0]),lv])\n",
    "\n",
    "    lv = ldf['recovered'].iloc[1:].values - ldf['recovered'].iloc[:-1].values\n",
    "    ldf['new_recovered'] = np.concatenate([np.array([0]),lv])\n",
    "\n",
    "    lv = ldf['death'].iloc[1:].values - ldf['death'].iloc[:-1].values\n",
    "    ldf['new_death'] = np.concatenate([np.array([0]),lv])\n",
    "    \n",
    "    return ldf\n",
    "\n",
    "def get_cases_by_region(region='Germany'):\n",
    "    if isinstance(region, str):\n",
    "        region=[region]\n",
    "    return get_cases_by_selector(time_series_19_covid_confirmed['Country/Region'].isin(region))"
   ]
  },
  {
   "cell_type": "code",
   "execution_count": 9,
   "metadata": {},
   "outputs": [],
   "source": [
    "def prepend_fill(in_df, abs_column_name, delta_column_name, first_count, original_df):\n",
    "    l = len(in_df) + 1\n",
    "    daily_prepend_count = int(first_count // l)\n",
    "    daily_prepend_count_fraction = first_count / l - daily_prepend_count\n",
    "    prepend_count_fraction = 0.0\n",
    "    for i in range(len(in_df)):\n",
    "        in_df[delta_column_name].iloc[i] = daily_prepend_count\n",
    "        delta = int(prepend_count_fraction // 1)\n",
    "        if delta > 1.0:\n",
    "            in_df[delta_column_name].iloc[i] += delta\n",
    "            prepend_count_fraction           -= delta\n",
    "        prepend_count_fraction += daily_prepend_count_fraction       \n",
    "    \n",
    "    in_df[abs_column_name] = in_df[delta_column_name].cumsum()\n",
    "    \n",
    "    last_value = in_df[abs_column_name].iloc[-1]\n",
    "    original_df[delta_column_name].iloc[0] = first_count - last_value\n",
    "    \n",
    "\n",
    "def prepend(in_df, first_date=None, init_add=0, mult=1.0):\n",
    "    if first_date is None:\n",
    "        first_date = in_df.index[0]\n",
    "    in_df = in_df.loc[first_date:].copy()\n",
    "    \n",
    "    in_df.loc[:,'confirmed'] = (in_df['confirmed'] + init_add) * mult\n",
    "    in_df['confirmed'] = in_df['confirmed'].astype(np.int)\n",
    "    \n",
    "    in_df.loc[:,'new_confirmed'].iloc[0] = in_df['confirmed'].iloc[0]\n",
    "    in_df.loc[:,'new_confirmed'].iloc[1:] = in_df['confirmed'].iloc[1:].values - in_df['confirmed'].iloc[:-1].values\n",
    "    # in_df['new_confirmed'] = in_df['new_confirmed'].astype(np.int)\n",
    "    \n",
    "    \n",
    "    prepend_period_in_days = 11\n",
    "    date_range_1_start = first_date + datetime.timedelta(days=-prepend_period_in_days)\n",
    "    date_range_1_end   = first_date + datetime.timedelta(days=-1)\n",
    "    # print(date_range_1_start, date_range_1_end)\n",
    "    date_range_2_start = first_date + datetime.timedelta(days=-(2*prepend_period_in_days))\n",
    "    date_range_2_end   = first_date + datetime.timedelta(days=-prepend_period_in_days-1)\n",
    "    # print(date_range_2_start, date_range_2_end)\n",
    "    \n",
    "    prepend_dates = pd.date_range(start=date_range_1_start, end=date_range_1_end, freq='D')    \n",
    "    prepend_df = pd.DataFrame(np.zeros((len(prepend_dates),len(in_df.columns)), dtype='int'),index=prepend_dates,columns=in_df.columns)\n",
    "    for name in ['confirmed', 'recovered', 'death']:\n",
    "        first_confirmed_count = in_df[name].iloc[0]\n",
    "        last_value = prepend_fill(prepend_df, name, 'new_' + name, first_confirmed_count, in_df)\n",
    "\n",
    "    in_df = pd.concat([prepend_df, in_df])\n",
    "    prepend_dates = pd.date_range(start=date_range_2_start, end=date_range_2_end, freq='D')\n",
    "    prepend_df = pd.DataFrame(np.zeros((len(prepend_dates),len(in_df.columns)), dtype='int'),index=prepend_dates,columns=in_df.columns)\n",
    "    for name in ['confirmed', 'recovered', 'death']:\n",
    "        first_confirmed_count = in_df[name].iloc[0]\n",
    "        last_value = prepend_fill(prepend_df, name, 'new_' + name, first_confirmed_count, in_df)\n",
    "        \n",
    "    return pd.concat([prepend_df, in_df])"
   ]
  },
  {
   "cell_type": "code",
   "execution_count": 10,
   "metadata": {},
   "outputs": [],
   "source": [
    "# # ldf = get_cases_by_region(region='Italy').loc[pd.to_datetime('2020-02-21'):].copy()\n",
    "# # ldf.loc[:,'confirmed'] = (ldf['confirmed'] + 100)*2.0\n",
    "# # ldf.loc[:,'new_confirmed'].iloc[0] = ldf['confirmed'].iloc[0]\n",
    "# # ldf.loc[:,'new_confirmed'].iloc[1:] = ldf['confirmed'].iloc[1:].values - ldf['confirmed'].iloc[:-1].values\n",
    "# ldf = get_cases_by_region(region='Italy')\n",
    "# # ldf = prepend(ldf, first_date=pd.to_datetime('2020-02-21'), init_add=100, mult=1.5)\n",
    "# ldf = prepend(ldf, first_date=pd.to_datetime('2020-02-21'))\n",
    "# ldf"
   ]
  },
  {
   "cell_type": "code",
   "execution_count": 11,
   "metadata": {},
   "outputs": [],
   "source": [
    "# ldf = get_cases_by_region(region='Mainland China')\n",
    "# # ldf = prepend(ldf, first_date=pd.to_datetime('2020-02-21'), init_add=100, mult=1.5)\n",
    "# ldf = prepend(ldf)\n",
    "# ldf"
   ]
  },
  {
   "cell_type": "code",
   "execution_count": 12,
   "metadata": {},
   "outputs": [],
   "source": [
    "def distribute_across_cases_linear(in_df, dt, new_death, timeline_days=3*7):\n",
    "    three_weeks_ago = dt + datetime.timedelta(days=-timeline_days)\n",
    "    ldf = in_df[in_df.start_date >= three_weeks_ago]\n",
    "    already_deaths = ldf.observed_death.sum()\n",
    "    ldf = ldf.loc[ldf.observed_death == False,:]\n",
    "    available_death_slots = len(ldf)\n",
    "    if available_death_slots < new_death:\n",
    "        raise Exception('available_death_slots < new_death')\n",
    "    death_indices = np.random.choice(len(ldf), new_death, replace=False)\n",
    "    death_indices = ldf.index[death_indices]\n",
    "    \n",
    "    ldf = in_df[in_df.start_date >= three_weeks_ago]\n",
    "    added_death = (ldf.observed_death == True).sum() - already_deaths\n",
    "    # print(new_death, added_death, already_deaths)\n",
    "    \n",
    "    return death_indices"
   ]
  },
  {
   "cell_type": "markdown",
   "metadata": {},
   "source": [
    "* [Gamma distribution](https://en.wikipedia.org/wiki/Gamma_distribution)"
   ]
  },
  {
   "cell_type": "code",
   "execution_count": 13,
   "metadata": {},
   "outputs": [
    {
     "data": {
      "text/plain": [
       "[<matplotlib.lines.Line2D at 0x7ff540344b00>]"
      ]
     },
     "execution_count": 13,
     "metadata": {},
     "output_type": "execute_result"
    },
    {
     "data": {
      "image/png": "[encoded data removed]",
      "text/plain": [
       "<Figure size 1120x640 with 1 Axes>"
      ]
     },
     "metadata": {},
     "output_type": "display_data"
    }
   ],
   "source": [
    "x = np.linspace(0.0,30.0,1000)\n",
    "gamma_loc   = 2.0\n",
    "gamma_k     = 3.0\n",
    "gamme_theta = 3.0\n",
    "y = stats.gamma(gamma_k, loc=gamma_loc, scale=gamme_theta).pdf(x)\n",
    "fig=plt.figure(figsize=(14, 8), dpi=80, facecolor='w', edgecolor='k')\n",
    "ax = plt.subplot(111)\n",
    "ax.plot(x,y)"
   ]
  },
  {
   "cell_type": "code",
   "execution_count": 14,
   "metadata": {},
   "outputs": [],
   "source": [
    "def distribute_across_cases_gamma(in_df, dt, new_death, timeline_days=4*7):\n",
    "    three_weeks_ago = dt + datetime.timedelta(days=-timeline_days)\n",
    "    ldf = in_df[in_df.start_date >= three_weeks_ago]\n",
    "    already_deaths = ldf.observed_death.sum()\n",
    "    ldf = ldf.loc[ldf.observed_death == False,:]\n",
    "    available_death_slots = len(ldf)\n",
    "    if available_death_slots < new_death:\n",
    "        raise Exception('available_death_slots < new_death')\n",
    "    \n",
    "    ds_age = (dt - ldf.start_date).dt.days\n",
    "    distribution = stats.gamma(gamma_k, loc=gamma_loc, scale=gamme_theta).pdf(ds_age)\n",
    "    distribution = distribution / distribution.sum()\n",
    "        \n",
    "    death_indices = np.random.choice(len(ldf), new_death, replace=False, p=distribution)\n",
    "    death_indices = ldf.index[death_indices]\n",
    "    \n",
    "    ldf = in_df[in_df.start_date >= three_weeks_ago]\n",
    "    added_death = (ldf.observed_death == True).sum() - already_deaths\n",
    "    # print(new_death, added_death, already_deaths)\n",
    "    \n",
    "    return death_indices"
   ]
  },
  {
   "cell_type": "code",
   "execution_count": 15,
   "metadata": {},
   "outputs": [],
   "source": [
    "def generate_life_lines(in_df, random_seed=None):\n",
    "    if random_seed is None:\n",
    "        random_seed = 42 # np.random.RandomState(42)\n",
    "    np.random.seed(random_seed)\n",
    "    rdf = pd.DataFrame(columns=['start_date', 'end_date', 'observed_death'])\n",
    "    end_date = in_df.index[-1] + datetime.timedelta(days=1)\n",
    "    l = len(in_df)\n",
    "    for i in range(l):\n",
    "        dt = in_df.index[i]\n",
    "        # end existing life-lines\n",
    "        new_death = in_df['new_death'].iloc[i]\n",
    "        if new_death > 0:\n",
    "            # death_indices = distribute_across_cases_linear(rdf, dt, new_death, timeline_days=3*7)\n",
    "            death_indices = distribute_across_cases_gamma(rdf, dt, new_death, timeline_days=3*7)\n",
    "            rdf.loc[death_indices, 'observed_death'] = True\n",
    "            rdf.loc[death_indices, 'end_date']       = dt            \n",
    "        \n",
    "        # create new life-lines\n",
    "        new_lifelines = in_df['new_confirmed'].iloc[i]\n",
    "        line = [[dt, end_date, False]]\n",
    "        ldf = pd.DataFrame(line * new_lifelines, columns=['start_date', 'end_date', 'observed_death'])\n",
    "        rdf = pd.concat([rdf, ldf])\n",
    "        rdf.reset_index(drop=True, inplace=True)\n",
    "    \n",
    "    rdf['day_count'] = (rdf.end_date - rdf.start_date).dt.days\n",
    "        \n",
    "    return rdf"
   ]
  },
  {
   "cell_type": "code",
   "execution_count": 16,
   "metadata": {},
   "outputs": [],
   "source": [
    "import lifelines"
   ]
  },
  {
   "cell_type": "code",
   "execution_count": 17,
   "metadata": {},
   "outputs": [],
   "source": [
    "class MortalityAnalysis():\n",
    "    def __init__(self, region, first_date=None, init_add=0, mult=1.0):\n",
    "        self.region                  = region\n",
    "        self.first_date              = first_date\n",
    "        self.init_add                = init_add\n",
    "        self.mult                    = mult\n",
    "        self.df                      = get_cases_by_region(region=region)\n",
    "        self.prepend_df              = prepend(self.df, first_date=first_date, init_add=init_add, mult=mult)\n",
    "        self.df_lifelines_individual = generate_life_lines(self.prepend_df)\n",
    "        \n",
    "#         observed_death_by_day = self.df_lifelines_individual[['end_date', 'observed_death']].groupby(['end_date']).sum()\n",
    "#         observed_death_by_day['observed_death'] = observed_death_by_day['observed_death'].astype(np.int)\n",
    "#         self.observed_death_by_day = observed_death_by_day\n",
    "        \n",
    "#         ldf = self.prepend_df.new_death - self.observed_death_by_day.observed_death\n",
    "#         if len(ldf[ldf > 0.0]) > 0:\n",
    "#             raise Exception('MortalityAnalysis: the death in df_lifelines_individual do not match the ones in prepend_df')\n",
    "        \n",
    "    def fit(self):\n",
    "        kmf_ = lifelines.KaplanMeierFitter()\n",
    "        kmf_.fit(self.df_lifelines_individual.day_count, self.df_lifelines_individual.observed_death, label='kmf_')\n",
    "        self.kmf = kmf_\n",
    "\n",
    "        wbf_ = lifelines.WeibullFitter()\n",
    "        wbf_.fit(self.df_lifelines_individual.day_count, self.df_lifelines_individual.observed_death, label='wbf_')\n",
    "        self.wbf = wbf_\n",
    "\n",
    "        exf_ = lifelines.ExponentialFitter()\n",
    "        exf_.fit(self.df_lifelines_individual.day_count, self.df_lifelines_individual.observed_death, label='exf_')        \n",
    "        self.exf = exf_\n",
    "        \n",
    "    def plot(self):\n",
    "        sns.set_style(\"whitegrid\")\n",
    "        fig=plt.figure(figsize=(14, 8), dpi=80, facecolor='w', edgecolor='k')\n",
    "        ax = plt.subplot(111)\n",
    "        ax.set_ylim([0.0,1.0])\n",
    "\n",
    "        self.kmf.plot(ax=ax)\n",
    "        # self.wbf.plot_survival_function(ax=ax)\n",
    "        # self.exf.plot_survival_function(ax=ax)\n",
    "        \n",
    "    def death_rate(self):\n",
    "        mean  = np.round(float(1-self.kmf.survival_function_.iloc[-1].values)*100,2) \n",
    "        lower = np.round(float(1-self.kmf.confidence_interval_.iloc[-1,1])*100,2) \n",
    "        upper = np.round(float(1-self.kmf.confidence_interval_.iloc[-1,0])*100,2) \n",
    "        return (mean,lower,upper)"
   ]
  },
  {
   "cell_type": "code",
   "execution_count": 18,
   "metadata": {},
   "outputs": [],
   "source": [
    "china_mortality_analysis = MortalityAnalysis('Mainland China')"
   ]
  },
  {
   "cell_type": "code",
   "execution_count": 19,
   "metadata": {},
   "outputs": [],
   "source": [
    "# china_mortality_analysis.df.tail()"
   ]
  },
  {
   "cell_type": "code",
   "execution_count": 20,
   "metadata": {},
   "outputs": [],
   "source": [
    "# china_mortality_analysis.df_lifelines_individual.observed_death.sum()"
   ]
  },
  {
   "cell_type": "code",
   "execution_count": 21,
   "metadata": {},
   "outputs": [],
   "source": [
    "# china_mortality_analysis.df.head()"
   ]
  },
  {
   "cell_type": "code",
   "execution_count": 22,
   "metadata": {},
   "outputs": [],
   "source": [
    "# china_mortality_analysis.df.tail()"
   ]
  },
  {
   "cell_type": "code",
   "execution_count": 23,
   "metadata": {},
   "outputs": [],
   "source": [
    "china_mortality_analysis.fit()"
   ]
  },
  {
   "cell_type": "code",
   "execution_count": 24,
   "metadata": {},
   "outputs": [],
   "source": [
    "# china_mortality_analysis.wbf.print_summary()\n",
    "\n",
    "# expected_life_time = china_mortality_analysis.wbf.lambda_ * scipy.special.gamma(1 + 1 / china_mortality_analysis.wbf.rho_)\n",
    "# expected_life_time/365"
   ]
  },
  {
   "cell_type": "code",
   "execution_count": 25,
   "metadata": {},
   "outputs": [
    {
     "data": {
      "text/plain": [
       "(3.95, 3.81, 4.09)"
      ]
     },
     "execution_count": 25,
     "metadata": {},
     "output_type": "execute_result"
    }
   ],
   "source": [
    "china_mortality_analysis.death_rate()"
   ]
  },
  {
   "cell_type": "code",
   "execution_count": 26,
   "metadata": {},
   "outputs": [
    {
     "data": {
      "image/png": "[encoded data removed]",
      "text/plain": [
       "<Figure size 1120x640 with 1 Axes>"
      ]
     },
     "metadata": {},
     "output_type": "display_data"
    }
   ],
   "source": [
    "china_mortality_analysis.plot()"
   ]
  },
  {
   "cell_type": "code",
   "execution_count": 27,
   "metadata": {},
   "outputs": [
    {
     "name": "stdout",
     "output_type": "stream",
     "text": [
      "(0.48, 0.1, 2.38)\n"
     ]
    },
    {
     "data": {
      "image/png": "[encoded data removed]",
      "text/plain": [
       "<Figure size 1120x640 with 1 Axes>"
      ]
     },
     "metadata": {},
     "output_type": "display_data"
    }
   ],
   "source": [
    "germany_mortality_analysis = MortalityAnalysis('Germany')\n",
    "germany_mortality_analysis.fit()\n",
    "print(germany_mortality_analysis.death_rate())\n",
    "germany_mortality_analysis.plot()"
   ]
  },
  {
   "cell_type": "code",
   "execution_count": 28,
   "metadata": {},
   "outputs": [
    {
     "name": "stdout",
     "output_type": "stream",
     "text": [
      "(1.47, 0.97, 2.24)\n",
      "(1.16, 0.86, 1.56)\n",
      "8413\n"
     ]
    },
    {
     "data": {
      "image/png": "[encoded data removed]",
      "text/plain": [
       "<Figure size 1120x640 with 1 Axes>"
      ]
     },
     "metadata": {},
     "output_type": "display_data"
    }
   ],
   "source": [
    "south_korea_mortality_analysis = MortalityAnalysis('Republic of Korea')\n",
    "south_korea_mortality_analysis.fit()\n",
    "south_korea_mortality_analysis2 = MortalityAnalysis('Republic of Korea', first_date=pd.to_datetime('2020-02-20'), init_add=900)\n",
    "south_korea_mortality_analysis2.fit()\n",
    "print(south_korea_mortality_analysis.death_rate())\n",
    "print(south_korea_mortality_analysis2.death_rate())\n",
    "print(south_korea_mortality_analysis2.prepend_df['confirmed'].iloc[-1])\n",
    "south_korea_mortality_analysis.plot()"
   ]
  },
  {
   "cell_type": "code",
   "execution_count": 29,
   "metadata": {},
   "outputs": [],
   "source": [
    "# south_korea_mortality_analysis.df"
   ]
  },
  {
   "cell_type": "code",
   "execution_count": 30,
   "metadata": {},
   "outputs": [],
   "source": [
    "# south_korea_mortality_analysis.prepend_df"
   ]
  },
  {
   "cell_type": "code",
   "execution_count": 31,
   "metadata": {},
   "outputs": [
    {
     "name": "stdout",
     "output_type": "stream",
     "text": [
      "(12.53, 8.31, 18.66)\n",
      "(2.11, 1.48, 3.01)\n",
      "4568\n"
     ]
    },
    {
     "data": {
      "image/png": "[encoded data removed]",
      "text/plain": [
       "<Figure size 1120x640 with 1 Axes>"
      ]
     },
     "metadata": {},
     "output_type": "display_data"
    }
   ],
   "source": [
    "france_mortality_analysis = MortalityAnalysis('France')\n",
    "france_mortality_analysis.fit()\n",
    "france_mortality_analysis2 = MortalityAnalysis('France', first_date=pd.to_datetime('2020-02-15'), init_add=500, mult=2.0)\n",
    "france_mortality_analysis2.fit()\n",
    "print(france_mortality_analysis.death_rate())\n",
    "print(france_mortality_analysis2.death_rate())\n",
    "print(france_mortality_analysis2.prepend_df['confirmed'].iloc[-1])\n",
    "france_mortality_analysis.plot()"
   ]
  },
  {
   "cell_type": "code",
   "execution_count": 32,
   "metadata": {},
   "outputs": [],
   "source": [
    "# us_mortality_analysis = MortalityAnalysis('US')\n",
    "# us_mortality_analysis.fit()\n",
    "# us_mortality_analysis2 = MortalityAnalysis('US', first_date=pd.to_datetime('2020-02-29'), init_add=450, mult=3.0)\n",
    "# us_mortality_analysis2.fit()\n",
    "# print(us_mortality_analysis.death_rate())\n",
    "# print(us_mortality_analysis2.death_rate())\n",
    "# print(us_mortality_analysis2.prepend_df['confirmed'].iloc[-1])\n",
    "# us_mortality_analysis.plot()"
   ]
  },
  {
   "cell_type": "code",
   "execution_count": 33,
   "metadata": {},
   "outputs": [
    {
     "name": "stdout",
     "output_type": "stream",
     "text": [
      "(27.25, 24.57, 30.16)\n",
      "(3.1, 2.85, 3.38)\n",
      "60745\n"
     ]
    },
    {
     "data": {
      "image/png": "[encoded data removed]",
      "text/plain": [
       "<Figure size 1120x640 with 1 Axes>"
      ]
     },
     "metadata": {},
     "output_type": "display_data"
    }
   ],
   "source": [
    "italy_mortality_analysis = MortalityAnalysis('Italy', first_date=pd.to_datetime('2020-02-21'))\n",
    "italy_mortality_analysis.fit()\n",
    "print(italy_mortality_analysis.death_rate())\n",
    "italy_mortality_analysis2 = MortalityAnalysis('Italy', first_date=pd.to_datetime('2020-02-21'), init_add=2000, mult=5.0)\n",
    "italy_mortality_analysis2.fit()\n",
    "print(italy_mortality_analysis2.death_rate())\n",
    "print(italy_mortality_analysis2.prepend_df['confirmed'].iloc[-1])\n",
    "italy_mortality_analysis.plot()"
   ]
  },
  {
   "cell_type": "code",
   "execution_count": 34,
   "metadata": {},
   "outputs": [],
   "source": [
    "# italy_mortality_analysis2.prepend_df"
   ]
  },
  {
   "cell_type": "code",
   "execution_count": 35,
   "metadata": {},
   "outputs": [
    {
     "name": "stdout",
     "output_type": "stream",
     "text": [
      "2.9.4\n"
     ]
    }
   ],
   "source": [
    "import rpy2\n",
    "print(rpy2.__version__)"
   ]
  },
  {
   "cell_type": "code",
   "execution_count": 36,
   "metadata": {},
   "outputs": [
    {
     "name": "stdout",
     "output_type": "stream",
     "text": [
      "('3', '5.1', '', 74947)\n"
     ]
    }
   ],
   "source": [
    "from rpy2.rinterface import R_VERSION_BUILD\n",
    "print(R_VERSION_BUILD)"
   ]
  },
  {
   "cell_type": "code",
   "execution_count": 37,
   "metadata": {},
   "outputs": [
    {
     "name": "stderr",
     "output_type": "stream",
     "text": [
      "/home/local/cs/local/install/anaconda3-5.3.1-Linux-x86_64/envs/py36ds/lib/python3.6/site-packages/rpy2/robjects/lib/ggplot2.py:67: UserWarning: This was designed againt ggplot2 version 2.2.1 but you have 3.0.0\n",
      "  warnings.warn('This was designed againt ggplot2 version %s but you have %s' % (TARGET_VERSION, ggplot2.__version__))\n"
     ]
    }
   ],
   "source": [
    "import IPython.display\n",
    "import rpy2, rpy2.robjects, rpy2.robjects.pandas2ri, rpy2.rinterface, rpy2.robjects.packages, rpy2.interactive, rpy2.robjects.lib.ggplot2, rpy2.robjects.lib.grdevices\n",
    "rpy2.robjects.pandas2ri.activate()\n",
    "\n",
    "from rpy2.robjects.packages import importr\n",
    "# import R's \"base\" package\n",
    "base = importr('base')\n",
    "\n",
    "# import rpy2's package module\n",
    "import rpy2.robjects.packages as rpackages\n",
    "\n",
    "# import R's utility package\n",
    "utils = rpackages.importr('utils')\n",
    "\n",
    "# select a mirror for R packages\n",
    "utils.chooseCRANmirror(ind=1) # select the first mirror in the list\n",
    "\n",
    "# R package names\n",
    "packnames = ('LexisPlotR',)\n",
    "\n",
    "# R vector of strings\n",
    "from rpy2.robjects.vectors import StrVector"
   ]
  },
  {
   "cell_type": "code",
   "execution_count": 38,
   "metadata": {},
   "outputs": [
    {
     "data": {
      "text/plain": [
       "rpy2.robjects.packages.Package as a <module 'LexisPlotR'>"
      ]
     },
     "execution_count": 38,
     "metadata": {},
     "output_type": "execute_result"
    }
   ],
   "source": [
    "grdevices = rpy2.robjects.packages.importr('grDevices')\n",
    "# Selectively install what needs to be install.\n",
    "# We are fancy, just because we can.\n",
    "names_to_install = [x for x in packnames if not rpackages.isinstalled(x)]\n",
    "if len(names_to_install) > 0:\n",
    "    utils.install_packages(StrVector(names_to_install))\n",
    "\n",
    "lexis = importr('LexisPlotR')\n",
    "lexis"
   ]
  },
  {
   "cell_type": "code",
   "execution_count": 39,
   "metadata": {},
   "outputs": [],
   "source": [
    "lexis_grid = rpy2.robjects.r['lexis.grid']\n",
    "lexis_lifeline = rpy2.robjects.r['lexis.lifeline']"
   ]
  },
  {
   "cell_type": "code",
   "execution_count": 40,
   "metadata": {},
   "outputs": [],
   "source": [
    "def plot_lexis(mortality_analysis_instance):\n",
    "    mylexis = lexis_grid(year_start = 2020, year_end = 2021, age_start = 0, age_end = 1) #  lwd = 0.1\n",
    "\n",
    "    alpha = 1.0\n",
    "    ix_present = ~mortality_analysis_instance.df_lifelines_individual.observed_death\n",
    "    ix_lost    = mortality_analysis_instance.df_lifelines_individual.observed_death\n",
    "    mylexis = lexis_lifeline(lg = mylexis , entry = mortality_analysis_instance.df_lifelines_individual['start_date'][ix_present],                                                                               colour = \"orange\", alpha = alpha, lwd = 0.4)\n",
    "    mylexis = lexis_lifeline(lg = mylexis , entry = mortality_analysis_instance.df_lifelines_individual['start_date'][ix_lost]   , exit = mortality_analysis_instance.df_lifelines_individual['end_date'][ix_lost], colour = \"blue\"  , alpha = alpha, lwd = 0.4, lineends = True)\n",
    "\n",
    "    with rpy2.robjects.lib.grdevices.render_to_bytesio(grdevices.png, width=1.5*1024, height=1.5*896, res=90) as img:\n",
    "        rpy2.robjects.r.print(mylexis)   \n",
    "    IPython.display.display(IPython.display.Image(data=img.getvalue(), format='png', embed=True))"
   ]
  },
  {
   "cell_type": "code",
   "execution_count": 41,
   "metadata": {},
   "outputs": [],
   "source": [
    "# plot_lexis(italy_mortality_analysis)"
   ]
  },
  {
   "cell_type": "code",
   "execution_count": 42,
   "metadata": {},
   "outputs": [],
   "source": [
    "# plot_lexis(italy_mortality_analysis2)"
   ]
  },
  {
   "cell_type": "code",
   "execution_count": 43,
   "metadata": {},
   "outputs": [
    {
     "data": {
      "image/png": "[encoded data removed]",
      "text/plain": [
       "<IPython.core.display.Image object>"
      ]
     },
     "metadata": {},
     "output_type": "display_data"
    }
   ],
   "source": [
    "plot_lexis(south_korea_mortality_analysis)"
   ]
  },
  {
   "cell_type": "code",
   "execution_count": null,
   "metadata": {},
   "outputs": [],
   "source": []
  }
 ],
 "metadata": {
  "kernelspec": {
   "display_name": "Python 3",
   "language": "python",
   "name": "python3"
  },
  "language_info": {
   "codemirror_mode": {
    "name": "ipython",
    "version": 3
   },
   "file_extension": ".py",
   "mimetype": "text/x-python",
   "name": "python",
   "nbconvert_exporter": "python",
   "pygments_lexer": "ipython3",
   "version": "3.6.8"
  }
 },
 "nbformat": 4,
 "nbformat_minor": 2
}
