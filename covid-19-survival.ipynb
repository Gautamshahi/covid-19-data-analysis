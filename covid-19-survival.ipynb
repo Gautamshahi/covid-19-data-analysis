{
 "cells": [
  {
   "cell_type": "code",
   "execution_count": 1,
   "metadata": {},
   "outputs": [
    {
     "name": "stdout",
     "output_type": "stream",
     "text": [
      "cs224 \n",
      "last updated: 2020-04-10 \n",
      "\n",
      "CPython 3.6.10\n",
      "IPython 7.13.0\n",
      "\n",
      "numpy 1.18.1\n",
      "xarray 0.15.0\n",
      "scipy 1.4.1\n",
      "pandas 1.0.2\n",
      "sklearn 0.22.1\n",
      "matplotlib 3.1.3\n",
      "seaborn 0.10.0\n",
      "pymc3 3.8\n",
      "lifelines 0.24.2\n",
      "rpy2 3.2.6\n"
     ]
    }
   ],
   "source": [
    "%load_ext watermark\n",
    "%watermark -a 'cs224' -u -d -v -p numpy,xarray,scipy,pandas,sklearn,matplotlib,seaborn,pymc3,lifelines,rpy2"
   ]
  },
  {
   "cell_type": "code",
   "execution_count": 2,
   "metadata": {},
   "outputs": [],
   "source": [
    "%matplotlib inline\n",
    "import numpy as np, scipy, scipy.stats as stats, scipy.special, scipy.misc, pandas as pd, matplotlib.pyplot as plt, seaborn as sns, xarray as xr\n",
    "import matplotlib as mpl\n",
    "\n",
    "import pymc3 as pm\n",
    "\n",
    "import theano as thno\n",
    "import theano.tensor as T\n",
    "\n",
    "import datetime, time, math\n",
    "from dateutil import relativedelta\n",
    "\n",
    "from collections import OrderedDict\n",
    "\n",
    "SEED = 41\n",
    "np.random.seed(SEED)\n",
    "\n",
    "pd.set_option('display.max_columns', 500)\n",
    "pd.set_option('display.width', 1000)\n",
    "# pd.set_option('display.float_format', lambda x: '%.2f' % x)\n",
    "np.set_printoptions(edgeitems=10)\n",
    "np.set_printoptions(linewidth=1000)\n",
    "np.set_printoptions(suppress=True)\n",
    "np.core.arrayprint._line_width = 180\n",
    "\n",
    "sns.set()"
   ]
  },
  {
   "cell_type": "code",
   "execution_count": 3,
   "metadata": {},
   "outputs": [
    {
     "data": {
      "text/html": [
       "<style>.container { width:70% !important; }</style>"
      ],
      "text/plain": [
       "<IPython.core.display.HTML object>"
      ]
     },
     "metadata": {},
     "output_type": "display_data"
    }
   ],
   "source": [
    "from IPython.display import display, HTML\n",
    "\n",
    "from IPython.display import display_html\n",
    "def display_side_by_side(*args):\n",
    "    html_str=''\n",
    "    for df in args:\n",
    "        if type(df) == np.ndarray:\n",
    "            df = pd.DataFrame(df)\n",
    "        html_str+=df.to_html()\n",
    "    html_str = html_str.replace('table','table style=\"display:inline\"')\n",
    "    # print(html_str)\n",
    "    display_html(html_str,raw=True)\n",
    "\n",
    "CSS = \"\"\"\n",
    ".output {\n",
    "    flex-direction: row;\n",
    "}\n",
    "\"\"\"\n",
    "\n",
    "def display_graphs_side_by_side(*args):\n",
    "    html_str='<table><tr>'\n",
    "    for g in args:\n",
    "        html_str += '<td>'\n",
    "        html_str += g._repr_svg_()\n",
    "        html_str += '</td>'\n",
    "    html_str += '</tr></table>'\n",
    "    display_html(html_str,raw=True)\n",
    "    \n",
    "\n",
    "display(HTML(\"<style>.container { width:70% !important; }</style>\"))"
   ]
  },
  {
   "cell_type": "code",
   "execution_count": 4,
   "metadata": {},
   "outputs": [],
   "source": [
    "%load_ext autoreload\n",
    "%autoreload 1\n",
    "%aimport covid19"
   ]
  },
  {
   "cell_type": "markdown",
   "metadata": {},
   "source": [
    "* [Estimates of the severity of coronavirus disease 2019: a model-based analysis](https://www.thelancet.com/journals/laninf/article/PIIS1473-3099(20)30243-7/fulltext)\n",
    "    * duration from onset of symptoms to death to be 17·8 days (95% credible interval [CrI] 16·9–19·2)\n",
    "    * to hospital discharge to be 24·7 days (22·9–28·1).\n",
    "* [Estimating SARS-COV-2 infections](https://observablehq.com/@danyx/estimating-sars-cov-2-infections)\n",
    "    * it takes on average 23 days from infection to death.\n",
    "    * ~5 days from infection to symptoms and ~18 days from symptoms to death so we arrive at a default value of 23 days from infection to death\n",
    "* [Characteristics of COVID-19 patients dying in Italy Report based on available data on March 20th, 2020](https://www.epicentro.iss.it/coronavirus/bollettino/Report-COVID-2019_20_marzo_eng.pdf)\n",
    "    * Median number of days between onset of symptoms to death: 8\n",
    "    * Median number of days between onset of symptoms to hospitalization: 4\n",
    "* [Clinical course and risk factors for mortality of adult inpatients with COVID-19 in Wuhan, China: a retrospective cohort study](https://www.thelancet.com/journals/lancet/article/PIIS0140-6736(20)30566-3/fulltext)\n",
    "    * Time from illness onset to hospital admission, days\t11·0 (8·0–14·0)\n",
    "* [Coronavirus: how quickly do COVID-19 symptoms develop and how long do they last?](https://patient.info/news-and-features/coronavirus-how-quickly-do-covid-19-symptoms-develop-and-how-long-do-they-last)\n",
    "    * ~5 days from infection to symptoms\n"
   ]
  },
  {
   "cell_type": "markdown",
   "metadata": {},
   "source": [
    "* [Gamma distribution](https://en.wikipedia.org/wiki/Gamma_distribution)"
   ]
  },
  {
   "cell_type": "code",
   "execution_count": 5,
   "metadata": {},
   "outputs": [],
   "source": [
    "duration_onset_death_mean = 17.8\n",
    "duration_onset_death_02_5_pc = 16.9\n",
    "duration_onset_death_97_5_pc = 19.2"
   ]
  },
  {
   "cell_type": "code",
   "execution_count": 6,
   "metadata": {},
   "outputs": [],
   "source": [
    "def fit_measure(in_array):\n",
    "    loc, k, theta = in_array[0], in_array[1], in_array[2]\n",
    "    dist = stats.gamma(k, loc=loc, scale=theta)\n",
    "    mean = float(dist.stats('m'))\n",
    "    q_02_5 = dist.ppf(0.025)\n",
    "    q_97_5 = dist.ppf(0.975)\n",
    "    r = (duration_onset_death_mean - mean)**2 + (duration_onset_death_02_5_pc - q_02_5)**2 + (duration_onset_death_97_5_pc - q_97_5)**2\n",
    "    return r"
   ]
  },
  {
   "cell_type": "code",
   "execution_count": 7,
   "metadata": {},
   "outputs": [],
   "source": [
    "gamma_loc   = 2.0\n",
    "gamma_k     = 3.0\n",
    "gamme_theta = 3.0"
   ]
  },
  {
   "cell_type": "code",
   "execution_count": 8,
   "metadata": {},
   "outputs": [
    {
     "data": {
      "text/plain": [
       "236.40274873031794"
      ]
     },
     "execution_count": 8,
     "metadata": {},
     "output_type": "execute_result"
    }
   ],
   "source": [
    "l = fit_measure(np.array([gamma_loc, gamma_k, gamme_theta]))\n",
    "l"
   ]
  },
  {
   "cell_type": "code",
   "execution_count": 9,
   "metadata": {},
   "outputs": [
    {
     "name": "stdout",
     "output_type": "stream",
     "text": [
      "14.893998550302967 25.668385368738527 0.11661697412505936\n"
     ]
    },
    {
     "data": {
      "text/plain": [
       " final_simplex: (array([[14.89399855, 25.66838537,  0.11661697],\n",
       "       [14.88129625, 25.6250824 ,  0.11762834],\n",
       "       [14.8644492 , 25.67040316,  0.1177947 ],\n",
       "       [14.92873074, 25.7383073 ,  0.11524772]]), array([0.01317712, 0.01323173, 0.01338485, 0.0134103 ]))\n",
       "           fun: 0.01317711608372878\n",
       "       message: 'Optimization terminated successfully.'\n",
       "          nfev: 98\n",
       "           nit: 54\n",
       "        status: 0\n",
       "       success: True\n",
       "             x: array([14.89399855, 25.66838537,  0.11661697])"
      ]
     },
     "execution_count": 9,
     "metadata": {},
     "output_type": "execute_result"
    }
   ],
   "source": [
    "r = scipy.optimize.minimize(fit_measure, np.array([gamma_loc, gamma_k, gamme_theta]), method='Nelder-Mead', tol=0.1)\n",
    "gamma_loc   = r.x[0]\n",
    "gamma_k     = r.x[1]\n",
    "gamme_theta = r.x[2]\n",
    "print(gamma_loc, gamma_k, gamme_theta)\n",
    "r"
   ]
  },
  {
   "cell_type": "code",
   "execution_count": 10,
   "metadata": {},
   "outputs": [
    {
     "data": {
      "text/plain": [
       "(17.8873679826812, 16.843433590738254, 19.151583132802926)"
      ]
     },
     "execution_count": 10,
     "metadata": {},
     "output_type": "execute_result"
    }
   ],
   "source": [
    "dist = stats.gamma(gamma_k, loc=gamma_loc, scale=gamme_theta)\n",
    "mean = float(dist.stats('m'))\n",
    "q_02_5 = dist.ppf(0.025)\n",
    "q_97_5 = dist.ppf(0.975)\n",
    "mean, q_02_5, q_97_5"
   ]
  },
  {
   "cell_type": "code",
   "execution_count": 11,
   "metadata": {},
   "outputs": [
    {
     "data": {
      "text/plain": [
       "[<matplotlib.lines.Line2D at 0x7f59650126a0>]"
      ]
     },
     "execution_count": 11,
     "metadata": {},
     "output_type": "execute_result"
    },
    {
     "data": {
      "image/png": "[encoded data removed]",
      "text/plain": [
       "<Figure size 1120x640 with 1 Axes>"
      ]
     },
     "metadata": {},
     "output_type": "display_data"
    }
   ],
   "source": [
    "x = np.linspace(0.0,30.0,1000)\n",
    "y = stats.gamma(gamma_k, loc=gamma_loc, scale=gamme_theta).pdf(x)\n",
    "fig=plt.figure(figsize=(14, 8), dpi=80, facecolor='w', edgecolor='k')\n",
    "ax = plt.subplot(111)\n",
    "ax.plot(x,y)"
   ]
  },
  {
   "cell_type": "code",
   "execution_count": 5,
   "metadata": {},
   "outputs": [],
   "source": [
    "china_mortality_analysis = covid19.MortalityAnalysis('China')"
   ]
  },
  {
   "cell_type": "code",
   "execution_count": 6,
   "metadata": {},
   "outputs": [
    {
     "data": {
      "text/html": [
       "<div>\n",
       "<style scoped>\n",
       "    .dataframe tbody tr th:only-of-type {\n",
       "        vertical-align: middle;\n",
       "    }\n",
       "\n",
       "    .dataframe tbody tr th {\n",
       "        vertical-align: top;\n",
       "    }\n",
       "\n",
       "    .dataframe thead th {\n",
       "        text-align: right;\n",
       "    }\n",
       "</style>\n",
       "<table border=\"1\" class=\"dataframe\">\n",
       "  <thead>\n",
       "    <tr style=\"text-align: right;\">\n",
       "      <th></th>\n",
       "      <th>confirmed</th>\n",
       "      <th>recovered</th>\n",
       "      <th>death</th>\n",
       "      <th>new_confirmed</th>\n",
       "      <th>new_recovered</th>\n",
       "      <th>new_death</th>\n",
       "    </tr>\n",
       "  </thead>\n",
       "  <tbody>\n",
       "    <tr>\n",
       "      <th>2020-04-04</th>\n",
       "      <td>82543</td>\n",
       "      <td>76946</td>\n",
       "      <td>3330</td>\n",
       "      <td>32</td>\n",
       "      <td>186</td>\n",
       "      <td>4</td>\n",
       "    </tr>\n",
       "    <tr>\n",
       "      <th>2020-04-05</th>\n",
       "      <td>82602</td>\n",
       "      <td>77207</td>\n",
       "      <td>3333</td>\n",
       "      <td>59</td>\n",
       "      <td>261</td>\n",
       "      <td>3</td>\n",
       "    </tr>\n",
       "    <tr>\n",
       "      <th>2020-04-06</th>\n",
       "      <td>82665</td>\n",
       "      <td>77310</td>\n",
       "      <td>3335</td>\n",
       "      <td>63</td>\n",
       "      <td>103</td>\n",
       "      <td>2</td>\n",
       "    </tr>\n",
       "    <tr>\n",
       "      <th>2020-04-07</th>\n",
       "      <td>82718</td>\n",
       "      <td>77410</td>\n",
       "      <td>3335</td>\n",
       "      <td>53</td>\n",
       "      <td>100</td>\n",
       "      <td>0</td>\n",
       "    </tr>\n",
       "    <tr>\n",
       "      <th>2020-04-08</th>\n",
       "      <td>82809</td>\n",
       "      <td>77567</td>\n",
       "      <td>3337</td>\n",
       "      <td>91</td>\n",
       "      <td>157</td>\n",
       "      <td>2</td>\n",
       "    </tr>\n",
       "  </tbody>\n",
       "</table>\n",
       "</div>"
      ],
      "text/plain": [
       "            confirmed  recovered  death  new_confirmed  new_recovered  new_death\n",
       "2020-04-04      82543      76946   3330             32            186          4\n",
       "2020-04-05      82602      77207   3333             59            261          3\n",
       "2020-04-06      82665      77310   3335             63            103          2\n",
       "2020-04-07      82718      77410   3335             53            100          0\n",
       "2020-04-08      82809      77567   3337             91            157          2"
      ]
     },
     "execution_count": 6,
     "metadata": {},
     "output_type": "execute_result"
    }
   ],
   "source": [
    "china_mortality_analysis.df.tail()"
   ]
  },
  {
   "cell_type": "code",
   "execution_count": 8,
   "metadata": {},
   "outputs": [],
   "source": [
    "# china_mortality_analysis.df_lifelines_individual.observed_death.sum()"
   ]
  },
  {
   "cell_type": "code",
   "execution_count": 9,
   "metadata": {},
   "outputs": [],
   "source": [
    "# china_mortality_analysis.df.head()"
   ]
  },
  {
   "cell_type": "code",
   "execution_count": 10,
   "metadata": {},
   "outputs": [],
   "source": [
    "# china_mortality_analysis.df.tail()"
   ]
  },
  {
   "cell_type": "code",
   "execution_count": 7,
   "metadata": {},
   "outputs": [],
   "source": [
    "china_mortality_analysis.fit()"
   ]
  },
  {
   "cell_type": "code",
   "execution_count": 12,
   "metadata": {},
   "outputs": [],
   "source": [
    "# china_mortality_analysis.wbf.print_summary()\n",
    "\n",
    "# expected_life_time = china_mortality_analysis.wbf.lambda_ * scipy.special.gamma(1 + 1 / china_mortality_analysis.wbf.rho_)\n",
    "# expected_life_time/365"
   ]
  },
  {
   "cell_type": "code",
   "execution_count": 8,
   "metadata": {},
   "outputs": [
    {
     "data": {
      "text/plain": [
       "(4.06, 3.93, 4.2)"
      ]
     },
     "execution_count": 8,
     "metadata": {},
     "output_type": "execute_result"
    }
   ],
   "source": [
    "china_mortality_analysis.death_rate()"
   ]
  },
  {
   "cell_type": "code",
   "execution_count": 9,
   "metadata": {},
   "outputs": [
    {
     "data": {
      "image/png": "[encoded data removed]",
      "text/plain": [
       "<Figure size 1120x640 with 1 Axes>"
      ]
     },
     "metadata": {},
     "output_type": "display_data"
    }
   ],
   "source": [
    "china_mortality_analysis.plot()"
   ]
  },
  {
   "cell_type": "code",
   "execution_count": 10,
   "metadata": {},
   "outputs": [
    {
     "name": "stdout",
     "output_type": "stream",
     "text": [
      "(3.45, 3.3, 3.6)\n"
     ]
    },
    {
     "data": {
      "image/png": "[encoded data removed]",
      "text/plain": [
       "<Figure size 1120x640 with 1 Axes>"
      ]
     },
     "metadata": {},
     "output_type": "display_data"
    }
   ],
   "source": [
    "germany_mortality_analysis = covid19.MortalityAnalysis('Germany', first_date=pd.to_datetime('2020-03-09'), init_add=1000)\n",
    "germany_mortality_analysis.fit()\n",
    "print(germany_mortality_analysis.death_rate())\n",
    "germany_mortality_analysis.plot()"
   ]
  },
  {
   "cell_type": "code",
   "execution_count": 11,
   "metadata": {},
   "outputs": [
    {
     "data": {
      "text/html": [
       "<div>\n",
       "<style scoped>\n",
       "    .dataframe tbody tr th:only-of-type {\n",
       "        vertical-align: middle;\n",
       "    }\n",
       "\n",
       "    .dataframe tbody tr th {\n",
       "        vertical-align: top;\n",
       "    }\n",
       "\n",
       "    .dataframe thead th {\n",
       "        text-align: right;\n",
       "    }\n",
       "</style>\n",
       "<table border=\"1\" class=\"dataframe\">\n",
       "  <thead>\n",
       "    <tr style=\"text-align: right;\">\n",
       "      <th></th>\n",
       "      <th>confirmed</th>\n",
       "      <th>recovered</th>\n",
       "      <th>death</th>\n",
       "      <th>new_confirmed</th>\n",
       "      <th>new_recovered</th>\n",
       "      <th>new_death</th>\n",
       "    </tr>\n",
       "  </thead>\n",
       "  <tbody>\n",
       "    <tr>\n",
       "      <th>2020-04-05</th>\n",
       "      <td>95950</td>\n",
       "      <td>26469</td>\n",
       "      <td>1452</td>\n",
       "      <td>4636</td>\n",
       "      <td>325</td>\n",
       "      <td>133</td>\n",
       "    </tr>\n",
       "    <tr>\n",
       "      <th>2020-04-06</th>\n",
       "      <td>98945</td>\n",
       "      <td>36081</td>\n",
       "      <td>1578</td>\n",
       "      <td>2995</td>\n",
       "      <td>9612</td>\n",
       "      <td>126</td>\n",
       "    </tr>\n",
       "    <tr>\n",
       "      <th>2020-04-07</th>\n",
       "      <td>103036</td>\n",
       "      <td>38287</td>\n",
       "      <td>1814</td>\n",
       "      <td>4091</td>\n",
       "      <td>2206</td>\n",
       "      <td>236</td>\n",
       "    </tr>\n",
       "    <tr>\n",
       "      <th>2020-04-08</th>\n",
       "      <td>108193</td>\n",
       "      <td>43656</td>\n",
       "      <td>2070</td>\n",
       "      <td>5157</td>\n",
       "      <td>5369</td>\n",
       "      <td>256</td>\n",
       "    </tr>\n",
       "    <tr>\n",
       "      <th>2020-04-09</th>\n",
       "      <td>112638</td>\n",
       "      <td>52407</td>\n",
       "      <td>2312</td>\n",
       "      <td>4445</td>\n",
       "      <td>8751</td>\n",
       "      <td>242</td>\n",
       "    </tr>\n",
       "  </tbody>\n",
       "</table>\n",
       "</div>"
      ],
      "text/plain": [
       "            confirmed  recovered  death  new_confirmed  new_recovered  new_death\n",
       "2020-04-05      95950      26469   1452           4636            325        133\n",
       "2020-04-06      98945      36081   1578           2995           9612        126\n",
       "2020-04-07     103036      38287   1814           4091           2206        236\n",
       "2020-04-08     108193      43656   2070           5157           5369        256\n",
       "2020-04-09     112638      52407   2312           4445           8751        242"
      ]
     },
     "execution_count": 11,
     "metadata": {},
     "output_type": "execute_result"
    }
   ],
   "source": [
    "germany_mortality_analysis.df.tail()"
   ]
  },
  {
   "cell_type": "code",
   "execution_count": 12,
   "metadata": {},
   "outputs": [
    {
     "data": {
      "text/html": [
       "<div>\n",
       "<style scoped>\n",
       "    .dataframe tbody tr th:only-of-type {\n",
       "        vertical-align: middle;\n",
       "    }\n",
       "\n",
       "    .dataframe tbody tr th {\n",
       "        vertical-align: top;\n",
       "    }\n",
       "\n",
       "    .dataframe thead th {\n",
       "        text-align: right;\n",
       "    }\n",
       "</style>\n",
       "<table border=\"1\" class=\"dataframe\">\n",
       "  <thead>\n",
       "    <tr style=\"text-align: right;\">\n",
       "      <th></th>\n",
       "      <th>expected_death</th>\n",
       "      <th>today_death</th>\n",
       "      <th>delta_death</th>\n",
       "      <th>delta_death_across_days</th>\n",
       "      <th>delta_days</th>\n",
       "      <th>required_ventilator_capacity</th>\n",
       "    </tr>\n",
       "  </thead>\n",
       "  <tbody>\n",
       "    <tr>\n",
       "      <th>0</th>\n",
       "      <td>3921.0</td>\n",
       "      <td>2312</td>\n",
       "      <td>1609.0</td>\n",
       "      <td>115.0</td>\n",
       "      <td>14</td>\n",
       "      <td>4021.0</td>\n",
       "    </tr>\n",
       "  </tbody>\n",
       "</table>\n",
       "</div>"
      ],
      "text/plain": [
       "   expected_death  today_death  delta_death  delta_death_across_days  delta_days  required_ventilator_capacity\n",
       "0          3921.0         2312       1609.0                    115.0          14                        4021.0"
      ]
     },
     "execution_count": 12,
     "metadata": {},
     "output_type": "execute_result"
    }
   ],
   "source": [
    "germany_mortality_analysis.project_death_and_hospitalization()"
   ]
  },
  {
   "cell_type": "code",
   "execution_count": 20,
   "metadata": {},
   "outputs": [
    {
     "data": {
      "text/html": [
       "<div>\n",
       "<style scoped>\n",
       "    .dataframe tbody tr th:only-of-type {\n",
       "        vertical-align: middle;\n",
       "    }\n",
       "\n",
       "    .dataframe tbody tr th {\n",
       "        vertical-align: top;\n",
       "    }\n",
       "\n",
       "    .dataframe thead th {\n",
       "        text-align: right;\n",
       "    }\n",
       "</style>\n",
       "<table border=\"1\" class=\"dataframe\">\n",
       "  <thead>\n",
       "    <tr style=\"text-align: right;\">\n",
       "      <th></th>\n",
       "      <th>expected_death</th>\n",
       "      <th>today_death</th>\n",
       "      <th>delta_death</th>\n",
       "      <th>delta_death_across_days</th>\n",
       "      <th>delta_days</th>\n",
       "      <th>required_ventilator_capacity</th>\n",
       "    </tr>\n",
       "  </thead>\n",
       "  <tbody>\n",
       "    <tr>\n",
       "      <th>0</th>\n",
       "      <td>3571.0</td>\n",
       "      <td>2070</td>\n",
       "      <td>1501.0</td>\n",
       "      <td>107.0</td>\n",
       "      <td>14</td>\n",
       "      <td>3752.0</td>\n",
       "    </tr>\n",
       "  </tbody>\n",
       "</table>\n",
       "</div>"
      ],
      "text/plain": [
       "   expected_death  today_death  delta_death  delta_death_across_days  delta_days  required_ventilator_capacity\n",
       "0          3571.0         2070       1501.0                    107.0          14                        3752.0"
      ]
     },
     "execution_count": 20,
     "metadata": {},
     "output_type": "execute_result"
    }
   ],
   "source": [
    "germany_mortality_analysis.project_death_and_hospitalization()"
   ]
  },
  {
   "cell_type": "code",
   "execution_count": 13,
   "metadata": {},
   "outputs": [
    {
     "name": "stdout",
     "output_type": "stream",
     "text": [
      "(2.88, 2.56, 3.25)\n"
     ]
    },
    {
     "data": {
      "image/png": "[encoded data removed]",
      "text/plain": [
       "<Figure size 1120x640 with 1 Axes>"
      ]
     },
     "metadata": {},
     "output_type": "display_data"
    }
   ],
   "source": [
    "austria_mortality_analysis = covid19.MortalityAnalysis('Austria', first_date=pd.to_datetime('2020-03-12'), init_add=600)\n",
    "austria_mortality_analysis.fit()\n",
    "print(austria_mortality_analysis.death_rate())\n",
    "austria_mortality_analysis.plot()"
   ]
  },
  {
   "cell_type": "code",
   "execution_count": 14,
   "metadata": {},
   "outputs": [
    {
     "data": {
      "text/html": [
       "<div>\n",
       "<style scoped>\n",
       "    .dataframe tbody tr th:only-of-type {\n",
       "        vertical-align: middle;\n",
       "    }\n",
       "\n",
       "    .dataframe tbody tr th {\n",
       "        vertical-align: top;\n",
       "    }\n",
       "\n",
       "    .dataframe thead th {\n",
       "        text-align: right;\n",
       "    }\n",
       "</style>\n",
       "<table border=\"1\" class=\"dataframe\">\n",
       "  <thead>\n",
       "    <tr style=\"text-align: right;\">\n",
       "      <th></th>\n",
       "      <th>confirmed</th>\n",
       "      <th>recovered</th>\n",
       "      <th>death</th>\n",
       "      <th>new_confirmed</th>\n",
       "      <th>new_recovered</th>\n",
       "      <th>new_death</th>\n",
       "    </tr>\n",
       "  </thead>\n",
       "  <tbody>\n",
       "    <tr>\n",
       "      <th>2020-04-05</th>\n",
       "      <td>12227</td>\n",
       "      <td>2998</td>\n",
       "      <td>204</td>\n",
       "      <td>181</td>\n",
       "      <td>0</td>\n",
       "      <td>0</td>\n",
       "    </tr>\n",
       "    <tr>\n",
       "      <th>2020-04-06</th>\n",
       "      <td>12494</td>\n",
       "      <td>3463</td>\n",
       "      <td>220</td>\n",
       "      <td>267</td>\n",
       "      <td>465</td>\n",
       "      <td>16</td>\n",
       "    </tr>\n",
       "    <tr>\n",
       "      <th>2020-04-07</th>\n",
       "      <td>12812</td>\n",
       "      <td>4046</td>\n",
       "      <td>243</td>\n",
       "      <td>318</td>\n",
       "      <td>583</td>\n",
       "      <td>23</td>\n",
       "    </tr>\n",
       "    <tr>\n",
       "      <th>2020-04-08</th>\n",
       "      <td>13025</td>\n",
       "      <td>4512</td>\n",
       "      <td>273</td>\n",
       "      <td>213</td>\n",
       "      <td>466</td>\n",
       "      <td>30</td>\n",
       "    </tr>\n",
       "    <tr>\n",
       "      <th>2020-04-09</th>\n",
       "      <td>13248</td>\n",
       "      <td>5240</td>\n",
       "      <td>295</td>\n",
       "      <td>223</td>\n",
       "      <td>728</td>\n",
       "      <td>22</td>\n",
       "    </tr>\n",
       "  </tbody>\n",
       "</table>\n",
       "</div>"
      ],
      "text/plain": [
       "            confirmed  recovered  death  new_confirmed  new_recovered  new_death\n",
       "2020-04-05      12227       2998    204            181              0          0\n",
       "2020-04-06      12494       3463    220            267            465         16\n",
       "2020-04-07      12812       4046    243            318            583         23\n",
       "2020-04-08      13025       4512    273            213            466         30\n",
       "2020-04-09      13248       5240    295            223            728         22"
      ]
     },
     "execution_count": 14,
     "metadata": {},
     "output_type": "execute_result"
    }
   ],
   "source": [
    "austria_mortality_analysis.df.tail()"
   ]
  },
  {
   "cell_type": "code",
   "execution_count": 15,
   "metadata": {},
   "outputs": [
    {
     "data": {
      "text/html": [
       "<div>\n",
       "<style scoped>\n",
       "    .dataframe tbody tr th:only-of-type {\n",
       "        vertical-align: middle;\n",
       "    }\n",
       "\n",
       "    .dataframe tbody tr th {\n",
       "        vertical-align: top;\n",
       "    }\n",
       "\n",
       "    .dataframe thead th {\n",
       "        text-align: right;\n",
       "    }\n",
       "</style>\n",
       "<table border=\"1\" class=\"dataframe\">\n",
       "  <thead>\n",
       "    <tr style=\"text-align: right;\">\n",
       "      <th></th>\n",
       "      <th>expected_death</th>\n",
       "      <th>today_death</th>\n",
       "      <th>delta_death</th>\n",
       "      <th>delta_death_across_days</th>\n",
       "      <th>delta_days</th>\n",
       "      <th>required_ventilator_capacity</th>\n",
       "    </tr>\n",
       "  </thead>\n",
       "  <tbody>\n",
       "    <tr>\n",
       "      <th>0</th>\n",
       "      <td>399.0</td>\n",
       "      <td>295</td>\n",
       "      <td>104.0</td>\n",
       "      <td>7.0</td>\n",
       "      <td>14</td>\n",
       "      <td>260.0</td>\n",
       "    </tr>\n",
       "  </tbody>\n",
       "</table>\n",
       "</div>"
      ],
      "text/plain": [
       "   expected_death  today_death  delta_death  delta_death_across_days  delta_days  required_ventilator_capacity\n",
       "0           399.0          295        104.0                      7.0          14                         260.0"
      ]
     },
     "execution_count": 15,
     "metadata": {},
     "output_type": "execute_result"
    }
   ],
   "source": [
    "austria_mortality_analysis.project_death_and_hospitalization()"
   ]
  },
  {
   "cell_type": "code",
   "execution_count": 25,
   "metadata": {},
   "outputs": [
    {
     "data": {
      "text/html": [
       "<div>\n",
       "<style scoped>\n",
       "    .dataframe tbody tr th:only-of-type {\n",
       "        vertical-align: middle;\n",
       "    }\n",
       "\n",
       "    .dataframe tbody tr th {\n",
       "        vertical-align: top;\n",
       "    }\n",
       "\n",
       "    .dataframe thead th {\n",
       "        text-align: right;\n",
       "    }\n",
       "</style>\n",
       "<table border=\"1\" class=\"dataframe\">\n",
       "  <thead>\n",
       "    <tr style=\"text-align: right;\">\n",
       "      <th></th>\n",
       "      <th>expected_death</th>\n",
       "      <th>today_death</th>\n",
       "      <th>delta_death</th>\n",
       "      <th>delta_death_across_days</th>\n",
       "      <th>delta_days</th>\n",
       "      <th>required_ventilator_capacity</th>\n",
       "    </tr>\n",
       "  </thead>\n",
       "  <tbody>\n",
       "    <tr>\n",
       "      <th>0</th>\n",
       "      <td>367.0</td>\n",
       "      <td>273</td>\n",
       "      <td>94.0</td>\n",
       "      <td>7.0</td>\n",
       "      <td>14</td>\n",
       "      <td>235.0</td>\n",
       "    </tr>\n",
       "  </tbody>\n",
       "</table>\n",
       "</div>"
      ],
      "text/plain": [
       "   expected_death  today_death  delta_death  delta_death_across_days  delta_days  required_ventilator_capacity\n",
       "0           367.0          273         94.0                      7.0          14                         235.0"
      ]
     },
     "execution_count": 25,
     "metadata": {},
     "output_type": "execute_result"
    }
   ],
   "source": [
    "austria_mortality_analysis.project_death_and_hospitalization()"
   ]
  },
  {
   "cell_type": "code",
   "execution_count": 16,
   "metadata": {},
   "outputs": [
    {
     "name": "stdout",
     "output_type": "stream",
     "text": [
      "(2.1, 1.83, 2.41)\n"
     ]
    },
    {
     "data": {
      "image/png": "[encoded data removed]",
      "text/plain": [
       "<Figure size 1120x640 with 1 Axes>"
      ]
     },
     "metadata": {},
     "output_type": "display_data"
    }
   ],
   "source": [
    "south_korea_name = 'Korea, South'\n",
    "south_korea_mortality_analysis = covid19.MortalityAnalysis(south_korea_name)\n",
    "south_korea_mortality_analysis.fit()\n",
    "# south_korea_mortality_analysis2 = covid19.MortalityAnalysis(south_korea_name, first_date=pd.to_datetime('2020-02-20'), init_add=900)\n",
    "# south_korea_mortality_analysis2.fit()\n",
    "print(south_korea_mortality_analysis.death_rate())\n",
    "# print(south_korea_mortality_analysis2.death_rate())\n",
    "# print(south_korea_mortality_analysis2.prepend_df['confirmed'].iloc[-1])\n",
    "south_korea_mortality_analysis.plot()"
   ]
  },
  {
   "cell_type": "code",
   "execution_count": 17,
   "metadata": {},
   "outputs": [
    {
     "data": {
      "text/html": [
       "<div>\n",
       "<style scoped>\n",
       "    .dataframe tbody tr th:only-of-type {\n",
       "        vertical-align: middle;\n",
       "    }\n",
       "\n",
       "    .dataframe tbody tr th {\n",
       "        vertical-align: top;\n",
       "    }\n",
       "\n",
       "    .dataframe thead th {\n",
       "        text-align: right;\n",
       "    }\n",
       "</style>\n",
       "<table border=\"1\" class=\"dataframe\">\n",
       "  <thead>\n",
       "    <tr style=\"text-align: right;\">\n",
       "      <th></th>\n",
       "      <th>confirmed</th>\n",
       "      <th>recovered</th>\n",
       "      <th>death</th>\n",
       "      <th>new_confirmed</th>\n",
       "      <th>new_recovered</th>\n",
       "      <th>new_death</th>\n",
       "    </tr>\n",
       "  </thead>\n",
       "  <tbody>\n",
       "    <tr>\n",
       "      <th>2020-04-04</th>\n",
       "      <td>10156</td>\n",
       "      <td>6325</td>\n",
       "      <td>177</td>\n",
       "      <td>94</td>\n",
       "      <td>304</td>\n",
       "      <td>3</td>\n",
       "    </tr>\n",
       "    <tr>\n",
       "      <th>2020-04-05</th>\n",
       "      <td>10237</td>\n",
       "      <td>6463</td>\n",
       "      <td>183</td>\n",
       "      <td>81</td>\n",
       "      <td>138</td>\n",
       "      <td>6</td>\n",
       "    </tr>\n",
       "    <tr>\n",
       "      <th>2020-04-06</th>\n",
       "      <td>10284</td>\n",
       "      <td>6598</td>\n",
       "      <td>186</td>\n",
       "      <td>47</td>\n",
       "      <td>135</td>\n",
       "      <td>3</td>\n",
       "    </tr>\n",
       "    <tr>\n",
       "      <th>2020-04-07</th>\n",
       "      <td>10331</td>\n",
       "      <td>6694</td>\n",
       "      <td>192</td>\n",
       "      <td>47</td>\n",
       "      <td>96</td>\n",
       "      <td>6</td>\n",
       "    </tr>\n",
       "    <tr>\n",
       "      <th>2020-04-08</th>\n",
       "      <td>10384</td>\n",
       "      <td>6776</td>\n",
       "      <td>200</td>\n",
       "      <td>53</td>\n",
       "      <td>82</td>\n",
       "      <td>8</td>\n",
       "    </tr>\n",
       "  </tbody>\n",
       "</table>\n",
       "</div>"
      ],
      "text/plain": [
       "            confirmed  recovered  death  new_confirmed  new_recovered  new_death\n",
       "2020-04-04      10156       6325    177             94            304          3\n",
       "2020-04-05      10237       6463    183             81            138          6\n",
       "2020-04-06      10284       6598    186             47            135          3\n",
       "2020-04-07      10331       6694    192             47             96          6\n",
       "2020-04-08      10384       6776    200             53             82          8"
      ]
     },
     "execution_count": 17,
     "metadata": {},
     "output_type": "execute_result"
    }
   ],
   "source": [
    "south_korea_mortality_analysis.df.tail()"
   ]
  },
  {
   "cell_type": "code",
   "execution_count": 20,
   "metadata": {},
   "outputs": [],
   "source": [
    "# south_korea_mortality_analysis.prepend_df"
   ]
  },
  {
   "cell_type": "code",
   "execution_count": 18,
   "metadata": {},
   "outputs": [
    {
     "name": "stdout",
     "output_type": "stream",
     "text": [
      "(29.2, 28.07, 30.37)\n",
      "(3.61, 3.5, 3.73)\n",
      "498192\n"
     ]
    },
    {
     "data": {
      "image/png": "[encoded data removed]",
      "text/plain": [
       "<Figure size 1120x640 with 1 Axes>"
      ]
     },
     "metadata": {},
     "output_type": "display_data"
    }
   ],
   "source": [
    "uk_name = 'United Kingdom'\n",
    "uk_mortality_analysis = covid19.MortalityAnalysis(uk_name)\n",
    "uk_mortality_analysis.fit()\n",
    "uk_mortality_analysis2 = covid19.MortalityAnalysis(uk_name, first_date=pd.to_datetime('2020-03-05'), init_add=800, mult=8.0)\n",
    "uk_mortality_analysis2.fit()\n",
    "print(uk_mortality_analysis.death_rate())\n",
    "print(uk_mortality_analysis2.death_rate())\n",
    "print(uk_mortality_analysis2.prepend_df['confirmed'].iloc[-1])\n",
    "uk_mortality_analysis.plot()"
   ]
  },
  {
   "cell_type": "code",
   "execution_count": 19,
   "metadata": {},
   "outputs": [
    {
     "data": {
      "text/html": [
       "<div>\n",
       "<style scoped>\n",
       "    .dataframe tbody tr th:only-of-type {\n",
       "        vertical-align: middle;\n",
       "    }\n",
       "\n",
       "    .dataframe tbody tr th {\n",
       "        vertical-align: top;\n",
       "    }\n",
       "\n",
       "    .dataframe thead th {\n",
       "        text-align: right;\n",
       "    }\n",
       "</style>\n",
       "<table border=\"1\" class=\"dataframe\">\n",
       "  <thead>\n",
       "    <tr style=\"text-align: right;\">\n",
       "      <th></th>\n",
       "      <th>confirmed</th>\n",
       "      <th>recovered</th>\n",
       "      <th>death</th>\n",
       "      <th>new_confirmed</th>\n",
       "      <th>new_recovered</th>\n",
       "      <th>new_death</th>\n",
       "    </tr>\n",
       "  </thead>\n",
       "  <tbody>\n",
       "    <tr>\n",
       "      <th>2020-04-04</th>\n",
       "      <td>42477</td>\n",
       "      <td>215</td>\n",
       "      <td>4320</td>\n",
       "      <td>3788</td>\n",
       "      <td>7</td>\n",
       "      <td>709</td>\n",
       "    </tr>\n",
       "    <tr>\n",
       "      <th>2020-04-05</th>\n",
       "      <td>48436</td>\n",
       "      <td>229</td>\n",
       "      <td>4943</td>\n",
       "      <td>5959</td>\n",
       "      <td>14</td>\n",
       "      <td>623</td>\n",
       "    </tr>\n",
       "    <tr>\n",
       "      <th>2020-04-06</th>\n",
       "      <td>52279</td>\n",
       "      <td>287</td>\n",
       "      <td>5385</td>\n",
       "      <td>3843</td>\n",
       "      <td>58</td>\n",
       "      <td>442</td>\n",
       "    </tr>\n",
       "    <tr>\n",
       "      <th>2020-04-07</th>\n",
       "      <td>55949</td>\n",
       "      <td>325</td>\n",
       "      <td>6171</td>\n",
       "      <td>3670</td>\n",
       "      <td>38</td>\n",
       "      <td>786</td>\n",
       "    </tr>\n",
       "    <tr>\n",
       "      <th>2020-04-08</th>\n",
       "      <td>61474</td>\n",
       "      <td>345</td>\n",
       "      <td>7111</td>\n",
       "      <td>5525</td>\n",
       "      <td>20</td>\n",
       "      <td>940</td>\n",
       "    </tr>\n",
       "  </tbody>\n",
       "</table>\n",
       "</div>"
      ],
      "text/plain": [
       "            confirmed  recovered  death  new_confirmed  new_recovered  new_death\n",
       "2020-04-04      42477        215   4320           3788              7        709\n",
       "2020-04-05      48436        229   4943           5959             14        623\n",
       "2020-04-06      52279        287   5385           3843             58        442\n",
       "2020-04-07      55949        325   6171           3670             38        786\n",
       "2020-04-08      61474        345   7111           5525             20        940"
      ]
     },
     "execution_count": 19,
     "metadata": {},
     "output_type": "execute_result"
    }
   ],
   "source": [
    "uk_mortality_analysis.df.tail()"
   ]
  },
  {
   "cell_type": "code",
   "execution_count": 20,
   "metadata": {},
   "outputs": [
    {
     "data": {
      "text/html": [
       "<div>\n",
       "<style scoped>\n",
       "    .dataframe tbody tr th:only-of-type {\n",
       "        vertical-align: middle;\n",
       "    }\n",
       "\n",
       "    .dataframe tbody tr th {\n",
       "        vertical-align: top;\n",
       "    }\n",
       "\n",
       "    .dataframe thead th {\n",
       "        text-align: right;\n",
       "    }\n",
       "</style>\n",
       "<table border=\"1\" class=\"dataframe\">\n",
       "  <thead>\n",
       "    <tr style=\"text-align: right;\">\n",
       "      <th></th>\n",
       "      <th>expected_death</th>\n",
       "      <th>today_death</th>\n",
       "      <th>delta_death</th>\n",
       "      <th>delta_death_across_days</th>\n",
       "      <th>delta_days</th>\n",
       "      <th>required_ventilator_capacity</th>\n",
       "    </tr>\n",
       "  </thead>\n",
       "  <tbody>\n",
       "    <tr>\n",
       "      <th>0</th>\n",
       "      <td>17985.0</td>\n",
       "      <td>7111</td>\n",
       "      <td>10874.0</td>\n",
       "      <td>777.0</td>\n",
       "      <td>14</td>\n",
       "      <td>27184.0</td>\n",
       "    </tr>\n",
       "  </tbody>\n",
       "</table>\n",
       "</div>"
      ],
      "text/plain": [
       "   expected_death  today_death  delta_death  delta_death_across_days  delta_days  required_ventilator_capacity\n",
       "0         17985.0         7111      10874.0                    777.0          14                       27184.0"
      ]
     },
     "execution_count": 20,
     "metadata": {},
     "output_type": "execute_result"
    }
   ],
   "source": [
    "uk_mortality_analysis2.project_death_and_hospitalization()"
   ]
  },
  {
   "cell_type": "code",
   "execution_count": 21,
   "metadata": {},
   "outputs": [
    {
     "data": {
      "text/html": [
       "<div>\n",
       "<style scoped>\n",
       "    .dataframe tbody tr th:only-of-type {\n",
       "        vertical-align: middle;\n",
       "    }\n",
       "\n",
       "    .dataframe tbody tr th {\n",
       "        vertical-align: top;\n",
       "    }\n",
       "\n",
       "    .dataframe thead th {\n",
       "        text-align: right;\n",
       "    }\n",
       "</style>\n",
       "<table border=\"1\" class=\"dataframe\">\n",
       "  <thead>\n",
       "    <tr style=\"text-align: right;\">\n",
       "      <th></th>\n",
       "      <th>expected_death</th>\n",
       "      <th>today_death</th>\n",
       "      <th>delta_death</th>\n",
       "      <th>delta_death_across_days</th>\n",
       "      <th>delta_days</th>\n",
       "      <th>required_ventilator_capacity</th>\n",
       "    </tr>\n",
       "  </thead>\n",
       "  <tbody>\n",
       "    <tr>\n",
       "      <th>0</th>\n",
       "      <td>17437.0</td>\n",
       "      <td>7111</td>\n",
       "      <td>10326.0</td>\n",
       "      <td>738.0</td>\n",
       "      <td>14</td>\n",
       "      <td>25814.0</td>\n",
       "    </tr>\n",
       "  </tbody>\n",
       "</table>\n",
       "</div>"
      ],
      "text/plain": [
       "   expected_death  today_death  delta_death  delta_death_across_days  delta_days  required_ventilator_capacity\n",
       "0         17437.0         7111      10326.0                    738.0          14                       25814.0"
      ]
     },
     "execution_count": 21,
     "metadata": {},
     "output_type": "execute_result"
    }
   ],
   "source": [
    "uk_mortality_analysis2.project_death_and_hospitalization()"
   ]
  },
  {
   "cell_type": "code",
   "execution_count": 30,
   "metadata": {},
   "outputs": [],
   "source": [
    "# pd.options.mode.chained_assignment = \"raise\""
   ]
  },
  {
   "cell_type": "code",
   "execution_count": 21,
   "metadata": {},
   "outputs": [
    {
     "name": "stdout",
     "output_type": "stream",
     "text": [
      "(8.57, 8.29, 8.85)\n",
      "(2.88, 2.78, 2.98)\n",
      "1288506\n"
     ]
    },
    {
     "data": {
      "image/png": "[encoded data removed]",
      "text/plain": [
       "<Figure size 1120x640 with 1 Axes>"
      ]
     },
     "metadata": {},
     "output_type": "display_data"
    }
   ],
   "source": [
    "us_mortality_analysis = covid19.MortalityAnalysis('US', first_date=pd.to_datetime('2020-02-29'), init_add=950)\n",
    "us_mortality_analysis.fit()\n",
    "us_mortality_analysis2 = covid19.MortalityAnalysis('US', first_date=pd.to_datetime('2020-02-29'), init_add=450, mult=3.0)\n",
    "us_mortality_analysis2.fit()\n",
    "print(us_mortality_analysis.death_rate())\n",
    "print(us_mortality_analysis2.death_rate())\n",
    "print(us_mortality_analysis2.prepend_df['confirmed'].iloc[-1])\n",
    "us_mortality_analysis.plot()"
   ]
  },
  {
   "cell_type": "code",
   "execution_count": 22,
   "metadata": {},
   "outputs": [
    {
     "data": {
      "text/html": [
       "<div>\n",
       "<style scoped>\n",
       "    .dataframe tbody tr th:only-of-type {\n",
       "        vertical-align: middle;\n",
       "    }\n",
       "\n",
       "    .dataframe tbody tr th {\n",
       "        vertical-align: top;\n",
       "    }\n",
       "\n",
       "    .dataframe thead th {\n",
       "        text-align: right;\n",
       "    }\n",
       "</style>\n",
       "<table border=\"1\" class=\"dataframe\">\n",
       "  <thead>\n",
       "    <tr style=\"text-align: right;\">\n",
       "      <th></th>\n",
       "      <th>confirmed</th>\n",
       "      <th>recovered</th>\n",
       "      <th>death</th>\n",
       "      <th>new_confirmed</th>\n",
       "      <th>new_recovered</th>\n",
       "      <th>new_death</th>\n",
       "    </tr>\n",
       "  </thead>\n",
       "  <tbody>\n",
       "    <tr>\n",
       "      <th>2020-04-04</th>\n",
       "      <td>308853</td>\n",
       "      <td>14652</td>\n",
       "      <td>8407</td>\n",
       "      <td>33267</td>\n",
       "      <td>4945</td>\n",
       "      <td>1320</td>\n",
       "    </tr>\n",
       "    <tr>\n",
       "      <th>2020-04-05</th>\n",
       "      <td>337072</td>\n",
       "      <td>17448</td>\n",
       "      <td>9619</td>\n",
       "      <td>28219</td>\n",
       "      <td>2796</td>\n",
       "      <td>1212</td>\n",
       "    </tr>\n",
       "    <tr>\n",
       "      <th>2020-04-06</th>\n",
       "      <td>366667</td>\n",
       "      <td>19581</td>\n",
       "      <td>10783</td>\n",
       "      <td>29595</td>\n",
       "      <td>2133</td>\n",
       "      <td>1164</td>\n",
       "    </tr>\n",
       "    <tr>\n",
       "      <th>2020-04-07</th>\n",
       "      <td>396223</td>\n",
       "      <td>21763</td>\n",
       "      <td>12722</td>\n",
       "      <td>29556</td>\n",
       "      <td>2182</td>\n",
       "      <td>1939</td>\n",
       "    </tr>\n",
       "    <tr>\n",
       "      <th>2020-04-08</th>\n",
       "      <td>429052</td>\n",
       "      <td>23559</td>\n",
       "      <td>14695</td>\n",
       "      <td>32829</td>\n",
       "      <td>1796</td>\n",
       "      <td>1973</td>\n",
       "    </tr>\n",
       "  </tbody>\n",
       "</table>\n",
       "</div>"
      ],
      "text/plain": [
       "            confirmed  recovered  death  new_confirmed  new_recovered  new_death\n",
       "2020-04-04     308853      14652   8407          33267           4945       1320\n",
       "2020-04-05     337072      17448   9619          28219           2796       1212\n",
       "2020-04-06     366667      19581  10783          29595           2133       1164\n",
       "2020-04-07     396223      21763  12722          29556           2182       1939\n",
       "2020-04-08     429052      23559  14695          32829           1796       1973"
      ]
     },
     "execution_count": 22,
     "metadata": {},
     "output_type": "execute_result"
    }
   ],
   "source": [
    "us_mortality_analysis.df.tail()"
   ]
  },
  {
   "cell_type": "code",
   "execution_count": 23,
   "metadata": {},
   "outputs": [
    {
     "data": {
      "text/html": [
       "<div>\n",
       "<style scoped>\n",
       "    .dataframe tbody tr th:only-of-type {\n",
       "        vertical-align: middle;\n",
       "    }\n",
       "\n",
       "    .dataframe tbody tr th {\n",
       "        vertical-align: top;\n",
       "    }\n",
       "\n",
       "    .dataframe thead th {\n",
       "        text-align: right;\n",
       "    }\n",
       "</style>\n",
       "<table border=\"1\" class=\"dataframe\">\n",
       "  <thead>\n",
       "    <tr style=\"text-align: right;\">\n",
       "      <th></th>\n",
       "      <th>expected_death</th>\n",
       "      <th>today_death</th>\n",
       "      <th>delta_death</th>\n",
       "      <th>delta_death_across_days</th>\n",
       "      <th>delta_days</th>\n",
       "      <th>required_ventilator_capacity</th>\n",
       "    </tr>\n",
       "  </thead>\n",
       "  <tbody>\n",
       "    <tr>\n",
       "      <th>0</th>\n",
       "      <td>37109.0</td>\n",
       "      <td>14695</td>\n",
       "      <td>22414.0</td>\n",
       "      <td>1601.0</td>\n",
       "      <td>14</td>\n",
       "      <td>56035.0</td>\n",
       "    </tr>\n",
       "  </tbody>\n",
       "</table>\n",
       "</div>"
      ],
      "text/plain": [
       "   expected_death  today_death  delta_death  delta_death_across_days  delta_days  required_ventilator_capacity\n",
       "0         37109.0        14695      22414.0                   1601.0          14                       56035.0"
      ]
     },
     "execution_count": 23,
     "metadata": {},
     "output_type": "execute_result"
    }
   ],
   "source": [
    "us_mortality_analysis2.project_death_and_hospitalization()"
   ]
  },
  {
   "cell_type": "code",
   "execution_count": 24,
   "metadata": {},
   "outputs": [
    {
     "data": {
      "text/html": [
       "<div>\n",
       "<style scoped>\n",
       "    .dataframe tbody tr th:only-of-type {\n",
       "        vertical-align: middle;\n",
       "    }\n",
       "\n",
       "    .dataframe tbody tr th {\n",
       "        vertical-align: top;\n",
       "    }\n",
       "\n",
       "    .dataframe thead th {\n",
       "        text-align: right;\n",
       "    }\n",
       "</style>\n",
       "<table border=\"1\" class=\"dataframe\">\n",
       "  <thead>\n",
       "    <tr style=\"text-align: right;\">\n",
       "      <th></th>\n",
       "      <th>expected_death</th>\n",
       "      <th>today_death</th>\n",
       "      <th>delta_death</th>\n",
       "      <th>delta_death_across_days</th>\n",
       "      <th>delta_days</th>\n",
       "      <th>required_ventilator_capacity</th>\n",
       "    </tr>\n",
       "  </thead>\n",
       "  <tbody>\n",
       "    <tr>\n",
       "      <th>0</th>\n",
       "      <td>35434.0</td>\n",
       "      <td>14695</td>\n",
       "      <td>20739.0</td>\n",
       "      <td>1481.0</td>\n",
       "      <td>14</td>\n",
       "      <td>51847.0</td>\n",
       "    </tr>\n",
       "  </tbody>\n",
       "</table>\n",
       "</div>"
      ],
      "text/plain": [
       "   expected_death  today_death  delta_death  delta_death_across_days  delta_days  required_ventilator_capacity\n",
       "0         35434.0        14695      20739.0                   1481.0          14                       51847.0"
      ]
     },
     "execution_count": 24,
     "metadata": {},
     "output_type": "execute_result"
    }
   ],
   "source": [
    "us_mortality_analysis2.project_death_and_hospitalization()"
   ]
  },
  {
   "cell_type": "code",
   "execution_count": 24,
   "metadata": {},
   "outputs": [
    {
     "name": "stdout",
     "output_type": "stream",
     "text": [
      "(17.78, 17.52, 18.04)\n",
      "(2.93, 2.89, 2.98)\n",
      "848532\n"
     ]
    },
    {
     "data": {
      "image/png": "[encoded data removed]",
      "text/plain": [
       "<Figure size 1120x640 with 1 Axes>"
      ]
     },
     "metadata": {},
     "output_type": "display_data"
    }
   ],
   "source": [
    "italy_mortality_analysis = covid19.MortalityAnalysis('Italy', first_date=pd.to_datetime('2020-02-21'))\n",
    "italy_mortality_analysis.fit()\n",
    "print(italy_mortality_analysis.death_rate())\n",
    "italy_mortality_analysis2 = covid19.MortalityAnalysis('Italy', first_date=pd.to_datetime('2020-02-21'), init_add=2000, mult=6.0)\n",
    "italy_mortality_analysis2.fit()\n",
    "print(italy_mortality_analysis2.death_rate())\n",
    "print(italy_mortality_analysis2.prepend_df['confirmed'].iloc[-1])\n",
    "italy_mortality_analysis.plot()"
   ]
  },
  {
   "cell_type": "code",
   "execution_count": 25,
   "metadata": {},
   "outputs": [
    {
     "data": {
      "text/html": [
       "<div>\n",
       "<style scoped>\n",
       "    .dataframe tbody tr th:only-of-type {\n",
       "        vertical-align: middle;\n",
       "    }\n",
       "\n",
       "    .dataframe tbody tr th {\n",
       "        vertical-align: top;\n",
       "    }\n",
       "\n",
       "    .dataframe thead th {\n",
       "        text-align: right;\n",
       "    }\n",
       "</style>\n",
       "<table border=\"1\" class=\"dataframe\">\n",
       "  <thead>\n",
       "    <tr style=\"text-align: right;\">\n",
       "      <th></th>\n",
       "      <th>confirmed</th>\n",
       "      <th>recovered</th>\n",
       "      <th>death</th>\n",
       "      <th>new_confirmed</th>\n",
       "      <th>new_recovered</th>\n",
       "      <th>new_death</th>\n",
       "    </tr>\n",
       "  </thead>\n",
       "  <tbody>\n",
       "    <tr>\n",
       "      <th>2020-04-04</th>\n",
       "      <td>124632</td>\n",
       "      <td>20996</td>\n",
       "      <td>15362</td>\n",
       "      <td>4805</td>\n",
       "      <td>1238</td>\n",
       "      <td>681</td>\n",
       "    </tr>\n",
       "    <tr>\n",
       "      <th>2020-04-05</th>\n",
       "      <td>128948</td>\n",
       "      <td>21815</td>\n",
       "      <td>15887</td>\n",
       "      <td>4316</td>\n",
       "      <td>819</td>\n",
       "      <td>525</td>\n",
       "    </tr>\n",
       "    <tr>\n",
       "      <th>2020-04-06</th>\n",
       "      <td>132547</td>\n",
       "      <td>22837</td>\n",
       "      <td>16523</td>\n",
       "      <td>3599</td>\n",
       "      <td>1022</td>\n",
       "      <td>636</td>\n",
       "    </tr>\n",
       "    <tr>\n",
       "      <th>2020-04-07</th>\n",
       "      <td>135586</td>\n",
       "      <td>24392</td>\n",
       "      <td>17127</td>\n",
       "      <td>3039</td>\n",
       "      <td>1555</td>\n",
       "      <td>604</td>\n",
       "    </tr>\n",
       "    <tr>\n",
       "      <th>2020-04-08</th>\n",
       "      <td>139422</td>\n",
       "      <td>26491</td>\n",
       "      <td>17669</td>\n",
       "      <td>3836</td>\n",
       "      <td>2099</td>\n",
       "      <td>542</td>\n",
       "    </tr>\n",
       "  </tbody>\n",
       "</table>\n",
       "</div>"
      ],
      "text/plain": [
       "            confirmed  recovered  death  new_confirmed  new_recovered  new_death\n",
       "2020-04-04     124632      20996  15362           4805           1238        681\n",
       "2020-04-05     128948      21815  15887           4316            819        525\n",
       "2020-04-06     132547      22837  16523           3599           1022        636\n",
       "2020-04-07     135586      24392  17127           3039           1555        604\n",
       "2020-04-08     139422      26491  17669           3836           2099        542"
      ]
     },
     "execution_count": 25,
     "metadata": {},
     "output_type": "execute_result"
    }
   ],
   "source": [
    "italy_mortality_analysis.df.tail()"
   ]
  },
  {
   "cell_type": "code",
   "execution_count": 26,
   "metadata": {},
   "outputs": [
    {
     "data": {
      "text/html": [
       "<div>\n",
       "<style scoped>\n",
       "    .dataframe tbody tr th:only-of-type {\n",
       "        vertical-align: middle;\n",
       "    }\n",
       "\n",
       "    .dataframe tbody tr th {\n",
       "        vertical-align: top;\n",
       "    }\n",
       "\n",
       "    .dataframe thead th {\n",
       "        text-align: right;\n",
       "    }\n",
       "</style>\n",
       "<table border=\"1\" class=\"dataframe\">\n",
       "  <thead>\n",
       "    <tr style=\"text-align: right;\">\n",
       "      <th></th>\n",
       "      <th>expected_death</th>\n",
       "      <th>today_death</th>\n",
       "      <th>delta_death</th>\n",
       "      <th>delta_death_across_days</th>\n",
       "      <th>delta_days</th>\n",
       "      <th>required_ventilator_capacity</th>\n",
       "    </tr>\n",
       "  </thead>\n",
       "  <tbody>\n",
       "    <tr>\n",
       "      <th>0</th>\n",
       "      <td>24862.0</td>\n",
       "      <td>17669</td>\n",
       "      <td>7193.0</td>\n",
       "      <td>514.0</td>\n",
       "      <td>14</td>\n",
       "      <td>17982.0</td>\n",
       "    </tr>\n",
       "  </tbody>\n",
       "</table>\n",
       "</div>"
      ],
      "text/plain": [
       "   expected_death  today_death  delta_death  delta_death_across_days  delta_days  required_ventilator_capacity\n",
       "0         24862.0        17669       7193.0                    514.0          14                       17982.0"
      ]
     },
     "execution_count": 26,
     "metadata": {},
     "output_type": "execute_result"
    }
   ],
   "source": [
    "italy_mortality_analysis2.project_death_and_hospitalization()"
   ]
  },
  {
   "cell_type": "code",
   "execution_count": 27,
   "metadata": {},
   "outputs": [
    {
     "data": {
      "text/html": [
       "<div>\n",
       "<style scoped>\n",
       "    .dataframe tbody tr th:only-of-type {\n",
       "        vertical-align: middle;\n",
       "    }\n",
       "\n",
       "    .dataframe tbody tr th {\n",
       "        vertical-align: top;\n",
       "    }\n",
       "\n",
       "    .dataframe thead th {\n",
       "        text-align: right;\n",
       "    }\n",
       "</style>\n",
       "<table border=\"1\" class=\"dataframe\">\n",
       "  <thead>\n",
       "    <tr style=\"text-align: right;\">\n",
       "      <th></th>\n",
       "      <th>expected_death</th>\n",
       "      <th>today_death</th>\n",
       "      <th>delta_death</th>\n",
       "      <th>delta_death_across_days</th>\n",
       "      <th>delta_days</th>\n",
       "      <th>required_ventilator_capacity</th>\n",
       "    </tr>\n",
       "  </thead>\n",
       "  <tbody>\n",
       "    <tr>\n",
       "      <th>0</th>\n",
       "      <td>24268.0</td>\n",
       "      <td>17669</td>\n",
       "      <td>6599.0</td>\n",
       "      <td>471.0</td>\n",
       "      <td>14</td>\n",
       "      <td>16498.0</td>\n",
       "    </tr>\n",
       "  </tbody>\n",
       "</table>\n",
       "</div>"
      ],
      "text/plain": [
       "   expected_death  today_death  delta_death  delta_death_across_days  delta_days  required_ventilator_capacity\n",
       "0         24268.0        17669       6599.0                    471.0          14                       16498.0"
      ]
     },
     "execution_count": 27,
     "metadata": {},
     "output_type": "execute_result"
    }
   ],
   "source": [
    "italy_mortality_analysis2.project_death_and_hospitalization()"
   ]
  },
  {
   "cell_type": "code",
   "execution_count": 37,
   "metadata": {},
   "outputs": [],
   "source": [
    "# italy_mortality_analysis2.prepend_df"
   ]
  },
  {
   "cell_type": "code",
   "execution_count": 27,
   "metadata": {},
   "outputs": [
    {
     "name": "stdout",
     "output_type": "stream",
     "text": [
      "(16.54, 16.24, 16.85)\n",
      "(2.8, 2.73, 2.87)\n",
      "894120\n"
     ]
    },
    {
     "data": {
      "image/png": "[encoded data removed]",
      "text/plain": [
       "<Figure size 1120x640 with 1 Axes>"
      ]
     },
     "metadata": {},
     "output_type": "display_data"
    }
   ],
   "source": [
    "spain_mortality_analysis = covid19.MortalityAnalysis('Spain')\n",
    "spain_mortality_analysis.fit()\n",
    "spain_mortality_analysis2 = covid19.MortalityAnalysis('Spain', first_date=pd.to_datetime('2020-03-03'), init_add=800, mult=6.0)\n",
    "spain_mortality_analysis2.fit()\n",
    "print(spain_mortality_analysis.death_rate())\n",
    "print(spain_mortality_analysis2.death_rate())\n",
    "print(spain_mortality_analysis2.prepend_df['confirmed'].iloc[-1])\n",
    "spain_mortality_analysis.plot()"
   ]
  },
  {
   "cell_type": "code",
   "execution_count": 28,
   "metadata": {},
   "outputs": [
    {
     "data": {
      "text/html": [
       "<div>\n",
       "<style scoped>\n",
       "    .dataframe tbody tr th:only-of-type {\n",
       "        vertical-align: middle;\n",
       "    }\n",
       "\n",
       "    .dataframe tbody tr th {\n",
       "        vertical-align: top;\n",
       "    }\n",
       "\n",
       "    .dataframe thead th {\n",
       "        text-align: right;\n",
       "    }\n",
       "</style>\n",
       "<table border=\"1\" class=\"dataframe\">\n",
       "  <thead>\n",
       "    <tr style=\"text-align: right;\">\n",
       "      <th></th>\n",
       "      <th>confirmed</th>\n",
       "      <th>recovered</th>\n",
       "      <th>death</th>\n",
       "      <th>new_confirmed</th>\n",
       "      <th>new_recovered</th>\n",
       "      <th>new_death</th>\n",
       "    </tr>\n",
       "  </thead>\n",
       "  <tbody>\n",
       "    <tr>\n",
       "      <th>2020-04-04</th>\n",
       "      <td>126168</td>\n",
       "      <td>34219</td>\n",
       "      <td>11947</td>\n",
       "      <td>6969</td>\n",
       "      <td>3706</td>\n",
       "      <td>749</td>\n",
       "    </tr>\n",
       "    <tr>\n",
       "      <th>2020-04-05</th>\n",
       "      <td>131646</td>\n",
       "      <td>38080</td>\n",
       "      <td>12641</td>\n",
       "      <td>5478</td>\n",
       "      <td>3861</td>\n",
       "      <td>694</td>\n",
       "    </tr>\n",
       "    <tr>\n",
       "      <th>2020-04-06</th>\n",
       "      <td>136675</td>\n",
       "      <td>40437</td>\n",
       "      <td>13341</td>\n",
       "      <td>5029</td>\n",
       "      <td>2357</td>\n",
       "      <td>700</td>\n",
       "    </tr>\n",
       "    <tr>\n",
       "      <th>2020-04-07</th>\n",
       "      <td>141942</td>\n",
       "      <td>43208</td>\n",
       "      <td>14045</td>\n",
       "      <td>5267</td>\n",
       "      <td>2771</td>\n",
       "      <td>704</td>\n",
       "    </tr>\n",
       "    <tr>\n",
       "      <th>2020-04-08</th>\n",
       "      <td>148220</td>\n",
       "      <td>48021</td>\n",
       "      <td>14792</td>\n",
       "      <td>6278</td>\n",
       "      <td>4813</td>\n",
       "      <td>747</td>\n",
       "    </tr>\n",
       "  </tbody>\n",
       "</table>\n",
       "</div>"
      ],
      "text/plain": [
       "            confirmed  recovered  death  new_confirmed  new_recovered  new_death\n",
       "2020-04-04     126168      34219  11947           6969           3706        749\n",
       "2020-04-05     131646      38080  12641           5478           3861        694\n",
       "2020-04-06     136675      40437  13341           5029           2357        700\n",
       "2020-04-07     141942      43208  14045           5267           2771        704\n",
       "2020-04-08     148220      48021  14792           6278           4813        747"
      ]
     },
     "execution_count": 28,
     "metadata": {},
     "output_type": "execute_result"
    }
   ],
   "source": [
    "spain_mortality_analysis.df.tail()"
   ]
  },
  {
   "cell_type": "code",
   "execution_count": 29,
   "metadata": {},
   "outputs": [
    {
     "data": {
      "text/html": [
       "<div>\n",
       "<style scoped>\n",
       "    .dataframe tbody tr th:only-of-type {\n",
       "        vertical-align: middle;\n",
       "    }\n",
       "\n",
       "    .dataframe tbody tr th {\n",
       "        vertical-align: top;\n",
       "    }\n",
       "\n",
       "    .dataframe thead th {\n",
       "        text-align: right;\n",
       "    }\n",
       "</style>\n",
       "<table border=\"1\" class=\"dataframe\">\n",
       "  <thead>\n",
       "    <tr style=\"text-align: right;\">\n",
       "      <th></th>\n",
       "      <th>expected_death</th>\n",
       "      <th>today_death</th>\n",
       "      <th>delta_death</th>\n",
       "      <th>delta_death_across_days</th>\n",
       "      <th>delta_days</th>\n",
       "      <th>required_ventilator_capacity</th>\n",
       "    </tr>\n",
       "  </thead>\n",
       "  <tbody>\n",
       "    <tr>\n",
       "      <th>0</th>\n",
       "      <td>25035.0</td>\n",
       "      <td>14792</td>\n",
       "      <td>10243.0</td>\n",
       "      <td>732.0</td>\n",
       "      <td>14</td>\n",
       "      <td>25608.0</td>\n",
       "    </tr>\n",
       "  </tbody>\n",
       "</table>\n",
       "</div>"
      ],
      "text/plain": [
       "   expected_death  today_death  delta_death  delta_death_across_days  delta_days  required_ventilator_capacity\n",
       "0         25035.0        14792      10243.0                    732.0          14                       25608.0"
      ]
     },
     "execution_count": 29,
     "metadata": {},
     "output_type": "execute_result"
    }
   ],
   "source": [
    "spain_mortality_analysis2.project_death_and_hospitalization()"
   ]
  },
  {
   "cell_type": "code",
   "execution_count": 30,
   "metadata": {
    "scrolled": true
   },
   "outputs": [
    {
     "data": {
      "text/html": [
       "<div>\n",
       "<style scoped>\n",
       "    .dataframe tbody tr th:only-of-type {\n",
       "        vertical-align: middle;\n",
       "    }\n",
       "\n",
       "    .dataframe tbody tr th {\n",
       "        vertical-align: top;\n",
       "    }\n",
       "\n",
       "    .dataframe thead th {\n",
       "        text-align: right;\n",
       "    }\n",
       "</style>\n",
       "<table border=\"1\" class=\"dataframe\">\n",
       "  <thead>\n",
       "    <tr style=\"text-align: right;\">\n",
       "      <th></th>\n",
       "      <th>expected_death</th>\n",
       "      <th>today_death</th>\n",
       "      <th>delta_death</th>\n",
       "      <th>delta_death_across_days</th>\n",
       "      <th>delta_days</th>\n",
       "      <th>required_ventilator_capacity</th>\n",
       "    </tr>\n",
       "  </thead>\n",
       "  <tbody>\n",
       "    <tr>\n",
       "      <th>0</th>\n",
       "      <td>24231.0</td>\n",
       "      <td>14792</td>\n",
       "      <td>9439.0</td>\n",
       "      <td>674.0</td>\n",
       "      <td>14</td>\n",
       "      <td>23597.0</td>\n",
       "    </tr>\n",
       "  </tbody>\n",
       "</table>\n",
       "</div>"
      ],
      "text/plain": [
       "   expected_death  today_death  delta_death  delta_death_across_days  delta_days  required_ventilator_capacity\n",
       "0         24231.0        14792       9439.0                    674.0          14                       23597.0"
      ]
     },
     "execution_count": 30,
     "metadata": {},
     "output_type": "execute_result"
    }
   ],
   "source": [
    "spain_mortality_analysis2.project_death_and_hospitalization()"
   ]
  },
  {
   "cell_type": "code",
   "execution_count": 30,
   "metadata": {},
   "outputs": [
    {
     "name": "stdout",
     "output_type": "stream",
     "text": [
      "(19.64, 19.12, 20.17)\n",
      "(3.26, 3.18, 3.35)\n",
      "686754\n"
     ]
    },
    {
     "data": {
      "image/png": "[encoded data removed]",
      "text/plain": [
       "<Figure size 1120x640 with 1 Axes>"
      ]
     },
     "metadata": {},
     "output_type": "display_data"
    }
   ],
   "source": [
    "france_mortality_analysis = covid19.MortalityAnalysis('France')\n",
    "france_mortality_analysis.fit()\n",
    "france_mortality_analysis2 = covid19.MortalityAnalysis('France', first_date=pd.to_datetime('2020-02-15'), init_add=500, mult=6)\n",
    "france_mortality_analysis2.fit()\n",
    "print(france_mortality_analysis.death_rate())\n",
    "print(france_mortality_analysis2.death_rate())\n",
    "print(france_mortality_analysis2.prepend_df['confirmed'].iloc[-1])\n",
    "france_mortality_analysis.plot()"
   ]
  },
  {
   "cell_type": "code",
   "execution_count": 31,
   "metadata": {},
   "outputs": [
    {
     "data": {
      "text/html": [
       "<div>\n",
       "<style scoped>\n",
       "    .dataframe tbody tr th:only-of-type {\n",
       "        vertical-align: middle;\n",
       "    }\n",
       "\n",
       "    .dataframe tbody tr th {\n",
       "        vertical-align: top;\n",
       "    }\n",
       "\n",
       "    .dataframe thead th {\n",
       "        text-align: right;\n",
       "    }\n",
       "</style>\n",
       "<table border=\"1\" class=\"dataframe\">\n",
       "  <thead>\n",
       "    <tr style=\"text-align: right;\">\n",
       "      <th></th>\n",
       "      <th>confirmed</th>\n",
       "      <th>recovered</th>\n",
       "      <th>death</th>\n",
       "      <th>new_confirmed</th>\n",
       "      <th>new_recovered</th>\n",
       "      <th>new_death</th>\n",
       "    </tr>\n",
       "  </thead>\n",
       "  <tbody>\n",
       "    <tr>\n",
       "      <th>2020-04-04</th>\n",
       "      <td>90848</td>\n",
       "      <td>15572</td>\n",
       "      <td>7574</td>\n",
       "      <td>7970</td>\n",
       "      <td>1437</td>\n",
       "      <td>1054</td>\n",
       "    </tr>\n",
       "    <tr>\n",
       "      <th>2020-04-05</th>\n",
       "      <td>93773</td>\n",
       "      <td>16349</td>\n",
       "      <td>8093</td>\n",
       "      <td>2925</td>\n",
       "      <td>777</td>\n",
       "      <td>519</td>\n",
       "    </tr>\n",
       "    <tr>\n",
       "      <th>2020-04-06</th>\n",
       "      <td>98963</td>\n",
       "      <td>17428</td>\n",
       "      <td>8926</td>\n",
       "      <td>5190</td>\n",
       "      <td>1079</td>\n",
       "      <td>833</td>\n",
       "    </tr>\n",
       "    <tr>\n",
       "      <th>2020-04-07</th>\n",
       "      <td>110065</td>\n",
       "      <td>19523</td>\n",
       "      <td>10343</td>\n",
       "      <td>11102</td>\n",
       "      <td>2095</td>\n",
       "      <td>1417</td>\n",
       "    </tr>\n",
       "    <tr>\n",
       "      <th>2020-04-08</th>\n",
       "      <td>113959</td>\n",
       "      <td>21452</td>\n",
       "      <td>10887</td>\n",
       "      <td>3894</td>\n",
       "      <td>1929</td>\n",
       "      <td>544</td>\n",
       "    </tr>\n",
       "  </tbody>\n",
       "</table>\n",
       "</div>"
      ],
      "text/plain": [
       "            confirmed  recovered  death  new_confirmed  new_recovered  new_death\n",
       "2020-04-04      90848      15572   7574           7970           1437       1054\n",
       "2020-04-05      93773      16349   8093           2925            777        519\n",
       "2020-04-06      98963      17428   8926           5190           1079        833\n",
       "2020-04-07     110065      19523  10343          11102           2095       1417\n",
       "2020-04-08     113959      21452  10887           3894           1929        544"
      ]
     },
     "execution_count": 31,
     "metadata": {},
     "output_type": "execute_result"
    }
   ],
   "source": [
    "france_mortality_analysis.df.tail()"
   ]
  },
  {
   "cell_type": "code",
   "execution_count": 32,
   "metadata": {},
   "outputs": [
    {
     "data": {
      "text/html": [
       "<div>\n",
       "<style scoped>\n",
       "    .dataframe tbody tr th:only-of-type {\n",
       "        vertical-align: middle;\n",
       "    }\n",
       "\n",
       "    .dataframe tbody tr th {\n",
       "        vertical-align: top;\n",
       "    }\n",
       "\n",
       "    .dataframe thead th {\n",
       "        text-align: right;\n",
       "    }\n",
       "</style>\n",
       "<table border=\"1\" class=\"dataframe\">\n",
       "  <thead>\n",
       "    <tr style=\"text-align: right;\">\n",
       "      <th></th>\n",
       "      <th>expected_death</th>\n",
       "      <th>today_death</th>\n",
       "      <th>delta_death</th>\n",
       "      <th>delta_death_across_days</th>\n",
       "      <th>delta_days</th>\n",
       "      <th>required_ventilator_capacity</th>\n",
       "    </tr>\n",
       "  </thead>\n",
       "  <tbody>\n",
       "    <tr>\n",
       "      <th>0</th>\n",
       "      <td>22388.0</td>\n",
       "      <td>10887</td>\n",
       "      <td>11501.0</td>\n",
       "      <td>822.0</td>\n",
       "      <td>14</td>\n",
       "      <td>28753.0</td>\n",
       "    </tr>\n",
       "  </tbody>\n",
       "</table>\n",
       "</div>"
      ],
      "text/plain": [
       "   expected_death  today_death  delta_death  delta_death_across_days  delta_days  required_ventilator_capacity\n",
       "0         22388.0        10887      11501.0                    822.0          14                       28753.0"
      ]
     },
     "execution_count": 32,
     "metadata": {},
     "output_type": "execute_result"
    }
   ],
   "source": [
    "france_mortality_analysis2.project_death_and_hospitalization()"
   ]
  },
  {
   "cell_type": "code",
   "execution_count": 33,
   "metadata": {},
   "outputs": [
    {
     "data": {
      "text/html": [
       "<div>\n",
       "<style scoped>\n",
       "    .dataframe tbody tr th:only-of-type {\n",
       "        vertical-align: middle;\n",
       "    }\n",
       "\n",
       "    .dataframe tbody tr th {\n",
       "        vertical-align: top;\n",
       "    }\n",
       "\n",
       "    .dataframe thead th {\n",
       "        text-align: right;\n",
       "    }\n",
       "</style>\n",
       "<table border=\"1\" class=\"dataframe\">\n",
       "  <thead>\n",
       "    <tr style=\"text-align: right;\">\n",
       "      <th></th>\n",
       "      <th>expected_death</th>\n",
       "      <th>today_death</th>\n",
       "      <th>delta_death</th>\n",
       "      <th>delta_death_across_days</th>\n",
       "      <th>delta_days</th>\n",
       "      <th>required_ventilator_capacity</th>\n",
       "    </tr>\n",
       "  </thead>\n",
       "  <tbody>\n",
       "    <tr>\n",
       "      <th>0</th>\n",
       "      <td>21564.0</td>\n",
       "      <td>10887</td>\n",
       "      <td>10677.0</td>\n",
       "      <td>763.0</td>\n",
       "      <td>14</td>\n",
       "      <td>26693.0</td>\n",
       "    </tr>\n",
       "  </tbody>\n",
       "</table>\n",
       "</div>"
      ],
      "text/plain": [
       "   expected_death  today_death  delta_death  delta_death_across_days  delta_days  required_ventilator_capacity\n",
       "0         21564.0        10887      10677.0                    763.0          14                       26693.0"
      ]
     },
     "execution_count": 33,
     "metadata": {},
     "output_type": "execute_result"
    }
   ],
   "source": [
    "france_mortality_analysis2.project_death_and_hospitalization()"
   ]
  },
  {
   "cell_type": "code",
   "execution_count": 27,
   "metadata": {},
   "outputs": [
    {
     "name": "stdout",
     "output_type": "stream",
     "text": [
      "3.2.6\n"
     ]
    }
   ],
   "source": [
    "import rpy2\n",
    "print(rpy2.__version__)"
   ]
  },
  {
   "cell_type": "code",
   "execution_count": 28,
   "metadata": {},
   "outputs": [
    {
     "name": "stdout",
     "output_type": "stream",
     "text": [
      "$version.string\n",
      "[1] \"R version 3.6.1 (2019-07-05)\"\n",
      "\n",
      "\n"
     ]
    }
   ],
   "source": [
    "import rpy2.robjects.packages as rpackages\n",
    "baseR = rpackages.importr('base')\n",
    "print(baseR.R_Version().rx('version.string'))"
   ]
  },
  {
   "cell_type": "code",
   "execution_count": 29,
   "metadata": {},
   "outputs": [],
   "source": [
    "# from rpy2.rinterface import R_VERSION_BUILD\n",
    "# print(R_VERSION_BUILD)"
   ]
  },
  {
   "cell_type": "code",
   "execution_count": 30,
   "metadata": {},
   "outputs": [
    {
     "name": "stderr",
     "output_type": "stream",
     "text": [
      "/home/local/cs/local/install/anaconda3-5.3.1-Linux-x86_64/envs/py36ds/lib/python3.6/site-packages/rpy2/robjects/pandas2ri.py:14: FutureWarning: pandas.core.index is deprecated and will be removed in a future version.  The public classes are available in the top-level namespace.\n",
      "  from pandas.core.index import Index as PandasIndex\n",
      "/home/local/cs/local/install/anaconda3-5.3.1-Linux-x86_64/envs/py36ds/lib/python3.6/site-packages/rpy2/robjects/pandas2ri.py:34: UserWarning: pandas >= 1.0 is not supported.\n",
      "  warnings.warn('pandas >= 1.0 is not supported.')\n",
      "/home/local/cs/local/install/anaconda3-5.3.1-Linux-x86_64/envs/py36ds/lib/python3.6/site-packages/rpy2/robjects/lib/ggplot2.py:72: UserWarning: This was designed againt ggplot2 version 3.2.1 but you have 3.3.0\n",
      "  'have %s' % (TARGET_VERSION, ggplot2.__version__))\n",
      "/home/local/cs/local/install/anaconda3-5.3.1-Linux-x86_64/envs/py36ds/lib/python3.6/site-packages/rpy2/robjects/vectors.py:927: UserWarning: R object inheriting from \"POSIXct\" but without attribute \"tzone\".\n",
      "  warnings.warn('R object inheriting from \"POSIXct\" but without '\n"
     ]
    }
   ],
   "source": [
    "import IPython.display\n",
    "import rpy2, rpy2.robjects, rpy2.robjects.pandas2ri, rpy2.rinterface, rpy2.robjects.packages, rpy2.interactive, rpy2.robjects.lib.ggplot2, rpy2.robjects.lib.grdevices\n",
    "rpy2.robjects.pandas2ri.activate()\n",
    "\n",
    "from rpy2.robjects.packages import importr\n",
    "# import R's \"base\" package\n",
    "base = importr('base')\n",
    "\n",
    "# import rpy2's package module\n",
    "import rpy2.robjects.packages as rpackages\n",
    "\n",
    "# import R's utility package\n",
    "utils = rpackages.importr('utils')\n",
    "\n",
    "# select a mirror for R packages\n",
    "utils.chooseCRANmirror(ind=1) # select the first mirror in the list\n",
    "\n",
    "# R package names\n",
    "packnames = ('LexisPlotR',)\n",
    "\n",
    "# R vector of strings\n",
    "from rpy2.robjects.vectors import StrVector"
   ]
  },
  {
   "cell_type": "code",
   "execution_count": 31,
   "metadata": {},
   "outputs": [
    {
     "data": {
      "text/plain": [
       "rpy2.robjects.packages.Package as a <module 'LexisPlotR'>"
      ]
     },
     "execution_count": 31,
     "metadata": {},
     "output_type": "execute_result"
    }
   ],
   "source": [
    "grdevices = rpy2.robjects.packages.importr('grDevices')\n",
    "# Selectively install what needs to be install.\n",
    "# We are fancy, just because we can.\n",
    "names_to_install = [x for x in packnames if not rpackages.isinstalled(x)]\n",
    "if len(names_to_install) > 0:\n",
    "    utils.install_packages(StrVector(names_to_install))\n",
    "\n",
    "lexis = importr('LexisPlotR')\n",
    "lexis"
   ]
  },
  {
   "cell_type": "code",
   "execution_count": 32,
   "metadata": {},
   "outputs": [],
   "source": [
    "lexis_grid = rpy2.robjects.r['lexis.grid']\n",
    "lexis_lifeline = rpy2.robjects.r['lexis.lifeline']"
   ]
  },
  {
   "cell_type": "code",
   "execution_count": 33,
   "metadata": {},
   "outputs": [],
   "source": [
    "def plot_lexis(mortality_analysis_instance):\n",
    "    mylexis = lexis_grid(year_start = 2020, year_end = 2021, age_start = 0, age_end = 1) #  lwd = 0.1\n",
    "\n",
    "    alpha = 1.0\n",
    "    ix_present = ~mortality_analysis_instance.df_lifelines_individual.observed_death\n",
    "    ix_lost    = mortality_analysis_instance.df_lifelines_individual.observed_death\n",
    "    mylexis = lexis_lifeline(lg = mylexis , entry = mortality_analysis_instance.df_lifelines_individual['start_date'][ix_present], exit = mortality_analysis_instance.df_lifelines_individual['end_date'][ix_present], colour = \"orange\", alpha = alpha, lwd = 0.4)\n",
    "    mylexis = lexis_lifeline(lg = mylexis , entry = mortality_analysis_instance.df_lifelines_individual['start_date'][ix_lost]   , exit = mortality_analysis_instance.df_lifelines_individual['end_date'][ix_lost]   , colour = \"blue\"  , alpha = alpha, lwd = 0.4, lineends = True)\n",
    "\n",
    "    with rpy2.robjects.lib.grdevices.render_to_bytesio(grdevices.png, width=1.5*1024, height=1.5*896, res=90) as img:\n",
    "        rpy2.robjects.r.print(mylexis)   \n",
    "    IPython.display.display(IPython.display.Image(data=img.getvalue(), format='png', embed=True))"
   ]
  },
  {
   "cell_type": "code",
   "execution_count": 34,
   "metadata": {},
   "outputs": [],
   "source": [
    "# plot_lexis(italy_mortality_analysis)"
   ]
  },
  {
   "cell_type": "code",
   "execution_count": 35,
   "metadata": {},
   "outputs": [],
   "source": [
    "# plot_lexis(italy_mortality_analysis2)"
   ]
  },
  {
   "cell_type": "code",
   "execution_count": 36,
   "metadata": {},
   "outputs": [
    {
     "data": {
      "image/png": "[encoded data removed]",
      "text/plain": [
       "<IPython.core.display.Image object>"
      ]
     },
     "metadata": {},
     "output_type": "display_data"
    }
   ],
   "source": [
    "plot_lexis(south_korea_mortality_analysis)"
   ]
  },
  {
   "cell_type": "code",
   "execution_count": 37,
   "metadata": {},
   "outputs": [
    {
     "data": {
      "image/png": "[encoded data removed]",
      "text/plain": [
       "<IPython.core.display.Image object>"
      ]
     },
     "metadata": {},
     "output_type": "display_data"
    }
   ],
   "source": [
    "plot_lexis(germany_mortality_analysis)"
   ]
  },
  {
   "cell_type": "code",
   "execution_count": null,
   "metadata": {},
   "outputs": [],
   "source": []
  }
 ],
 "metadata": {
  "kernelspec": {
   "display_name": "Python 3",
   "language": "python",
   "name": "python3"
  },
  "language_info": {
   "codemirror_mode": {
    "name": "ipython",
    "version": 3
   },
   "file_extension": ".py",
   "mimetype": "text/x-python",
   "name": "python",
   "nbconvert_exporter": "python",
   "pygments_lexer": "ipython3",
   "version": "3.6.10"
  }
 },
 "nbformat": 4,
 "nbformat_minor": 2
}
