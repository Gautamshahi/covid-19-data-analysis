{
 "cells": [
  {
   "cell_type": "code",
   "execution_count": 1,
   "metadata": {},
   "outputs": [
    {
     "name": "stdout",
     "output_type": "stream",
     "text": [
      "cs224 \n",
      "last updated: 2020-04-01 \n",
      "\n",
      "CPython 3.6.10\n",
      "IPython 7.13.0\n",
      "\n",
      "numpy 1.18.1\n",
      "xarray 0.15.0\n",
      "scipy 1.4.1\n",
      "pandas 1.0.2\n",
      "sklearn 0.22.1\n",
      "matplotlib 3.1.3\n",
      "seaborn 0.10.0\n",
      "pymc3 3.8\n"
     ]
    }
   ],
   "source": [
    "%load_ext watermark\n",
    "%watermark -a 'cs224' -u -d -v -p numpy,xarray,scipy,pandas,sklearn,matplotlib,seaborn,pymc3"
   ]
  },
  {
   "cell_type": "code",
   "execution_count": 2,
   "metadata": {},
   "outputs": [],
   "source": [
    "%matplotlib inline\n",
    "import numpy as np, scipy, scipy.stats as stats, scipy.special, scipy.misc, pandas as pd, matplotlib.pyplot as plt, seaborn as sns, xarray as xr\n",
    "import matplotlib as mpl\n",
    "\n",
    "import pymc3 as pm\n",
    "\n",
    "import theano as thno\n",
    "import theano.tensor as T\n",
    "\n",
    "import sklearn, sklearn.linear_model\n",
    "\n",
    "import datetime, time, math\n",
    "from dateutil import relativedelta\n",
    "\n",
    "from collections import OrderedDict\n",
    "\n",
    "SEED = 42\n",
    "np.random.seed(SEED)\n",
    "\n",
    "pd.set_option('display.max_columns', 500)\n",
    "pd.set_option('display.width', 1000)\n",
    "# pd.set_option('display.float_format', lambda x: '%.2f' % x)\n",
    "np.set_printoptions(edgeitems=10)\n",
    "np.set_printoptions(linewidth=1000)\n",
    "np.set_printoptions(suppress=True)\n",
    "np.core.arrayprint._line_width = 180\n",
    "\n",
    "sns.set()"
   ]
  },
  {
   "cell_type": "code",
   "execution_count": 3,
   "metadata": {},
   "outputs": [
    {
     "data": {
      "text/html": [
       "<style>.container { width:70% !important; }</style>"
      ],
      "text/plain": [
       "<IPython.core.display.HTML object>"
      ]
     },
     "metadata": {},
     "output_type": "display_data"
    }
   ],
   "source": [
    "from IPython.display import display, HTML\n",
    "\n",
    "from IPython.display import display_html\n",
    "def display_side_by_side(*args):\n",
    "    html_str=''\n",
    "    for df in args:\n",
    "        if type(df) == np.ndarray:\n",
    "            df = pd.DataFrame(df)\n",
    "        html_str+=df.to_html()\n",
    "    html_str = html_str.replace('table','table style=\"display:inline\"')\n",
    "    # print(html_str)\n",
    "    display_html(html_str,raw=True)\n",
    "\n",
    "CSS = \"\"\"\n",
    ".output {\n",
    "    flex-direction: row;\n",
    "}\n",
    "\"\"\"\n",
    "\n",
    "def display_graphs_side_by_side(*args):\n",
    "    html_str='<table><tr>'\n",
    "    for g in args:\n",
    "        html_str += '<td>'\n",
    "        html_str += g._repr_svg_()\n",
    "        html_str += '</td>'\n",
    "    html_str += '</tr></table>'\n",
    "    display_html(html_str,raw=True)\n",
    "    \n",
    "\n",
    "display(HTML(\"<style>.container { width:70% !important; }</style>\"))"
   ]
  },
  {
   "cell_type": "code",
   "execution_count": 4,
   "metadata": {},
   "outputs": [],
   "source": [
    "%load_ext autoreload\n",
    "%autoreload 1\n",
    "%aimport covid19"
   ]
  },
  {
   "cell_type": "markdown",
   "metadata": {},
   "source": [
    "Data Source: https://www.n-tv.de/panorama/Zwei-von-drei-Corona-Toten-sind-Maenner-article21681751.html"
   ]
  },
  {
   "cell_type": "code",
   "execution_count": 5,
   "metadata": {},
   "outputs": [
    {
     "data": {
      "text/plain": [
       "CategoricalDtype(categories=['< 60', '60 - 69', '70 - 79', '80 - 89', '> 90'], ordered=True)"
      ]
     },
     "execution_count": 5,
     "metadata": {},
     "output_type": "execute_result"
    }
   ],
   "source": [
    "age_cat_dtype = pd.api.types.CategoricalDtype(categories=[\"< 60\", \"60 - 69\", \"70 - 79\", \"80 - 89\", \"> 90\"], ordered=True)\n",
    "age_cat_dtype"
   ]
  },
  {
   "cell_type": "code",
   "execution_count": 6,
   "metadata": {},
   "outputs": [
    {
     "data": {
      "text/plain": [
       "CategoricalDtype(categories=['male', 'female'], ordered=False)"
      ]
     },
     "execution_count": 6,
     "metadata": {},
     "output_type": "execute_result"
    }
   ],
   "source": [
    "sex_cat_dtype = pd.api.types.CategoricalDtype(categories=[\"male\", \"female\"], ordered=False)\n",
    "sex_cat_dtype"
   ]
  },
  {
   "cell_type": "code",
   "execution_count": 7,
   "metadata": {},
   "outputs": [
    {
     "data": {
      "text/plain": [
       "CategoricalDtype(categories=['counted', 'died'], ordered=False)"
      ]
     },
     "execution_count": 7,
     "metadata": {},
     "output_type": "execute_result"
    }
   ],
   "source": [
    "status_cat_dtype = pd.api.types.CategoricalDtype(categories=[\"counted\", \"died\"], ordered=False)\n",
    "status_cat_dtype"
   ]
  },
  {
   "cell_type": "code",
   "execution_count": 8,
   "metadata": {},
   "outputs": [
    {
     "data": {
      "text/html": [
       "<div>\n",
       "<style scoped>\n",
       "    .dataframe tbody tr th:only-of-type {\n",
       "        vertical-align: middle;\n",
       "    }\n",
       "\n",
       "    .dataframe tbody tr th {\n",
       "        vertical-align: top;\n",
       "    }\n",
       "\n",
       "    .dataframe thead th {\n",
       "        text-align: right;\n",
       "    }\n",
       "</style>\n",
       "<table border=\"1\" class=\"dataframe\">\n",
       "  <thead>\n",
       "    <tr style=\"text-align: right;\">\n",
       "      <th></th>\n",
       "      <th>age</th>\n",
       "      <th>sex</th>\n",
       "      <th>status</th>\n",
       "      <th>count</th>\n",
       "    </tr>\n",
       "  </thead>\n",
       "  <tbody>\n",
       "    <tr>\n",
       "      <th>0</th>\n",
       "      <td>&lt; 60</td>\n",
       "      <td>male</td>\n",
       "      <td>died</td>\n",
       "      <td>26</td>\n",
       "    </tr>\n",
       "    <tr>\n",
       "      <th>1</th>\n",
       "      <td>&lt; 60</td>\n",
       "      <td>female</td>\n",
       "      <td>died</td>\n",
       "      <td>5</td>\n",
       "    </tr>\n",
       "    <tr>\n",
       "      <th>2</th>\n",
       "      <td>60 - 69</td>\n",
       "      <td>male</td>\n",
       "      <td>died</td>\n",
       "      <td>32</td>\n",
       "    </tr>\n",
       "    <tr>\n",
       "      <th>3</th>\n",
       "      <td>60 - 69</td>\n",
       "      <td>female</td>\n",
       "      <td>died</td>\n",
       "      <td>12</td>\n",
       "    </tr>\n",
       "    <tr>\n",
       "      <th>4</th>\n",
       "      <td>70 - 79</td>\n",
       "      <td>male</td>\n",
       "      <td>died</td>\n",
       "      <td>102</td>\n",
       "    </tr>\n",
       "    <tr>\n",
       "      <th>5</th>\n",
       "      <td>70 - 79</td>\n",
       "      <td>female</td>\n",
       "      <td>died</td>\n",
       "      <td>28</td>\n",
       "    </tr>\n",
       "    <tr>\n",
       "      <th>6</th>\n",
       "      <td>80 - 89</td>\n",
       "      <td>male</td>\n",
       "      <td>died</td>\n",
       "      <td>185</td>\n",
       "    </tr>\n",
       "    <tr>\n",
       "      <th>7</th>\n",
       "      <td>80 - 89</td>\n",
       "      <td>female</td>\n",
       "      <td>died</td>\n",
       "      <td>120</td>\n",
       "    </tr>\n",
       "    <tr>\n",
       "      <th>8</th>\n",
       "      <td>&gt; 90</td>\n",
       "      <td>male</td>\n",
       "      <td>died</td>\n",
       "      <td>38</td>\n",
       "    </tr>\n",
       "    <tr>\n",
       "      <th>9</th>\n",
       "      <td>&gt; 90</td>\n",
       "      <td>female</td>\n",
       "      <td>died</td>\n",
       "      <td>33</td>\n",
       "    </tr>\n",
       "    <tr>\n",
       "      <th>10</th>\n",
       "      <td>&lt; 60</td>\n",
       "      <td>male</td>\n",
       "      <td>counted</td>\n",
       "      <td>24388</td>\n",
       "    </tr>\n",
       "    <tr>\n",
       "      <th>11</th>\n",
       "      <td>&lt; 60</td>\n",
       "      <td>female</td>\n",
       "      <td>counted</td>\n",
       "      <td>22590</td>\n",
       "    </tr>\n",
       "    <tr>\n",
       "      <th>12</th>\n",
       "      <td>60 - 69</td>\n",
       "      <td>male</td>\n",
       "      <td>counted</td>\n",
       "      <td>3150</td>\n",
       "    </tr>\n",
       "    <tr>\n",
       "      <th>13</th>\n",
       "      <td>60 - 69</td>\n",
       "      <td>female</td>\n",
       "      <td>counted</td>\n",
       "      <td>2500</td>\n",
       "    </tr>\n",
       "    <tr>\n",
       "      <th>14</th>\n",
       "      <td>70 - 79</td>\n",
       "      <td>male</td>\n",
       "      <td>counted</td>\n",
       "      <td>3150</td>\n",
       "    </tr>\n",
       "    <tr>\n",
       "      <th>15</th>\n",
       "      <td>70 - 79</td>\n",
       "      <td>female</td>\n",
       "      <td>counted</td>\n",
       "      <td>2500</td>\n",
       "    </tr>\n",
       "    <tr>\n",
       "      <th>16</th>\n",
       "      <td>80 - 89</td>\n",
       "      <td>male</td>\n",
       "      <td>counted</td>\n",
       "      <td>750</td>\n",
       "    </tr>\n",
       "    <tr>\n",
       "      <th>17</th>\n",
       "      <td>80 - 89</td>\n",
       "      <td>female</td>\n",
       "      <td>counted</td>\n",
       "      <td>850</td>\n",
       "    </tr>\n",
       "    <tr>\n",
       "      <th>18</th>\n",
       "      <td>&gt; 90</td>\n",
       "      <td>male</td>\n",
       "      <td>counted</td>\n",
       "      <td>750</td>\n",
       "    </tr>\n",
       "    <tr>\n",
       "      <th>19</th>\n",
       "      <td>&gt; 90</td>\n",
       "      <td>female</td>\n",
       "      <td>counted</td>\n",
       "      <td>850</td>\n",
       "    </tr>\n",
       "  </tbody>\n",
       "</table>\n",
       "</div>"
      ],
      "text/plain": [
       "        age     sex   status  count\n",
       "0      < 60    male     died     26\n",
       "1      < 60  female     died      5\n",
       "2   60 - 69    male     died     32\n",
       "3   60 - 69  female     died     12\n",
       "4   70 - 79    male     died    102\n",
       "5   70 - 79  female     died     28\n",
       "6   80 - 89    male     died    185\n",
       "7   80 - 89  female     died    120\n",
       "8      > 90    male     died     38\n",
       "9      > 90  female     died     33\n",
       "10     < 60    male  counted  24388\n",
       "11     < 60  female  counted  22590\n",
       "12  60 - 69    male  counted   3150\n",
       "13  60 - 69  female  counted   2500\n",
       "14  70 - 79    male  counted   3150\n",
       "15  70 - 79  female  counted   2500\n",
       "16  80 - 89    male  counted    750\n",
       "17  80 - 89  female  counted    850\n",
       "18     > 90    male  counted    750\n",
       "19     > 90  female  counted    850"
      ]
     },
     "execution_count": 8,
     "metadata": {},
     "output_type": "execute_result"
    }
   ],
   "source": [
    "columns=['age', 'sex', 'status', 'count']\n",
    "df = pd.DataFrame(\n",
    "[\n",
    "    ['< 60'   , 'male'  , 'died',  26],\n",
    "    ['< 60'   , 'female', 'died',   5],\n",
    "    ['60 - 69', 'male'  , 'died',  32],\n",
    "    ['60 - 69', 'female', 'died',  12],\n",
    "    ['70 - 79', 'male'  , 'died', 102],\n",
    "    ['70 - 79', 'female', 'died',  28],\n",
    "    ['80 - 89', 'male'  , 'died', 185],\n",
    "    ['80 - 89', 'female', 'died', 120],\n",
    "    ['> 90'   , 'male'  , 'died', 38],\n",
    "    ['> 90'   , 'female', 'died', 33],\n",
    "\n",
    "    ['< 60'   , 'male'  , 'counted',  24388],\n",
    "    ['< 60'   , 'female', 'counted',  22590],\n",
    "    ['60 - 69', 'male'  , 'counted',  6300//2],\n",
    "    ['60 - 69', 'female', 'counted',  5000//2],\n",
    "    ['70 - 79', 'male'  , 'counted',  6300//2],\n",
    "    ['70 - 79', 'female', 'counted',  5000//2],\n",
    "    ['80 - 89', 'male'  , 'counted', 1500//2],\n",
    "    ['80 - 89', 'female', 'counted', 1700//2],\n",
    "    ['> 90'   , 'male'  , 'counted', 1500//2],\n",
    "    ['> 90'   , 'female', 'counted', 1700//2],\n",
    "], columns=columns)# , dtype=\n",
    "for i, dt in enumerate([age_cat_dtype, sex_cat_dtype, status_cat_dtype, np.int]):\n",
    "    df.iloc[:,i] = df.iloc[:,i].astype(dt)\n",
    "\n",
    "df"
   ]
  },
  {
   "cell_type": "code",
   "execution_count": 9,
   "metadata": {},
   "outputs": [
    {
     "data": {
      "text/plain": [
       "CategoricalDtype(categories=['< 60', '60 - 79', '> 80'], ordered=True)"
      ]
     },
     "execution_count": 9,
     "metadata": {},
     "output_type": "execute_result"
    }
   ],
   "source": [
    "age_cat_dtype = pd.api.types.CategoricalDtype(categories=[\"< 60\", \"60 - 79\", \"> 80\"], ordered=True)\n",
    "age_cat_dtype"
   ]
  },
  {
   "cell_type": "code",
   "execution_count": 10,
   "metadata": {},
   "outputs": [
    {
     "data": {
      "text/html": [
       "<div>\n",
       "<style scoped>\n",
       "    .dataframe tbody tr th:only-of-type {\n",
       "        vertical-align: middle;\n",
       "    }\n",
       "\n",
       "    .dataframe tbody tr th {\n",
       "        vertical-align: top;\n",
       "    }\n",
       "\n",
       "    .dataframe thead th {\n",
       "        text-align: right;\n",
       "    }\n",
       "</style>\n",
       "<table border=\"1\" class=\"dataframe\">\n",
       "  <thead>\n",
       "    <tr style=\"text-align: right;\">\n",
       "      <th></th>\n",
       "      <th>age</th>\n",
       "      <th>sex</th>\n",
       "      <th>status</th>\n",
       "      <th>count</th>\n",
       "    </tr>\n",
       "  </thead>\n",
       "  <tbody>\n",
       "    <tr>\n",
       "      <th>0</th>\n",
       "      <td>&lt; 60</td>\n",
       "      <td>male</td>\n",
       "      <td>died</td>\n",
       "      <td>26</td>\n",
       "    </tr>\n",
       "    <tr>\n",
       "      <th>1</th>\n",
       "      <td>&lt; 60</td>\n",
       "      <td>female</td>\n",
       "      <td>died</td>\n",
       "      <td>5</td>\n",
       "    </tr>\n",
       "    <tr>\n",
       "      <th>2</th>\n",
       "      <td>60 - 79</td>\n",
       "      <td>male</td>\n",
       "      <td>died</td>\n",
       "      <td>134</td>\n",
       "    </tr>\n",
       "    <tr>\n",
       "      <th>3</th>\n",
       "      <td>60 - 79</td>\n",
       "      <td>female</td>\n",
       "      <td>died</td>\n",
       "      <td>40</td>\n",
       "    </tr>\n",
       "    <tr>\n",
       "      <th>4</th>\n",
       "      <td>&gt; 80</td>\n",
       "      <td>male</td>\n",
       "      <td>died</td>\n",
       "      <td>223</td>\n",
       "    </tr>\n",
       "    <tr>\n",
       "      <th>5</th>\n",
       "      <td>&gt; 80</td>\n",
       "      <td>female</td>\n",
       "      <td>died</td>\n",
       "      <td>153</td>\n",
       "    </tr>\n",
       "    <tr>\n",
       "      <th>6</th>\n",
       "      <td>&lt; 60</td>\n",
       "      <td>male</td>\n",
       "      <td>counted</td>\n",
       "      <td>24388</td>\n",
       "    </tr>\n",
       "    <tr>\n",
       "      <th>7</th>\n",
       "      <td>&lt; 60</td>\n",
       "      <td>female</td>\n",
       "      <td>counted</td>\n",
       "      <td>22590</td>\n",
       "    </tr>\n",
       "    <tr>\n",
       "      <th>8</th>\n",
       "      <td>60 - 79</td>\n",
       "      <td>male</td>\n",
       "      <td>counted</td>\n",
       "      <td>6300</td>\n",
       "    </tr>\n",
       "    <tr>\n",
       "      <th>9</th>\n",
       "      <td>60 - 79</td>\n",
       "      <td>female</td>\n",
       "      <td>counted</td>\n",
       "      <td>5000</td>\n",
       "    </tr>\n",
       "    <tr>\n",
       "      <th>10</th>\n",
       "      <td>&gt; 80</td>\n",
       "      <td>male</td>\n",
       "      <td>counted</td>\n",
       "      <td>1500</td>\n",
       "    </tr>\n",
       "    <tr>\n",
       "      <th>11</th>\n",
       "      <td>&gt; 80</td>\n",
       "      <td>female</td>\n",
       "      <td>counted</td>\n",
       "      <td>1700</td>\n",
       "    </tr>\n",
       "  </tbody>\n",
       "</table>\n",
       "</div>"
      ],
      "text/plain": [
       "        age     sex   status  count\n",
       "0      < 60    male     died     26\n",
       "1      < 60  female     died      5\n",
       "2   60 - 79    male     died    134\n",
       "3   60 - 79  female     died     40\n",
       "4      > 80    male     died    223\n",
       "5      > 80  female     died    153\n",
       "6      < 60    male  counted  24388\n",
       "7      < 60  female  counted  22590\n",
       "8   60 - 79    male  counted   6300\n",
       "9   60 - 79  female  counted   5000\n",
       "10     > 80    male  counted   1500\n",
       "11     > 80  female  counted   1700"
      ]
     },
     "execution_count": 10,
     "metadata": {},
     "output_type": "execute_result"
    }
   ],
   "source": [
    "columns=['age', 'sex', 'status', 'count']\n",
    "df = pd.DataFrame(\n",
    "[\n",
    "    ['< 60'   , 'male'  , 'died',  26],\n",
    "    ['< 60'   , 'female', 'died',   5],\n",
    "    ['60 - 79', 'male'  , 'died',  32 + 102],\n",
    "    ['60 - 79', 'female', 'died',  12 +  28],\n",
    "    ['> 80'   , 'male'  , 'died', 185 + 38],\n",
    "    ['> 80'   , 'female', 'died', 120 + 33],\n",
    "\n",
    "    ['< 60'   , 'male'  , 'counted', 24388],\n",
    "    ['< 60'   , 'female', 'counted', 22590],\n",
    "    ['60 - 79', 'male'  , 'counted',  6300],\n",
    "    ['60 - 79', 'female', 'counted',  5000],\n",
    "    ['> 80'   , 'male'  , 'counted',  1500],\n",
    "    ['> 80'   , 'female', 'counted',  1700],\n",
    "], columns=columns)# , dtype=\n",
    "for i, dt in enumerate([age_cat_dtype, sex_cat_dtype, status_cat_dtype, np.int]):\n",
    "    df.iloc[:,i] = df.iloc[:,i].astype(dt)\n",
    "\n",
    "df"
   ]
  },
  {
   "cell_type": "code",
   "execution_count": 11,
   "metadata": {},
   "outputs": [
    {
     "data": {
      "text/plain": [
       "['age', 'sex', 'status']"
      ]
     },
     "execution_count": 11,
     "metadata": {},
     "output_type": "execute_result"
    }
   ],
   "source": [
    "axis_columns = columns[:-1]\n",
    "axis_columns"
   ]
  },
  {
   "cell_type": "code",
   "execution_count": 12,
   "metadata": {},
   "outputs": [
    {
     "data": {
      "text/html": [
       "<div>\n",
       "<style scoped>\n",
       "    .dataframe tbody tr th:only-of-type {\n",
       "        vertical-align: middle;\n",
       "    }\n",
       "\n",
       "    .dataframe tbody tr th {\n",
       "        vertical-align: top;\n",
       "    }\n",
       "\n",
       "    .dataframe thead th {\n",
       "        text-align: right;\n",
       "    }\n",
       "</style>\n",
       "<table border=\"1\" class=\"dataframe\">\n",
       "  <thead>\n",
       "    <tr style=\"text-align: right;\">\n",
       "      <th></th>\n",
       "      <th></th>\n",
       "      <th></th>\n",
       "      <th>count</th>\n",
       "    </tr>\n",
       "    <tr>\n",
       "      <th>age</th>\n",
       "      <th>sex</th>\n",
       "      <th>status</th>\n",
       "      <th></th>\n",
       "    </tr>\n",
       "  </thead>\n",
       "  <tbody>\n",
       "    <tr>\n",
       "      <th rowspan=\"4\" valign=\"top\">&lt; 60</th>\n",
       "      <th rowspan=\"2\" valign=\"top\">male</th>\n",
       "      <th>counted</th>\n",
       "      <td>24388</td>\n",
       "    </tr>\n",
       "    <tr>\n",
       "      <th>died</th>\n",
       "      <td>26</td>\n",
       "    </tr>\n",
       "    <tr>\n",
       "      <th rowspan=\"2\" valign=\"top\">female</th>\n",
       "      <th>counted</th>\n",
       "      <td>22590</td>\n",
       "    </tr>\n",
       "    <tr>\n",
       "      <th>died</th>\n",
       "      <td>5</td>\n",
       "    </tr>\n",
       "    <tr>\n",
       "      <th rowspan=\"4\" valign=\"top\">60 - 79</th>\n",
       "      <th rowspan=\"2\" valign=\"top\">male</th>\n",
       "      <th>counted</th>\n",
       "      <td>6300</td>\n",
       "    </tr>\n",
       "    <tr>\n",
       "      <th>died</th>\n",
       "      <td>134</td>\n",
       "    </tr>\n",
       "    <tr>\n",
       "      <th rowspan=\"2\" valign=\"top\">female</th>\n",
       "      <th>counted</th>\n",
       "      <td>5000</td>\n",
       "    </tr>\n",
       "    <tr>\n",
       "      <th>died</th>\n",
       "      <td>40</td>\n",
       "    </tr>\n",
       "    <tr>\n",
       "      <th rowspan=\"4\" valign=\"top\">&gt; 80</th>\n",
       "      <th rowspan=\"2\" valign=\"top\">male</th>\n",
       "      <th>counted</th>\n",
       "      <td>1500</td>\n",
       "    </tr>\n",
       "    <tr>\n",
       "      <th>died</th>\n",
       "      <td>223</td>\n",
       "    </tr>\n",
       "    <tr>\n",
       "      <th rowspan=\"2\" valign=\"top\">female</th>\n",
       "      <th>counted</th>\n",
       "      <td>1700</td>\n",
       "    </tr>\n",
       "    <tr>\n",
       "      <th>died</th>\n",
       "      <td>153</td>\n",
       "    </tr>\n",
       "  </tbody>\n",
       "</table>\n",
       "</div>"
      ],
      "text/plain": [
       "                        count\n",
       "age     sex    status        \n",
       "< 60    male   counted  24388\n",
       "               died        26\n",
       "        female counted  22590\n",
       "               died         5\n",
       "60 - 79 male   counted   6300\n",
       "               died       134\n",
       "        female counted   5000\n",
       "               died        40\n",
       "> 80    male   counted   1500\n",
       "               died       223\n",
       "        female counted   1700\n",
       "               died       153"
      ]
     },
     "execution_count": 12,
     "metadata": {},
     "output_type": "execute_result"
    }
   ],
   "source": [
    "ldf = df.groupby(axis_columns).max()\n",
    "ldf"
   ]
  },
  {
   "cell_type": "code",
   "execution_count": 13,
   "metadata": {},
   "outputs": [
    {
     "data": {
      "text/html": [
       "<pre>&lt;xarray.DataArray &#x27;count&#x27; (age: 3, sex: 2, status: 2)&gt;\n",
       "array([[[24362,    26],\n",
       "        [22585,     5]],\n",
       "\n",
       "       [[ 6166,   134],\n",
       "        [ 4960,    40]],\n",
       "\n",
       "       [[ 1277,   223],\n",
       "        [ 1547,   153]]])\n",
       "Coordinates:\n",
       "  * age      (age) object &#x27;&lt; 60&#x27; &#x27;60 - 79&#x27; &#x27;&gt; 80&#x27;\n",
       "  * sex      (sex) object &#x27;male&#x27; &#x27;female&#x27;\n",
       "  * status   (status) object &#x27;counted&#x27; &#x27;died&#x27;</pre>"
      ],
      "text/plain": [
       "<xarray.DataArray 'count' (age: 3, sex: 2, status: 2)>\n",
       "array([[[24362,    26],\n",
       "        [22585,     5]],\n",
       "\n",
       "       [[ 6166,   134],\n",
       "        [ 4960,    40]],\n",
       "\n",
       "       [[ 1277,   223],\n",
       "        [ 1547,   153]]])\n",
       "Coordinates:\n",
       "  * age      (age) object '< 60' '60 - 79' '> 80'\n",
       "  * sex      (sex) object 'male' 'female'\n",
       "  * status   (status) object 'counted' 'died'"
      ]
     },
     "execution_count": 13,
     "metadata": {},
     "output_type": "execute_result"
    }
   ],
   "source": [
    "lxr = ldf.to_xarray()['count']\n",
    "lxr.loc[dict(status='counted')] = lxr.loc[dict(status='counted')] - lxr.loc[dict(status='died')] \n",
    "count_xr = lxr\n",
    "count_xr"
   ]
  },
  {
   "cell_type": "code",
   "execution_count": 14,
   "metadata": {},
   "outputs": [
    {
     "data": {
      "text/html": [
       "<pre>&lt;xarray.DataArray &#x27;count&#x27; (age: 3, sex: 2, status: 2)&gt;\n",
       "array([[[0.39627184, 0.00042292],\n",
       "        [0.36736719, 0.00008133]],\n",
       "\n",
       "       [[0.10029604, 0.00217964],\n",
       "        [0.08067927, 0.00065064]],\n",
       "\n",
       "       [[0.02077166, 0.00362731],\n",
       "        [0.02516347, 0.0024887 ]]])\n",
       "Coordinates:\n",
       "  * age      (age) object &#x27;&lt; 60&#x27; &#x27;60 - 79&#x27; &#x27;&gt; 80&#x27;\n",
       "  * sex      (sex) object &#x27;male&#x27; &#x27;female&#x27;\n",
       "  * status   (status) object &#x27;counted&#x27; &#x27;died&#x27;</pre>"
      ],
      "text/plain": [
       "<xarray.DataArray 'count' (age: 3, sex: 2, status: 2)>\n",
       "array([[[0.39627184, 0.00042292],\n",
       "        [0.36736719, 0.00008133]],\n",
       "\n",
       "       [[0.10029604, 0.00217964],\n",
       "        [0.08067927, 0.00065064]],\n",
       "\n",
       "       [[0.02077166, 0.00362731],\n",
       "        [0.02516347, 0.0024887 ]]])\n",
       "Coordinates:\n",
       "  * age      (age) object '< 60' '60 - 79' '> 80'\n",
       "  * sex      (sex) object 'male' 'female'\n",
       "  * status   (status) object 'counted' 'died'"
      ]
     },
     "execution_count": 14,
     "metadata": {},
     "output_type": "execute_result"
    }
   ],
   "source": [
    "p_xr = count_xr / count_xr.sum()\n",
    "p_xr"
   ]
  },
  {
   "cell_type": "code",
   "execution_count": 15,
   "metadata": {},
   "outputs": [
    {
     "data": {
      "text/plain": [
       "['age', 'sex', 'status']"
      ]
     },
     "execution_count": 15,
     "metadata": {},
     "output_type": "execute_result"
    }
   ],
   "source": [
    "axis_columns"
   ]
  },
  {
   "cell_type": "code",
   "execution_count": 16,
   "metadata": {},
   "outputs": [
    {
     "data": {
      "text/html": [
       "<div>\n",
       "<style scoped>\n",
       "    .dataframe tbody tr th:only-of-type {\n",
       "        vertical-align: middle;\n",
       "    }\n",
       "\n",
       "    .dataframe tbody tr th {\n",
       "        vertical-align: top;\n",
       "    }\n",
       "\n",
       "    .dataframe thead th {\n",
       "        text-align: right;\n",
       "    }\n",
       "</style>\n",
       "<table border=\"1\" class=\"dataframe\">\n",
       "  <thead>\n",
       "    <tr style=\"text-align: right;\">\n",
       "      <th></th>\n",
       "      <th>age</th>\n",
       "      <th>status</th>\n",
       "      <th>sex</th>\n",
       "      <th>count</th>\n",
       "    </tr>\n",
       "  </thead>\n",
       "  <tbody>\n",
       "    <tr>\n",
       "      <th>0</th>\n",
       "      <td>&lt; 60</td>\n",
       "      <td>counted</td>\n",
       "      <td>male</td>\n",
       "      <td>24362</td>\n",
       "    </tr>\n",
       "    <tr>\n",
       "      <th>1</th>\n",
       "      <td>&lt; 60</td>\n",
       "      <td>died</td>\n",
       "      <td>male</td>\n",
       "      <td>26</td>\n",
       "    </tr>\n",
       "    <tr>\n",
       "      <th>2</th>\n",
       "      <td>&lt; 60</td>\n",
       "      <td>counted</td>\n",
       "      <td>female</td>\n",
       "      <td>22585</td>\n",
       "    </tr>\n",
       "    <tr>\n",
       "      <th>3</th>\n",
       "      <td>&lt; 60</td>\n",
       "      <td>died</td>\n",
       "      <td>female</td>\n",
       "      <td>5</td>\n",
       "    </tr>\n",
       "    <tr>\n",
       "      <th>4</th>\n",
       "      <td>60 - 79</td>\n",
       "      <td>counted</td>\n",
       "      <td>male</td>\n",
       "      <td>6166</td>\n",
       "    </tr>\n",
       "    <tr>\n",
       "      <th>5</th>\n",
       "      <td>60 - 79</td>\n",
       "      <td>died</td>\n",
       "      <td>male</td>\n",
       "      <td>134</td>\n",
       "    </tr>\n",
       "    <tr>\n",
       "      <th>6</th>\n",
       "      <td>60 - 79</td>\n",
       "      <td>counted</td>\n",
       "      <td>female</td>\n",
       "      <td>4960</td>\n",
       "    </tr>\n",
       "    <tr>\n",
       "      <th>7</th>\n",
       "      <td>60 - 79</td>\n",
       "      <td>died</td>\n",
       "      <td>female</td>\n",
       "      <td>40</td>\n",
       "    </tr>\n",
       "    <tr>\n",
       "      <th>8</th>\n",
       "      <td>&gt; 80</td>\n",
       "      <td>counted</td>\n",
       "      <td>male</td>\n",
       "      <td>1277</td>\n",
       "    </tr>\n",
       "    <tr>\n",
       "      <th>9</th>\n",
       "      <td>&gt; 80</td>\n",
       "      <td>died</td>\n",
       "      <td>male</td>\n",
       "      <td>223</td>\n",
       "    </tr>\n",
       "    <tr>\n",
       "      <th>10</th>\n",
       "      <td>&gt; 80</td>\n",
       "      <td>counted</td>\n",
       "      <td>female</td>\n",
       "      <td>1547</td>\n",
       "    </tr>\n",
       "    <tr>\n",
       "      <th>11</th>\n",
       "      <td>&gt; 80</td>\n",
       "      <td>died</td>\n",
       "      <td>female</td>\n",
       "      <td>153</td>\n",
       "    </tr>\n",
       "  </tbody>\n",
       "</table>\n",
       "</div>"
      ],
      "text/plain": [
       "        age   status     sex  count\n",
       "0      < 60  counted    male  24362\n",
       "1      < 60     died    male     26\n",
       "2      < 60  counted  female  22585\n",
       "3      < 60     died  female      5\n",
       "4   60 - 79  counted    male   6166\n",
       "5   60 - 79     died    male    134\n",
       "6   60 - 79  counted  female   4960\n",
       "7   60 - 79     died  female     40\n",
       "8      > 80  counted    male   1277\n",
       "9      > 80     died    male    223\n",
       "10     > 80  counted  female   1547\n",
       "11     > 80     died  female    153"
      ]
     },
     "execution_count": 16,
     "metadata": {},
     "output_type": "execute_result"
    }
   ],
   "source": [
    "ldf = count_xr.to_dataframe(name='count').reset_index()\n",
    "ldf = ldf[['age', 'status', 'sex', 'count']]\n",
    "ldf"
   ]
  },
  {
   "cell_type": "code",
   "execution_count": 17,
   "metadata": {},
   "outputs": [],
   "source": [
    "ldf = ldf[ldf.age > '< 60']"
   ]
  },
  {
   "cell_type": "code",
   "execution_count": 18,
   "metadata": {},
   "outputs": [
    {
     "data": {
      "text/plain": [
       "{('60 - 79', 'counted', 'male'): 6166,\n",
       " ('60 - 79', 'died', 'male'): 134,\n",
       " ('60 - 79', 'counted', 'female'): 4960,\n",
       " ('60 - 79', 'died', 'female'): 40,\n",
       " ('> 80', 'counted', 'male'): 1277,\n",
       " ('> 80', 'died', 'male'): 223,\n",
       " ('> 80', 'counted', 'female'): 1547,\n",
       " ('> 80', 'died', 'female'): 153}"
      ]
     },
     "execution_count": 18,
     "metadata": {},
     "output_type": "execute_result"
    }
   ],
   "source": [
    "d = {}\n",
    "for l, row in ldf.iterrows():\n",
    "    idx = tuple(row[:-1])\n",
    "    v   = row[-1]\n",
    "    d[idx] = v\n",
    "d"
   ]
  },
  {
   "cell_type": "code",
   "execution_count": 19,
   "metadata": {},
   "outputs": [],
   "source": [
    "import statsmodels.graphics.mosaicplot"
   ]
  },
  {
   "cell_type": "code",
   "execution_count": 20,
   "metadata": {
    "scrolled": false
   },
   "outputs": [
    {
     "data": {
      "image/png": "[encoded data removed]",
      "text/plain": [
       "<Figure size 2560x1280 with 3 Axes>"
      ]
     },
     "metadata": {},
     "output_type": "display_data"
    }
   ],
   "source": [
    "fig = plt.figure(figsize=(32,16), dpi=80, facecolor='w', edgecolor='k')\n",
    "ax = plt.subplot(1,1,1)\n",
    "statsmodels.graphics.mosaicplot.mosaic(d, ax=ax);"
   ]
  },
  {
   "cell_type": "code",
   "execution_count": 21,
   "metadata": {},
   "outputs": [],
   "source": [
    "# ldf = p_xr.to_dataframe(name='p').reset_index()\n",
    "# ldf = ldf[['age', 'status', 'sex', 'p']]\n",
    "# ldf = ldf[ldf.status == 'died']\n",
    "# ldf = ldf[['age', 'sex', 'p']]\n",
    "# ldf\n",
    "# pd.plotting.parallel_coordinates(ldf, 'sex')"
   ]
  },
  {
   "cell_type": "markdown",
   "metadata": {},
   "source": [
    "$\n",
    "\\begin{align}\n",
    "p(\\mathrm{sex}\\,|\\,\\mathrm{age},\\mathrm{status}=\\mathrm{dead})\\\\\n",
    "\\end{align}\n",
    "$"
   ]
  },
  {
   "cell_type": "code",
   "execution_count": 22,
   "metadata": {},
   "outputs": [
    {
     "data": {
      "text/html": [
       "<div>\n",
       "<style scoped>\n",
       "    .dataframe tbody tr th:only-of-type {\n",
       "        vertical-align: middle;\n",
       "    }\n",
       "\n",
       "    .dataframe tbody tr th {\n",
       "        vertical-align: top;\n",
       "    }\n",
       "\n",
       "    .dataframe thead th {\n",
       "        text-align: right;\n",
       "    }\n",
       "</style>\n",
       "<table border=\"1\" class=\"dataframe\">\n",
       "  <thead>\n",
       "    <tr style=\"text-align: right;\">\n",
       "      <th>age</th>\n",
       "      <th>&lt; 60</th>\n",
       "      <th>60 - 79</th>\n",
       "      <th>&gt; 80</th>\n",
       "    </tr>\n",
       "    <tr>\n",
       "      <th>sex</th>\n",
       "      <th></th>\n",
       "      <th></th>\n",
       "      <th></th>\n",
       "    </tr>\n",
       "  </thead>\n",
       "  <tbody>\n",
       "    <tr>\n",
       "      <th>male</th>\n",
       "      <td>0.83871</td>\n",
       "      <td>0.770115</td>\n",
       "      <td>0.593085</td>\n",
       "    </tr>\n",
       "    <tr>\n",
       "      <th>female</th>\n",
       "      <td>0.16129</td>\n",
       "      <td>0.229885</td>\n",
       "      <td>0.406915</td>\n",
       "    </tr>\n",
       "  </tbody>\n",
       "</table>\n",
       "</div>"
      ],
      "text/plain": [
       "age        < 60   60 - 79      > 80\n",
       "sex                                \n",
       "male    0.83871  0.770115  0.593085\n",
       "female  0.16129  0.229885  0.406915"
      ]
     },
     "execution_count": 22,
     "metadata": {},
     "output_type": "execute_result"
    }
   ],
   "source": [
    "lxr = p_xr.loc[dict(status='died')].drop_vars(['status'])\n",
    "lxr = lxr / lxr.sum(['sex'])\n",
    "ldf = lxr.to_dataframe(name='p').reset_index().pivot_table(index='sex', columns='age', values='p')\n",
    "ldf"
   ]
  },
  {
   "cell_type": "markdown",
   "metadata": {},
   "source": [
    "$\n",
    "\\begin{align}\n",
    "p(\\mathrm{status})\\\\\n",
    "\\end{align}\n",
    "$"
   ]
  },
  {
   "cell_type": "code",
   "execution_count": 23,
   "metadata": {},
   "outputs": [
    {
     "data": {
      "text/html": [
       "<div>\n",
       "<style scoped>\n",
       "    .dataframe tbody tr th:only-of-type {\n",
       "        vertical-align: middle;\n",
       "    }\n",
       "\n",
       "    .dataframe tbody tr th {\n",
       "        vertical-align: top;\n",
       "    }\n",
       "\n",
       "    .dataframe thead th {\n",
       "        text-align: right;\n",
       "    }\n",
       "</style>\n",
       "<table border=\"1\" class=\"dataframe\">\n",
       "  <thead>\n",
       "    <tr style=\"text-align: right;\">\n",
       "      <th></th>\n",
       "      <th>p</th>\n",
       "    </tr>\n",
       "    <tr>\n",
       "      <th>status</th>\n",
       "      <th></th>\n",
       "    </tr>\n",
       "  </thead>\n",
       "  <tbody>\n",
       "    <tr>\n",
       "      <th>counted</th>\n",
       "      <td>99.05</td>\n",
       "    </tr>\n",
       "    <tr>\n",
       "      <th>died</th>\n",
       "      <td>0.95</td>\n",
       "    </tr>\n",
       "  </tbody>\n",
       "</table>\n",
       "</div>"
      ],
      "text/plain": [
       "             p\n",
       "status        \n",
       "counted  99.05\n",
       "died      0.95"
      ]
     },
     "execution_count": 23,
     "metadata": {},
     "output_type": "execute_result"
    }
   ],
   "source": [
    "lxr = p_xr.copy()\n",
    "lxr = lxr.sum(['sex', 'age'])\n",
    "p_status = (lxr.to_dataframe(name='p') * 100.0).round(2)\n",
    "p_status"
   ]
  },
  {
   "cell_type": "markdown",
   "metadata": {},
   "source": [
    "$\n",
    "\\begin{align}\n",
    "p(\\mathrm{status}\\,|\\,\\mathrm{age},\\mathrm{sex})\\\\\n",
    "\\end{align}\n",
    "$"
   ]
  },
  {
   "cell_type": "code",
   "execution_count": 24,
   "metadata": {},
   "outputs": [
    {
     "data": {
      "text/html": [
       "<div>\n",
       "<style scoped>\n",
       "    .dataframe tbody tr th:only-of-type {\n",
       "        vertical-align: middle;\n",
       "    }\n",
       "\n",
       "    .dataframe tbody tr th {\n",
       "        vertical-align: top;\n",
       "    }\n",
       "\n",
       "    .dataframe thead tr th {\n",
       "        text-align: left;\n",
       "    }\n",
       "\n",
       "    .dataframe thead tr:last-of-type th {\n",
       "        text-align: right;\n",
       "    }\n",
       "</style>\n",
       "<table border=\"1\" class=\"dataframe\">\n",
       "  <thead>\n",
       "    <tr>\n",
       "      <th>sex</th>\n",
       "      <th colspan=\"3\" halign=\"left\">male</th>\n",
       "      <th colspan=\"3\" halign=\"left\">female</th>\n",
       "    </tr>\n",
       "    <tr>\n",
       "      <th>age</th>\n",
       "      <th>&lt; 60</th>\n",
       "      <th>60 - 79</th>\n",
       "      <th>&gt; 80</th>\n",
       "      <th>&lt; 60</th>\n",
       "      <th>60 - 79</th>\n",
       "      <th>&gt; 80</th>\n",
       "    </tr>\n",
       "    <tr>\n",
       "      <th>status</th>\n",
       "      <th></th>\n",
       "      <th></th>\n",
       "      <th></th>\n",
       "      <th></th>\n",
       "      <th></th>\n",
       "      <th></th>\n",
       "    </tr>\n",
       "  </thead>\n",
       "  <tbody>\n",
       "    <tr>\n",
       "      <th>counted</th>\n",
       "      <td>99.89</td>\n",
       "      <td>97.87</td>\n",
       "      <td>85.13</td>\n",
       "      <td>99.98</td>\n",
       "      <td>99.2</td>\n",
       "      <td>91.0</td>\n",
       "    </tr>\n",
       "    <tr>\n",
       "      <th>died</th>\n",
       "      <td>0.11</td>\n",
       "      <td>2.13</td>\n",
       "      <td>14.87</td>\n",
       "      <td>0.02</td>\n",
       "      <td>0.8</td>\n",
       "      <td>9.0</td>\n",
       "    </tr>\n",
       "  </tbody>\n",
       "</table>\n",
       "</div>"
      ],
      "text/plain": [
       "sex       male                female              \n",
       "age       < 60 60 - 79   > 80   < 60 60 - 79  > 80\n",
       "status                                            \n",
       "counted  99.89   97.87  85.13  99.98    99.2  91.0\n",
       "died      0.11    2.13  14.87   0.02     0.8   9.0"
      ]
     },
     "execution_count": 24,
     "metadata": {},
     "output_type": "execute_result"
    }
   ],
   "source": [
    "lxr = p_xr.copy()\n",
    "lxr = lxr / lxr.sum(['status'])\n",
    "p_status_given_sex_and_age = (lxr.to_dataframe(name='p').reset_index().pivot_table(index='status', columns=['sex','age'], values='p') * 100.0).round(2)\n",
    "p_status_given_sex_and_age"
   ]
  },
  {
   "cell_type": "code",
   "execution_count": 25,
   "metadata": {},
   "outputs": [
    {
     "data": {
      "text/html": [
       "<div>\n",
       "<style scoped>\n",
       "    .dataframe tbody tr th:only-of-type {\n",
       "        vertical-align: middle;\n",
       "    }\n",
       "\n",
       "    .dataframe tbody tr th {\n",
       "        vertical-align: top;\n",
       "    }\n",
       "\n",
       "    .dataframe thead tr th {\n",
       "        text-align: left;\n",
       "    }\n",
       "\n",
       "    .dataframe thead tr:last-of-type th {\n",
       "        text-align: right;\n",
       "    }\n",
       "</style>\n",
       "<table border=\"1\" class=\"dataframe\">\n",
       "  <thead>\n",
       "    <tr>\n",
       "      <th>sex</th>\n",
       "      <th colspan=\"3\" halign=\"left\">male</th>\n",
       "      <th colspan=\"3\" halign=\"left\">female</th>\n",
       "    </tr>\n",
       "    <tr>\n",
       "      <th>age</th>\n",
       "      <th>&lt; 60</th>\n",
       "      <th>60 - 79</th>\n",
       "      <th>&gt; 80</th>\n",
       "      <th>&lt; 60</th>\n",
       "      <th>60 - 79</th>\n",
       "      <th>&gt; 80</th>\n",
       "    </tr>\n",
       "    <tr>\n",
       "      <th>status</th>\n",
       "      <th></th>\n",
       "      <th></th>\n",
       "      <th></th>\n",
       "      <th></th>\n",
       "      <th></th>\n",
       "      <th></th>\n",
       "    </tr>\n",
       "  </thead>\n",
       "  <tbody>\n",
       "    <tr>\n",
       "      <th>died</th>\n",
       "      <td>0.115789</td>\n",
       "      <td>2.242105</td>\n",
       "      <td>15.652632</td>\n",
       "      <td>0.021053</td>\n",
       "      <td>0.842105</td>\n",
       "      <td>9.473684</td>\n",
       "    </tr>\n",
       "  </tbody>\n",
       "</table>\n",
       "</div>"
      ],
      "text/plain": [
       "sex         male                         female                    \n",
       "age         < 60   60 - 79       > 80      < 60   60 - 79      > 80\n",
       "status                                                             \n",
       "died    0.115789  2.242105  15.652632  0.021053  0.842105  9.473684"
      ]
     },
     "execution_count": 25,
     "metadata": {},
     "output_type": "execute_result"
    }
   ],
   "source": [
    "relativ_risk = p_status_given_sex_and_age.loc[['died']] / p_status.loc['died'].values[0]\n",
    "relativ_risk"
   ]
  },
  {
   "cell_type": "markdown",
   "metadata": {},
   "source": [
    "The following is the approximate calculation that works for small probabilities and small relative risk factors:"
   ]
  },
  {
   "cell_type": "code",
   "execution_count": 26,
   "metadata": {},
   "outputs": [
    {
     "data": {
      "text/html": [
       "<div>\n",
       "<style scoped>\n",
       "    .dataframe tbody tr th:only-of-type {\n",
       "        vertical-align: middle;\n",
       "    }\n",
       "\n",
       "    .dataframe tbody tr th {\n",
       "        vertical-align: top;\n",
       "    }\n",
       "\n",
       "    .dataframe thead tr th {\n",
       "        text-align: left;\n",
       "    }\n",
       "\n",
       "    .dataframe thead tr:last-of-type th {\n",
       "        text-align: right;\n",
       "    }\n",
       "</style>\n",
       "<table border=\"1\" class=\"dataframe\">\n",
       "  <thead>\n",
       "    <tr>\n",
       "      <th>sex</th>\n",
       "      <th colspan=\"3\" halign=\"left\">male</th>\n",
       "      <th colspan=\"3\" halign=\"left\">female</th>\n",
       "    </tr>\n",
       "    <tr>\n",
       "      <th>age</th>\n",
       "      <th>&lt; 60</th>\n",
       "      <th>60 - 79</th>\n",
       "      <th>&gt; 80</th>\n",
       "      <th>&lt; 60</th>\n",
       "      <th>60 - 79</th>\n",
       "      <th>&gt; 80</th>\n",
       "    </tr>\n",
       "    <tr>\n",
       "      <th>status</th>\n",
       "      <th></th>\n",
       "      <th></th>\n",
       "      <th></th>\n",
       "      <th></th>\n",
       "      <th></th>\n",
       "      <th></th>\n",
       "    </tr>\n",
       "  </thead>\n",
       "  <tbody>\n",
       "    <tr>\n",
       "      <th>died</th>\n",
       "      <td>0.301053</td>\n",
       "      <td>5.829474</td>\n",
       "      <td>40.696842</td>\n",
       "      <td>0.054737</td>\n",
       "      <td>2.189474</td>\n",
       "      <td>24.631579</td>\n",
       "    </tr>\n",
       "  </tbody>\n",
       "</table>\n",
       "</div>"
      ],
      "text/plain": [
       "sex         male                         female                     \n",
       "age         < 60   60 - 79       > 80      < 60   60 - 79       > 80\n",
       "status                                                              \n",
       "died    0.301053  5.829474  40.696842  0.054737  2.189474  24.631579"
      ]
     },
     "execution_count": 26,
     "metadata": {},
     "output_type": "execute_result"
    }
   ],
   "source": [
    "p_status_is_dead_based_on_kaplan_meier = 2.6 # 2.6 percent in germany\n",
    "relativ_risk * p_status_is_dead_based_on_kaplan_meier"
   ]
  },
  {
   "cell_type": "markdown",
   "metadata": {},
   "source": [
    "The following is the \"correct\" calculation. The differences are only really noticeable for the \"> 80\" and \"male\":"
   ]
  },
  {
   "cell_type": "code",
   "execution_count": 27,
   "metadata": {},
   "outputs": [
    {
     "data": {
      "text/html": [
       "<div>\n",
       "<style scoped>\n",
       "    .dataframe tbody tr th:only-of-type {\n",
       "        vertical-align: middle;\n",
       "    }\n",
       "\n",
       "    .dataframe tbody tr th {\n",
       "        vertical-align: top;\n",
       "    }\n",
       "\n",
       "    .dataframe thead tr th {\n",
       "        text-align: left;\n",
       "    }\n",
       "\n",
       "    .dataframe thead tr:last-of-type th {\n",
       "        text-align: right;\n",
       "    }\n",
       "</style>\n",
       "<table border=\"1\" class=\"dataframe\">\n",
       "  <thead>\n",
       "    <tr>\n",
       "      <th>sex</th>\n",
       "      <th colspan=\"3\" halign=\"left\">male</th>\n",
       "      <th colspan=\"3\" halign=\"left\">female</th>\n",
       "    </tr>\n",
       "    <tr>\n",
       "      <th>age</th>\n",
       "      <th>&lt; 60</th>\n",
       "      <th>60 - 79</th>\n",
       "      <th>&gt; 80</th>\n",
       "      <th>&lt; 60</th>\n",
       "      <th>60 - 79</th>\n",
       "      <th>&gt; 80</th>\n",
       "    </tr>\n",
       "    <tr>\n",
       "      <th>status</th>\n",
       "      <th></th>\n",
       "      <th></th>\n",
       "      <th></th>\n",
       "      <th></th>\n",
       "      <th></th>\n",
       "      <th></th>\n",
       "    </tr>\n",
       "  </thead>\n",
       "  <tbody>\n",
       "    <tr>\n",
       "      <th>died</th>\n",
       "      <td>0.304571</td>\n",
       "      <td>5.735542</td>\n",
       "      <td>33.790918</td>\n",
       "      <td>0.055446</td>\n",
       "      <td>2.194014</td>\n",
       "      <td>22.086777</td>\n",
       "    </tr>\n",
       "  </tbody>\n",
       "</table>\n",
       "</div>"
      ],
      "text/plain": [
       "sex         male                         female                     \n",
       "age         < 60   60 - 79       > 80      < 60   60 - 79       > 80\n",
       "status                                                              \n",
       "died    0.304571  5.735542  33.790918  0.055446  2.194014  22.086777"
      ]
     },
     "execution_count": 27,
     "metadata": {},
     "output_type": "execute_result"
    }
   ],
   "source": [
    "values = 1.0 - np.power(1 - p_status_is_dead_based_on_kaplan_meier / 100.0, relativ_risk.iloc[0].values)\n",
    "ldf = relativ_risk.copy()\n",
    "ldf.iloc[0,:] = values * 100.0\n",
    "ldf"
   ]
  },
  {
   "cell_type": "code",
   "execution_count": 28,
   "metadata": {},
   "outputs": [
    {
     "data": {
      "text/plain": [
       "<matplotlib.axes._subplots.AxesSubplot at 0x7f5d1f3f9550>"
      ]
     },
     "execution_count": 28,
     "metadata": {},
     "output_type": "execute_result"
    },
    {
     "data": {
      "image/png": "[encoded data removed]",
      "text/plain": [
       "<Figure size 1152x576 with 1 Axes>"
      ]
     },
     "metadata": {},
     "output_type": "display_data"
    }
   ],
   "source": [
    "fig = plt.figure(figsize=(16,8))\n",
    "ax = plt.subplot(1,1,1)\n",
    "ldf.plot.bar(ax=ax)"
   ]
  },
  {
   "cell_type": "code",
   "execution_count": null,
   "metadata": {},
   "outputs": [],
   "source": []
  }
 ],
 "metadata": {
  "kernelspec": {
   "display_name": "Python 3",
   "language": "python",
   "name": "python3"
  },
  "language_info": {
   "codemirror_mode": {
    "name": "ipython",
    "version": 3
   },
   "file_extension": ".py",
   "mimetype": "text/x-python",
   "name": "python",
   "nbconvert_exporter": "python",
   "pygments_lexer": "ipython3",
   "version": "3.6.10"
  }
 },
 "nbformat": 4,
 "nbformat_minor": 2
}
