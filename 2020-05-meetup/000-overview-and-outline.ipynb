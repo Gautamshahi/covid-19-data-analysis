{
 "cells": [
  {
   "cell_type": "code",
   "execution_count": 19,
   "metadata": {},
   "outputs": [
    {
     "data": {
      "text/html": [
       "<style>.container { width:70% !important; }</style>"
      ],
      "text/plain": [
       "<IPython.core.display.HTML object>"
      ]
     },
     "metadata": {},
     "output_type": "display_data"
    }
   ],
   "source": [
    "from IPython.display import display, HTML\n",
    "\n",
    "display(HTML(\"<style>.container { width:70% !important; }</style>\"))"
   ]
  },
  {
   "cell_type": "markdown",
   "metadata": {},
   "source": [
    "# Covid-19\n",
    "\n",
    "1. Data Sources\n",
    "1. Infection Dynamcis\n",
    "    1. Curve Fitting\n",
    "    1. R-Value Estimation\n",
    "1. Case Fatality Rate (CFR)\n",
    "    1. Via Shift-And-Scale\n",
    "    1. Via Survival Analysis"
   ]
  },
  {
   "cell_type": "markdown",
   "metadata": {},
   "source": [
    "## Data Sources\n",
    "\n",
    "* [COVID-19 Data Repository by the Center for Systems Science and Engineering (CSSE) at Johns Hopkins University](https://github.com/CSSEGISandData/COVID-19)\n",
    "* [Data Against COVID-19](https://www.data-against-covid.org/)\n",
    "* [Germany/RKI](https://npgeo-corona-npgeo-de.hub.arcgis.com/datasets/dd4580c810204019a7b8eb3e0b329dd6_0)\n",
    "    * [Bayerisches Landesamt für Gesundheit und Lebensmittelsicherheit (LGL)](https://www.lgl.bayern.de/gesundheit/infektionsschutz/infektionskrankheiten_a_z/coronavirus/karte_coronavirus/index.htm) via screen-scraping\n",
    "* [Austria](https://covid-19-drp-austria.hub.arcgis.com/datasets/covid19-verlauf-bundesland)\n",
    "* [Italy](https://github.com/pcm-dpc/COVID-19/blob/master/dati-andamento-nazionale/dpc-covid19-ita-andamento-nazionale.csv)\n",
    "* [Spain](https://github.com/datadista/datasets/blob/master/COVID%2019/nacional_covid19.csv)\n",
    "* [France](https://github.com/opencovid19-fr/data/blob/master/dist/chiffres-cles.csv)"
   ]
  },
  {
   "cell_type": "markdown",
   "metadata": {},
   "source": [
    "## Infection Dynamics: Curve Fitting\n",
    "\n",
    "[Markus Noga](https://www.linkedin.com/in/mlnoga/)'s (SAP: AI and cloud thought leader) [covid19-analysis](https://mlnoga.github.io/covid19-analysis/)"
   ]
  },
  {
   "cell_type": "markdown",
   "metadata": {},
   "source": [
    "* [Notebook](./010-infection-dynamics-curve-fitting.ipynb)"
   ]
  },
  {
   "cell_type": "markdown",
   "metadata": {},
   "source": [
    "## Infection Dynamics: R-Value Estimation\n",
    "\n",
    "* [Tracking R of COVID-19](https://papers.ssrn.com/sol3/papers.cfm?abstract_id=3581633)\n",
    "    * [Real-Time Estimates of the Effective Reproduction Rate (R ) of COVID-19](http://trackingr-env.eba-9muars8y.us-east-2.elasticbeanstalk.com/)"
   ]
  },
  {
   "cell_type": "markdown",
   "metadata": {},
   "source": [
    "## Further Reading\n",
    "\n",
    "* Infection Dynamic Models\n",
    "    * [Institute for Health Metrics and Evaluation (IHME)](https://en.wikipedia.org/wiki/Institute_for_Health_Metrics_and_Evaluation)\n",
    "        * [IHME model critizism](https://www.statnews.com/2020/04/17/influential-covid-19-model-uses-flawed-methods-shouldnt-guide-policies-critics-say/)\n",
    "    * [Beware R0 Variance](http://www.overcomingbias.com/2020/04/beware-r0-variance.html)\n",
    "    * [Corona Model with a Varying Infection Rate](https://github.com/meisserecon/corona)\n",
    "    * Model infections along social graph structure\n",
    "        * [Description](https://twitter.com/gro_tsen/status/1241745979663155203)\n",
    "        * [Code](https://github.com/Gro-Tsen/epidemiology/blob/master/run-epidemic.pl)\n",
    "        * [Percolation Threshold](https://en.wikipedia.org/wiki/Percolation_threshold)\n",
    "    * [Modeling COVID-19 on a network: super-spreaders, testing and containment](https://drive.google.com/file/d/1VMVom32Ba4CbhTYywR7CJi2FMkn04-N0/view)\n",
    "* [Nowcasting](https://corona.stat.uni-muenchen.de/nowcast/)\n",
    "* [Corona-Pandemie: Die Mathematik hinter den Reproduktionszahlen R](https://www.heise.de/newsticker/meldung/Corona-Pandemie-Die-Mathematik-hinter-den-Reproduktionszahlen-R-4712676.html)"
   ]
  }
 ],
 "metadata": {
  "kernelspec": {
   "display_name": "Python 3",
   "language": "python",
   "name": "python3"
  },
  "language_info": {
   "codemirror_mode": {
    "name": "ipython",
    "version": 3
   },
   "file_extension": ".py",
   "mimetype": "text/x-python",
   "name": "python",
   "nbconvert_exporter": "python",
   "pygments_lexer": "ipython3",
   "version": "3.6.10"
  }
 },
 "nbformat": 4,
 "nbformat_minor": 4
}
