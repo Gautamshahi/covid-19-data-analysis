{
 "cells": [
  {
   "cell_type": "code",
   "execution_count": 19,
   "metadata": {},
   "outputs": [
    {
     "data": {
      "text/html": [
       "<style>.container { width:70% !important; }</style>"
      ],
      "text/plain": [
       "<IPython.core.display.HTML object>"
      ]
     },
     "metadata": {},
     "output_type": "display_data"
    }
   ],
   "source": [
    "from IPython.display import display, HTML\n",
    "\n",
    "display(HTML(\"<style>.container { width:70% !important; }</style>\"))"
   ]
  },
  {
   "cell_type": "markdown",
   "metadata": {},
   "source": [
    "# Covid-19\n",
    "\n",
    "1. Data Sources\n",
    "1. Infection Dynamcis\n",
    "    1. Curve Fitting\n",
    "    1. R-Value Estimation\n",
    "1. Case Fatality Rate (CFR)\n",
    "    1. Via Shift-And-Scale\n",
    "    1. Via Survival Analysis"
   ]
  },
  {
   "cell_type": "markdown",
   "metadata": {},
   "source": [
    "## Data Sources\n",
    "\n",
    "* [COVID-19 Data Repository by the Center for Systems Science and Engineering (CSSE) at Johns Hopkins University](https://github.com/CSSEGISandData/COVID-19)\n",
    "* [Data Against COVID-19](https://www.data-against-covid.org/)\n",
    "* [Germany/RKI](https://npgeo-corona-npgeo-de.hub.arcgis.com/datasets/dd4580c810204019a7b8eb3e0b329dd6_0)\n",
    "    * [Bayerisches Landesamt für Gesundheit und Lebensmittelsicherheit (LGL)](https://www.lgl.bayern.de/gesundheit/infektionsschutz/infektionskrankheiten_a_z/coronavirus/karte_coronavirus/index.htm) via screen-scraping\n",
    "* [Austria](https://covid-19-drp-austria.hub.arcgis.com/datasets/covid19-verlauf-bundesland)\n",
    "* [Italy](https://github.com/pcm-dpc/COVID-19/blob/master/dati-andamento-nazionale/dpc-covid19-ita-andamento-nazionale.csv)\n",
    "* [Spain](https://github.com/datadista/datasets/blob/master/COVID%2019/nacional_covid19.csv)\n",
    "* [France](https://github.com/opencovid19-fr/data/blob/master/dist/chiffres-cles.csv)"
   ]
  },
  {
   "cell_type": "markdown",
   "metadata": {},
   "source": [
    "## Infection Dynamics: Curve Fitting\n",
    "\n",
    "[Markus Noga](https://www.linkedin.com/in/mlnoga/)'s (SAP: AI and cloud thought leader) [covid19-analysis](https://mlnoga.github.io/covid19-analysis/)"
   ]
  },
  {
   "cell_type": "markdown",
   "metadata": {},
   "source": [
    "* [Notebook](./010-infection-dynamics-curve-fitting.ipynb)"
   ]
  },
  {
   "cell_type": "markdown",
   "metadata": {},
   "source": [
    "## Infection Dynamics: R-Value Estimation\n",
    "\n",
    "* Paper: [Tracking R of COVID-19](https://papers.ssrn.com/sol3/papers.cfm?abstract_id=3581633)\n",
    "    * [Real-Time Estimates of the Effective Reproduction Rate (R ) of COVID-19](http://trackingr-env.eba-9muars8y.us-east-2.elasticbeanstalk.com/)"
   ]
  },
  {
   "cell_type": "markdown",
   "metadata": {},
   "source": [
    "* [Notebook](./020-infection-dynamics-r-value-estimation)"
   ]
  },
  {
   "cell_type": "markdown",
   "metadata": {},
   "source": [
    "## Case Fatality Rate (CFR)\n",
    "\n",
    "* [Zahlen, bitte! 3,4 % Coronavirus-Fallsterblichkeit, eine \"false Number\"? Etwas Pandemie-Statistik](https://www.heise.de/newsticker/meldung/Zahlen-bitte-3-4-Coronavirus-Fallsterblichkeit-False-Number-4679338.html?seite=all)\n",
    "\n",
    "### Timeline of infection to death\n",
    "\n",
    "* [Estimates of the severity of coronavirus disease 2019: a model-based analysis](https://www.thelancet.com/journals/laninf/article/PIIS1473-3099(20)30243-7/fulltext)\n",
    "    * duration from onset of symptoms to death to be 17·8 days (95% credible interval [CrI] 16·9–19·2)\n",
    "    * to hospital discharge to be 24·7 days (22·9–28·1).\n",
    "* [Estimating SARS-COV-2 infections](https://observablehq.com/@danyx/estimating-sars-cov-2-infections)\n",
    "    * it takes on average 23 days from infection to death.\n",
    "    * ~5 days from infection to symptoms and ~18 days from symptoms to death so we arrive at a default value of 23 days from infection to death\n",
    "* [Characteristics of COVID-19 patients dying in Italy Report based on available data on March 20th, 2020](https://www.epicentro.iss.it/coronavirus/bollettino/Report-COVID-2019_20_marzo_eng.pdf)\n",
    "    * Median number of days between onset of symptoms to death: 8\n",
    "    * Median number of days between onset of symptoms to hospitalization: 4\n",
    "* [Clinical course and risk factors for mortality of adult inpatients with COVID-19 in Wuhan, China: a retrospective cohort study](https://www.thelancet.com/journals/lancet/article/PIIS0140-6736(20)30566-3/fulltext)\n",
    "    * Time from illness onset to hospital admission, days\t11·0 (8·0–14·0)\n",
    "* [Coronavirus: how quickly do COVID-19 symptoms develop and how long do they last?](https://patient.info/news-and-features/coronavirus-how-quickly-do-covid-19-symptoms-develop-and-how-long-do-they-last)\n",
    "    * ~5 days from infection to symptoms\n"
   ]
  },
  {
   "cell_type": "markdown",
   "metadata": {},
   "source": [
    "## Regular updated overview for several countries\n",
    "\n",
    "* [covid-19-data-analysis](https://github.com/cs224/covid-19-data-analysis)\n",
    "    * [covid-19-data-analysis.ipynb](https://nbviewer.jupyter.org/github/cs224/covid-19-data-analysis/blob/master/covid-19-data-analysis.ipynb?flush_cache=true)\n",
    "    * [covid-19-survival.ipynb](https://nbviewer.jupyter.org/github/cs224/covid-19-data-analysis/blob/master/covid-19-survival.ipynb?flush_cache=true)\n",
    "    * [covid-19-rki-data.ipynb](https://nbviewer.jupyter.org/github/cs224/covid-19-data-analysis/blob/master/covid-19-rki-data.ipynb?flush_cache=true)"
   ]
  },
  {
   "cell_type": "markdown",
   "metadata": {},
   "source": [
    "## Further Reading\n",
    "\n",
    "* Infection Dynamic Models\n",
    "    * [Institute for Health Metrics and Evaluation (IHME)](https://en.wikipedia.org/wiki/Institute_for_Health_Metrics_and_Evaluation)\n",
    "        * [IHME model critizism](https://www.statnews.com/2020/04/17/influential-covid-19-model-uses-flawed-methods-shouldnt-guide-policies-critics-say/)\n",
    "    * [Beware R0 Variance](http://www.overcomingbias.com/2020/04/beware-r0-variance.html)\n",
    "    * [Corona Model with a Varying Infection Rate](https://github.com/meisserecon/corona)\n",
    "    * Model infections along social graph structure\n",
    "        * [Description](https://twitter.com/gro_tsen/status/1241745979663155203)\n",
    "        * [Code](https://github.com/Gro-Tsen/epidemiology/blob/master/run-epidemic.pl)\n",
    "        * [Percolation Threshold](https://en.wikipedia.org/wiki/Percolation_threshold)\n",
    "    * [Modeling COVID-19 on a network: super-spreaders, testing and containment](https://drive.google.com/file/d/1VMVom32Ba4CbhTYywR7CJi2FMkn04-N0/view)\n",
    "* [Corona-Pandemie: Die Mathematik hinter den Reproduktionszahlen R](https://www.heise.de/newsticker/meldung/Corona-Pandemie-Die-Mathematik-hinter-den-Reproduktionszahlen-R-4712676.html)\n",
    "    * [Nowcasting](https://corona.stat.uni-muenchen.de/nowcast/)"
   ]
  },
  {
   "cell_type": "code",
   "execution_count": null,
   "metadata": {},
   "outputs": [],
   "source": []
  }
 ],
 "metadata": {
  "kernelspec": {
   "display_name": "Python 3",
   "language": "python",
   "name": "python3"
  },
  "language_info": {
   "codemirror_mode": {
    "name": "ipython",
    "version": 3
   },
   "file_extension": ".py",
   "mimetype": "text/x-python",
   "name": "python",
   "nbconvert_exporter": "python",
   "pygments_lexer": "ipython3",
   "version": "3.6.10"
  }
 },
 "nbformat": 4,
 "nbformat_minor": 4
}
